{
  "nbformat": 4,
  "nbformat_minor": 0,
  "metadata": {
    "colab": {
      "provenance": []
    },
    "kernelspec": {
      "name": "python3",
      "display_name": "Python 3"
    },
    "language_info": {
      "name": "python"
    }
  },
  "cells": [
    {
      "cell_type": "code",
      "execution_count": null,
      "metadata": {
        "id": "FiUx2zTz6-Ra"
      },
      "outputs": [],
      "source": [
        "! pip install pyLDAvis gensim spacy"
      ]
    },
    {
      "cell_type": "code",
      "source": [
        "pip install pyldavis"
      ],
      "metadata": {
        "id": "p0X7Gutb5MQF",
        "colab": {
          "base_uri": "https://localhost:8080/"
        },
        "outputId": "bd1ff2fa-4d6c-4c2d-8f67-0d5bcafec9d2"
      },
      "execution_count": 1,
      "outputs": [
        {
          "output_type": "stream",
          "name": "stdout",
          "text": [
            "Collecting pyldavis\n",
            "  Downloading pyLDAvis-3.4.1-py3-none-any.whl (2.6 MB)\n",
            "\u001b[2K     \u001b[90m━━━━━━━━━━━━━━━━━━━━━━━━━━━━━━━━━━━━━━━━\u001b[0m \u001b[32m2.6/2.6 MB\u001b[0m \u001b[31m10.8 MB/s\u001b[0m eta \u001b[36m0:00:00\u001b[0m\n",
            "\u001b[?25hRequirement already satisfied: numpy>=1.24.2 in /usr/local/lib/python3.10/dist-packages (from pyldavis) (1.25.2)\n",
            "Requirement already satisfied: scipy in /usr/local/lib/python3.10/dist-packages (from pyldavis) (1.11.4)\n",
            "Collecting pandas>=2.0.0 (from pyldavis)\n",
            "  Downloading pandas-2.2.1-cp310-cp310-manylinux_2_17_x86_64.manylinux2014_x86_64.whl (13.0 MB)\n",
            "\u001b[2K     \u001b[90m━━━━━━━━━━━━━━━━━━━━━━━━━━━━━━━━━━━━━━━━\u001b[0m \u001b[32m13.0/13.0 MB\u001b[0m \u001b[31m48.1 MB/s\u001b[0m eta \u001b[36m0:00:00\u001b[0m\n",
            "\u001b[?25hRequirement already satisfied: joblib>=1.2.0 in /usr/local/lib/python3.10/dist-packages (from pyldavis) (1.3.2)\n",
            "Requirement already satisfied: jinja2 in /usr/local/lib/python3.10/dist-packages (from pyldavis) (3.1.3)\n",
            "Requirement already satisfied: numexpr in /usr/local/lib/python3.10/dist-packages (from pyldavis) (2.9.0)\n",
            "Collecting funcy (from pyldavis)\n",
            "  Downloading funcy-2.0-py2.py3-none-any.whl (30 kB)\n",
            "Requirement already satisfied: scikit-learn>=1.0.0 in /usr/local/lib/python3.10/dist-packages (from pyldavis) (1.2.2)\n",
            "Requirement already satisfied: gensim in /usr/local/lib/python3.10/dist-packages (from pyldavis) (4.3.2)\n",
            "Requirement already satisfied: setuptools in /usr/local/lib/python3.10/dist-packages (from pyldavis) (67.7.2)\n",
            "Requirement already satisfied: python-dateutil>=2.8.2 in /usr/local/lib/python3.10/dist-packages (from pandas>=2.0.0->pyldavis) (2.8.2)\n",
            "Requirement already satisfied: pytz>=2020.1 in /usr/local/lib/python3.10/dist-packages (from pandas>=2.0.0->pyldavis) (2023.4)\n",
            "Collecting tzdata>=2022.7 (from pandas>=2.0.0->pyldavis)\n",
            "  Downloading tzdata-2024.1-py2.py3-none-any.whl (345 kB)\n",
            "\u001b[2K     \u001b[90m━━━━━━━━━━━━━━━━━━━━━━━━━━━━━━━━━━━━━━━━\u001b[0m \u001b[32m345.4/345.4 kB\u001b[0m \u001b[31m31.3 MB/s\u001b[0m eta \u001b[36m0:00:00\u001b[0m\n",
            "\u001b[?25hRequirement already satisfied: threadpoolctl>=2.0.0 in /usr/local/lib/python3.10/dist-packages (from scikit-learn>=1.0.0->pyldavis) (3.3.0)\n",
            "Requirement already satisfied: smart-open>=1.8.1 in /usr/local/lib/python3.10/dist-packages (from gensim->pyldavis) (6.4.0)\n",
            "Requirement already satisfied: MarkupSafe>=2.0 in /usr/local/lib/python3.10/dist-packages (from jinja2->pyldavis) (2.1.5)\n",
            "Requirement already satisfied: six>=1.5 in /usr/local/lib/python3.10/dist-packages (from python-dateutil>=2.8.2->pandas>=2.0.0->pyldavis) (1.16.0)\n",
            "Installing collected packages: funcy, tzdata, pandas, pyldavis\n",
            "  Attempting uninstall: pandas\n",
            "    Found existing installation: pandas 1.5.3\n",
            "    Uninstalling pandas-1.5.3:\n",
            "      Successfully uninstalled pandas-1.5.3\n",
            "\u001b[31mERROR: pip's dependency resolver does not currently take into account all the packages that are installed. This behaviour is the source of the following dependency conflicts.\n",
            "bigframes 0.26.0 requires pandas<2.1.4,>=1.5.0, but you have pandas 2.2.1 which is incompatible.\n",
            "google-colab 1.0.0 requires pandas==1.5.3, but you have pandas 2.2.1 which is incompatible.\u001b[0m\u001b[31m\n",
            "\u001b[0mSuccessfully installed funcy-2.0 pandas-2.2.1 pyldavis-3.4.1 tzdata-2024.1\n"
          ]
        }
      ]
    },
    {
      "cell_type": "markdown",
      "source": [
        "**#import library**"
      ],
      "metadata": {
        "id": "9Q1ZWhm_mQW3"
      }
    },
    {
      "cell_type": "code",
      "source": [
        "import pandas as pd\n",
        "import re\n",
        "from gensim.utils import simple_preprocess\n",
        "from gensim.parsing.preprocessing import STOPWORDS\n",
        "from gensim.models import Phrases\n",
        "import spacy\n",
        "from collections import defaultdict\n",
        "from gensim import corpora, models\n",
        "from gensim.models import CoherenceModel\n",
        "import pyLDAvis\n",
        "import pyLDAvis.gensim_models as gensimvis"
      ],
      "metadata": {
        "id": "zpCZjpf77CuO"
      },
      "execution_count": 2,
      "outputs": []
    },
    {
      "cell_type": "markdown",
      "source": [
        "**#include and read the json file**"
      ],
      "metadata": {
        "id": "0P7QYre-mWGK"
      }
    },
    {
      "cell_type": "code",
      "source": [
        "file_path = \"https://raw.githubusercontent.com/pujan08/news_modeling/main/newsgroups.json\"\n",
        "df = pd.read_json(file_path)"
      ],
      "metadata": {
        "id": "lTonH5cd7OpB",
        "colab": {
          "base_uri": "https://localhost:8080/"
        },
        "outputId": "2cf30510-1647-4afc-d583-0d2995cce524"
      },
      "execution_count": 3,
      "outputs": [
        {
          "output_type": "stream",
          "name": "stderr",
          "text": [
            "/usr/local/lib/python3.10/dist-packages/ipykernel/ipkernel.py:283: DeprecationWarning: `should_run_async` will not call `transform_cell` automatically in the future. Please pass the result to `transformed_cell` argument and any exception that happen during thetransform in `preprocessing_exc_tuple` in IPython 7.17 and above.\n",
            "  and should_run_async(code)\n"
          ]
        }
      ]
    },
    {
      "cell_type": "markdown",
      "source": [
        "**#Preprocess the data**"
      ],
      "metadata": {
        "id": "HZ9MXJczmeuP"
      }
    },
    {
      "cell_type": "markdown",
      "source": [
        "**#Remove email address**"
      ],
      "metadata": {
        "id": "UPA1fj5tmjXr"
      }
    },
    {
      "cell_type": "code",
      "source": [
        "# Define a function to remove email addresses from text\n",
        "def remove_emails(text):\n",
        "    # Define the regex pattern for detecting email addresses\n",
        "    pattern = r'\\b[A-Za-z0-9._%+-]+@[A-Za-z0-9.-]+\\.[A-Z|a-z]{2,}\\b'\n",
        "    # Replace email addresses with an empty string\n",
        "    return re.sub(pattern, '', text)\n",
        "# Apply remove_emails function to each text in the DataFrame\n",
        "df['content'] = df['content'].apply(remove_emails)"
      ],
      "metadata": {
        "colab": {
          "base_uri": "https://localhost:8080/"
        },
        "id": "3NmzZ0YU7HfT",
        "outputId": "7a6432b6-14b8-4719-c2eb-9a91d429a8ae"
      },
      "execution_count": 4,
      "outputs": [
        {
          "output_type": "stream",
          "name": "stderr",
          "text": [
            "/usr/local/lib/python3.10/dist-packages/ipykernel/ipkernel.py:283: DeprecationWarning: `should_run_async` will not call `transform_cell` automatically in the future. Please pass the result to `transformed_cell` argument and any exception that happen during thetransform in `preprocessing_exc_tuple` in IPython 7.17 and above.\n",
            "  and should_run_async(code)\n"
          ]
        }
      ]
    },
    {
      "cell_type": "markdown",
      "source": [
        "**#Newline Removal**"
      ],
      "metadata": {
        "id": "VLDonJe0mzif"
      }
    },
    {
      "cell_type": "code",
      "source": [
        "def remove_newlines(text):\n",
        "    # Define the regex pattern for detecting newline characters\n",
        "    pattern = r'\\n'\n",
        "    # Replace newline characters with a space\n",
        "    return re.sub(pattern, ' ', text)\n",
        "# Apply remove_newlines function to each text in the DataFrame\n",
        "df['content'] = df['content'].apply(remove_newlines)\n",
        "# Display the cleaned texts\n",
        "for index, row in df.head().iterrows():\n",
        "    print(f\"Text {index}: {row['content']}\\n\")"
      ],
      "metadata": {
        "colab": {
          "base_uri": "https://localhost:8080/"
        },
        "id": "baQKVrlpm1bD",
        "outputId": "6ac1bdc9-2168-45ad-cf1f-20e6556292bd"
      },
      "execution_count": 5,
      "outputs": [
        {
          "output_type": "stream",
          "name": "stdout",
          "text": [
            "Text 0: From:  (where's my thing) Subject: WHAT car is this!? Nntp-Posting-Host: rac3.wam.umd.edu Organization: University of Maryland, College Park Lines: 15   I was wondering if anyone out there could enlighten me on this car I saw the other day. It was a 2-door sports car, looked to be from the late 60s/ early 70s. It was called a Bricklin. The doors were really small. In addition, the front bumper was separate from the rest of the body. This is  all I know. If anyone can tellme a model name, engine specs, years of production, where this car is made, history, or whatever info you have on this funky looking car, please e-mail.  Thanks, - IL    ---- brought to you by your neighborhood Lerxst ----     \n",
            "\n",
            "Text 1: From:  (Guy Kuo) Subject: SI Clock Poll - Final Call Summary: Final call for SI clock reports Keywords: SI,acceleration,clock,upgrade Article-I.D.: shelley.1qvfo9INNc3s Organization: University of Washington Lines: 11 NNTP-Posting-Host: carson.u.washington.edu  A fair number of brave souls who upgraded their SI clock oscillator have shared their experiences for this poll. Please send a brief message detailing your experiences with the procedure. Top speed attained, CPU rated speed, add on cards and adapters, heat sinks, hour of usage per day, floppy disk functionality with 800 and 1.4 m floppies are especially requested.  I will be summarizing in the next two days, so please add to the network knowledge base if you have done the clock upgrade and haven't answered this poll. Thanks.  Guy Kuo <> \n",
            "\n",
            "Text 2: From:  (Thomas E Willis) Subject: PB questions... Organization: Purdue University Engineering Computer Network Distribution: usa Lines: 36  well folks, my mac plus finally gave up the ghost this weekend after starting life as a 512k way back in 1985.  sooo, i'm in the market for a new machine a bit sooner than i intended to be...  i'm looking into picking up a powerbook 160 or maybe 180 and have a bunch of questions that (hopefully) somebody can answer:  * does anybody know any dirt on when the next round of powerbook introductions are expected?  i'd heard the 185c was supposed to make an appearence \"this summer\" but haven't heard anymore on it - and since i don't have access to macleak, i was wondering if anybody out there had more info...  * has anybody heard rumors about price drops to the powerbook line like the ones the duo's just went through recently?  * what's the impression of the display on the 180?  i could probably swing a 180 if i got the 80Mb disk rather than the 120, but i don't really have a feel for how much \"better\" the display is (yea, it looks great in the store, but is that all \"wow\" or is it really that good?).  could i solicit some opinions of people who use the 160 and 180 day-to-day on if its worth taking the disk size and money hit to get the active display?  (i realize this is a real subjective question, but i've only played around with the machines in a computer store breifly and figured the opinions of somebody who actually uses the machine daily might prove helpful).  * how well does hellcats perform?  ;)  thanks a bunch in advance for any info - if you could email, i'll post a summary (news reading time is at a premium with finals just around the corner... :( ) -- Tom Willis  \\      \\    Purdue Electrical Engineering --------------------------------------------------------------------------- \"Convictions are more dangerous enemies of truth than lies.\"  - F. W. Nietzsche \n",
            "\n",
            "Text 3: From: jgreen@amber (Joe Green) Subject: Re: Weitek P9000 ? Organization: Harris Computer Systems Division Lines: 14 Distribution: world NNTP-Posting-Host: amber.ssd.csd.harris.com X-Newsreader: TIN [version 1.1 PL9]  Robert J.C. Kyanko () wrote: >  writes in article <>: > > Anyone know about the Weitek P9000 graphics chip? > As far as the low-level stuff goes, it looks pretty nice.  It's got this > quadrilateral fill command that requires just the four points.  Do you have Weitek's address/phone number?  I'd like to get some information about this chip.  -- Joe Green\t\t\t\tHarris Corporation \t\t\tComputer Systems Division \"The only thing that really scares me is a person with no sense of humor.\" \t\t\t\t\t\t-- Jonathan Winters \n",
            "\n",
            "Text 4: From:  (Jonathan McDowell) Subject: Re: Shuttle Launch Question Organization: Smithsonian Astrophysical Observatory, Cambridge, MA,  USA Distribution: sci Lines: 23  From article <>, by  (Tom A Baker): >>In article <>,  (Pack Rat) writes... >>>\"Clear caution & warning memory.  Verify no unexpected >>>errors. ...\".  I am wondering what an \"expected error\" might >>>be.  Sorry if this is a really dumb question, but >  > Parity errors in memory or previously known conditions that were waivered. >    \"Yes that is an error, but we already knew about it\" > I'd be curious as to what the real meaning of the quote is. >  > tom   My understanding is that the 'expected errors' are basically known bugs in the warning system software - things are checked that don't have the right values in yet because they aren't set till after launch, and suchlike. Rather than fix the code and possibly introduce new bugs, they just tell the crew 'ok, if you see a warning no. 213 before liftoff, ignore it'.   - Jonathan   \n",
            "\n"
          ]
        },
        {
          "output_type": "stream",
          "name": "stderr",
          "text": [
            "/usr/local/lib/python3.10/dist-packages/ipykernel/ipkernel.py:283: DeprecationWarning: `should_run_async` will not call `transform_cell` automatically in the future. Please pass the result to `transformed_cell` argument and any exception that happen during thetransform in `preprocessing_exc_tuple` in IPython 7.17 and above.\n",
            "  and should_run_async(code)\n"
          ]
        }
      ]
    },
    {
      "cell_type": "markdown",
      "source": [
        "**#Single Quotes Removal**"
      ],
      "metadata": {
        "id": "YKdAp1D8m8FA"
      }
    },
    {
      "cell_type": "code",
      "source": [
        "def remove_single_quotes(text):\n",
        "    # Define the regex pattern for detecting single quotes\n",
        "    pattern = r\"'\"\n",
        "    # Replace single quotes with an empty string\n",
        "    return re.sub(pattern, '', text)\n",
        "df['content'] = df['content'].apply(remove_single_quotes)\n",
        "\n",
        "# Display the cleaned texts\n",
        "for index, row in df.head().iterrows():\n",
        "    print(f\"Text {index}: {row['content']}\\n\")"
      ],
      "metadata": {
        "colab": {
          "base_uri": "https://localhost:8080/"
        },
        "id": "lmmygMR7nA5K",
        "outputId": "b0c64191-9837-4239-dbbe-f8c6185bccc7"
      },
      "execution_count": 6,
      "outputs": [
        {
          "output_type": "stream",
          "name": "stdout",
          "text": [
            "Text 0: From:  (wheres my thing) Subject: WHAT car is this!? Nntp-Posting-Host: rac3.wam.umd.edu Organization: University of Maryland, College Park Lines: 15   I was wondering if anyone out there could enlighten me on this car I saw the other day. It was a 2-door sports car, looked to be from the late 60s/ early 70s. It was called a Bricklin. The doors were really small. In addition, the front bumper was separate from the rest of the body. This is  all I know. If anyone can tellme a model name, engine specs, years of production, where this car is made, history, or whatever info you have on this funky looking car, please e-mail.  Thanks, - IL    ---- brought to you by your neighborhood Lerxst ----     \n",
            "\n",
            "Text 1: From:  (Guy Kuo) Subject: SI Clock Poll - Final Call Summary: Final call for SI clock reports Keywords: SI,acceleration,clock,upgrade Article-I.D.: shelley.1qvfo9INNc3s Organization: University of Washington Lines: 11 NNTP-Posting-Host: carson.u.washington.edu  A fair number of brave souls who upgraded their SI clock oscillator have shared their experiences for this poll. Please send a brief message detailing your experiences with the procedure. Top speed attained, CPU rated speed, add on cards and adapters, heat sinks, hour of usage per day, floppy disk functionality with 800 and 1.4 m floppies are especially requested.  I will be summarizing in the next two days, so please add to the network knowledge base if you have done the clock upgrade and havent answered this poll. Thanks.  Guy Kuo <> \n",
            "\n",
            "Text 2: From:  (Thomas E Willis) Subject: PB questions... Organization: Purdue University Engineering Computer Network Distribution: usa Lines: 36  well folks, my mac plus finally gave up the ghost this weekend after starting life as a 512k way back in 1985.  sooo, im in the market for a new machine a bit sooner than i intended to be...  im looking into picking up a powerbook 160 or maybe 180 and have a bunch of questions that (hopefully) somebody can answer:  * does anybody know any dirt on when the next round of powerbook introductions are expected?  id heard the 185c was supposed to make an appearence \"this summer\" but havent heard anymore on it - and since i dont have access to macleak, i was wondering if anybody out there had more info...  * has anybody heard rumors about price drops to the powerbook line like the ones the duos just went through recently?  * whats the impression of the display on the 180?  i could probably swing a 180 if i got the 80Mb disk rather than the 120, but i dont really have a feel for how much \"better\" the display is (yea, it looks great in the store, but is that all \"wow\" or is it really that good?).  could i solicit some opinions of people who use the 160 and 180 day-to-day on if its worth taking the disk size and money hit to get the active display?  (i realize this is a real subjective question, but ive only played around with the machines in a computer store breifly and figured the opinions of somebody who actually uses the machine daily might prove helpful).  * how well does hellcats perform?  ;)  thanks a bunch in advance for any info - if you could email, ill post a summary (news reading time is at a premium with finals just around the corner... :( ) -- Tom Willis  \\      \\    Purdue Electrical Engineering --------------------------------------------------------------------------- \"Convictions are more dangerous enemies of truth than lies.\"  - F. W. Nietzsche \n",
            "\n",
            "Text 3: From: jgreen@amber (Joe Green) Subject: Re: Weitek P9000 ? Organization: Harris Computer Systems Division Lines: 14 Distribution: world NNTP-Posting-Host: amber.ssd.csd.harris.com X-Newsreader: TIN [version 1.1 PL9]  Robert J.C. Kyanko () wrote: >  writes in article <>: > > Anyone know about the Weitek P9000 graphics chip? > As far as the low-level stuff goes, it looks pretty nice.  Its got this > quadrilateral fill command that requires just the four points.  Do you have Weiteks address/phone number?  Id like to get some information about this chip.  -- Joe Green\t\t\t\tHarris Corporation \t\t\tComputer Systems Division \"The only thing that really scares me is a person with no sense of humor.\" \t\t\t\t\t\t-- Jonathan Winters \n",
            "\n",
            "Text 4: From:  (Jonathan McDowell) Subject: Re: Shuttle Launch Question Organization: Smithsonian Astrophysical Observatory, Cambridge, MA,  USA Distribution: sci Lines: 23  From article <>, by  (Tom A Baker): >>In article <>,  (Pack Rat) writes... >>>\"Clear caution & warning memory.  Verify no unexpected >>>errors. ...\".  I am wondering what an \"expected error\" might >>>be.  Sorry if this is a really dumb question, but >  > Parity errors in memory or previously known conditions that were waivered. >    \"Yes that is an error, but we already knew about it\" > Id be curious as to what the real meaning of the quote is. >  > tom   My understanding is that the expected errors are basically known bugs in the warning system software - things are checked that dont have the right values in yet because they arent set till after launch, and suchlike. Rather than fix the code and possibly introduce new bugs, they just tell the crew ok, if you see a warning no. 213 before liftoff, ignore it.   - Jonathan   \n",
            "\n"
          ]
        },
        {
          "output_type": "stream",
          "name": "stderr",
          "text": [
            "/usr/local/lib/python3.10/dist-packages/ipykernel/ipkernel.py:283: DeprecationWarning: `should_run_async` will not call `transform_cell` automatically in the future. Please pass the result to `transformed_cell` argument and any exception that happen during thetransform in `preprocessing_exc_tuple` in IPython 7.17 and above.\n",
            "  and should_run_async(code)\n"
          ]
        }
      ]
    },
    {
      "cell_type": "markdown",
      "source": [
        "#Tokenize\n",
        "\n",
        "\n",
        "> **Create sent_to_words()**\n",
        "    > Use gensim.utils.simple_preprocess,\n",
        "    > Use generator instead of an usual function\n",
        "\n",
        "\n",
        "\n",
        "\n",
        "\n",
        "\n",
        "\n",
        "\n",
        "\n",
        "\n",
        "\n",
        "\n"
      ],
      "metadata": {
        "id": "NM14bTq8nQVJ"
      }
    },
    {
      "cell_type": "code",
      "source": [
        "def sent_to_words(sentences):\n",
        "    for sentence in sentences:\n",
        "        yield(simple_preprocess(str(sentence), deacc=True))  # deacc=True removes punctuations\n",
        "# Tokenize each sentence into words\n",
        "data_words = list(sent_to_words(df['content']))\n",
        "# Display the tokenized words\n",
        "for i, words in enumerate(data_words[:5]):  # Displaying first 5 documents\n",
        "    print(f\"Document {i+1}: {words}\\n\")"
      ],
      "metadata": {
        "colab": {
          "base_uri": "https://localhost:8080/"
        },
        "id": "gtz3u_ZwnxV3",
        "outputId": "9215693a-a73d-4d76-af08-104294674f95"
      },
      "execution_count": 7,
      "outputs": [
        {
          "output_type": "stream",
          "name": "stderr",
          "text": [
            "/usr/local/lib/python3.10/dist-packages/ipykernel/ipkernel.py:283: DeprecationWarning: `should_run_async` will not call `transform_cell` automatically in the future. Please pass the result to `transformed_cell` argument and any exception that happen during thetransform in `preprocessing_exc_tuple` in IPython 7.17 and above.\n",
            "  and should_run_async(code)\n"
          ]
        },
        {
          "output_type": "stream",
          "name": "stdout",
          "text": [
            "Document 1: ['from', 'wheres', 'my', 'thing', 'subject', 'what', 'car', 'is', 'this', 'nntp', 'posting', 'host', 'rac', 'wam', 'umd', 'edu', 'organization', 'university', 'of', 'maryland', 'college', 'park', 'lines', 'was', 'wondering', 'if', 'anyone', 'out', 'there', 'could', 'enlighten', 'me', 'on', 'this', 'car', 'saw', 'the', 'other', 'day', 'it', 'was', 'door', 'sports', 'car', 'looked', 'to', 'be', 'from', 'the', 'late', 'early', 'it', 'was', 'called', 'bricklin', 'the', 'doors', 'were', 'really', 'small', 'in', 'addition', 'the', 'front', 'bumper', 'was', 'separate', 'from', 'the', 'rest', 'of', 'the', 'body', 'this', 'is', 'all', 'know', 'if', 'anyone', 'can', 'tellme', 'model', 'name', 'engine', 'specs', 'years', 'of', 'production', 'where', 'this', 'car', 'is', 'made', 'history', 'or', 'whatever', 'info', 'you', 'have', 'on', 'this', 'funky', 'looking', 'car', 'please', 'mail', 'thanks', 'il', 'brought', 'to', 'you', 'by', 'your', 'neighborhood', 'lerxst']\n",
            "\n",
            "Document 2: ['from', 'guy', 'kuo', 'subject', 'si', 'clock', 'poll', 'final', 'call', 'summary', 'final', 'call', 'for', 'si', 'clock', 'reports', 'keywords', 'si', 'acceleration', 'clock', 'upgrade', 'article', 'shelley', 'qvfo', 'innc', 'organization', 'university', 'of', 'washington', 'lines', 'nntp', 'posting', 'host', 'carson', 'washington', 'edu', 'fair', 'number', 'of', 'brave', 'souls', 'who', 'upgraded', 'their', 'si', 'clock', 'oscillator', 'have', 'shared', 'their', 'experiences', 'for', 'this', 'poll', 'please', 'send', 'brief', 'message', 'detailing', 'your', 'experiences', 'with', 'the', 'procedure', 'top', 'speed', 'attained', 'cpu', 'rated', 'speed', 'add', 'on', 'cards', 'and', 'adapters', 'heat', 'sinks', 'hour', 'of', 'usage', 'per', 'day', 'floppy', 'disk', 'functionality', 'with', 'and', 'floppies', 'are', 'especially', 'requested', 'will', 'be', 'summarizing', 'in', 'the', 'next', 'two', 'days', 'so', 'please', 'add', 'to', 'the', 'network', 'knowledge', 'base', 'if', 'you', 'have', 'done', 'the', 'clock', 'upgrade', 'and', 'havent', 'answered', 'this', 'poll', 'thanks', 'guy', 'kuo']\n",
            "\n",
            "Document 3: ['from', 'thomas', 'willis', 'subject', 'pb', 'questions', 'organization', 'purdue', 'university', 'engineering', 'computer', 'network', 'distribution', 'usa', 'lines', 'well', 'folks', 'my', 'mac', 'plus', 'finally', 'gave', 'up', 'the', 'ghost', 'this', 'weekend', 'after', 'starting', 'life', 'as', 'way', 'back', 'in', 'sooo', 'im', 'in', 'the', 'market', 'for', 'new', 'machine', 'bit', 'sooner', 'than', 'intended', 'to', 'be', 'im', 'looking', 'into', 'picking', 'up', 'powerbook', 'or', 'maybe', 'and', 'have', 'bunch', 'of', 'questions', 'that', 'hopefully', 'somebody', 'can', 'answer', 'does', 'anybody', 'know', 'any', 'dirt', 'on', 'when', 'the', 'next', 'round', 'of', 'powerbook', 'introductions', 'are', 'expected', 'id', 'heard', 'the', 'was', 'supposed', 'to', 'make', 'an', 'appearence', 'this', 'summer', 'but', 'havent', 'heard', 'anymore', 'on', 'it', 'and', 'since', 'dont', 'have', 'access', 'to', 'macleak', 'was', 'wondering', 'if', 'anybody', 'out', 'there', 'had', 'more', 'info', 'has', 'anybody', 'heard', 'rumors', 'about', 'price', 'drops', 'to', 'the', 'powerbook', 'line', 'like', 'the', 'ones', 'the', 'duos', 'just', 'went', 'through', 'recently', 'whats', 'the', 'impression', 'of', 'the', 'display', 'on', 'the', 'could', 'probably', 'swing', 'if', 'got', 'the', 'mb', 'disk', 'rather', 'than', 'the', 'but', 'dont', 'really', 'have', 'feel', 'for', 'how', 'much', 'better', 'the', 'display', 'is', 'yea', 'it', 'looks', 'great', 'in', 'the', 'store', 'but', 'is', 'that', 'all', 'wow', 'or', 'is', 'it', 'really', 'that', 'good', 'could', 'solicit', 'some', 'opinions', 'of', 'people', 'who', 'use', 'the', 'and', 'day', 'to', 'day', 'on', 'if', 'its', 'worth', 'taking', 'the', 'disk', 'size', 'and', 'money', 'hit', 'to', 'get', 'the', 'active', 'display', 'realize', 'this', 'is', 'real', 'subjective', 'question', 'but', 'ive', 'only', 'played', 'around', 'with', 'the', 'machines', 'in', 'computer', 'store', 'breifly', 'and', 'figured', 'the', 'opinions', 'of', 'somebody', 'who', 'actually', 'uses', 'the', 'machine', 'daily', 'might', 'prove', 'helpful', 'how', 'well', 'does', 'hellcats', 'perform', 'thanks', 'bunch', 'in', 'advance', 'for', 'any', 'info', 'if', 'you', 'could', 'email', 'ill', 'post', 'summary', 'news', 'reading', 'time', 'is', 'at', 'premium', 'with', 'finals', 'just', 'around', 'the', 'corner', 'tom', 'willis', 'purdue', 'electrical', 'engineering', 'convictions', 'are', 'more', 'dangerous', 'enemies', 'of', 'truth', 'than', 'lies', 'nietzsche']\n",
            "\n",
            "Document 4: ['from', 'jgreen', 'amber', 'joe', 'green', 'subject', 're', 'weitek', 'organization', 'harris', 'computer', 'systems', 'division', 'lines', 'distribution', 'world', 'nntp', 'posting', 'host', 'amber', 'ssd', 'csd', 'harris', 'com', 'newsreader', 'tin', 'version', 'pl', 'robert', 'kyanko', 'wrote', 'writes', 'in', 'article', 'anyone', 'know', 'about', 'the', 'weitek', 'graphics', 'chip', 'as', 'far', 'as', 'the', 'low', 'level', 'stuff', 'goes', 'it', 'looks', 'pretty', 'nice', 'its', 'got', 'this', 'quadrilateral', 'fill', 'command', 'that', 'requires', 'just', 'the', 'four', 'points', 'do', 'you', 'have', 'weiteks', 'address', 'phone', 'number', 'id', 'like', 'to', 'get', 'some', 'information', 'about', 'this', 'chip', 'joe', 'green', 'harris', 'corporation', 'computer', 'systems', 'division', 'the', 'only', 'thing', 'that', 'really', 'scares', 'me', 'is', 'person', 'with', 'no', 'sense', 'of', 'humor', 'jonathan', 'winters']\n",
            "\n",
            "Document 5: ['from', 'jonathan', 'mcdowell', 'subject', 're', 'shuttle', 'launch', 'question', 'organization', 'smithsonian', 'astrophysical', 'observatory', 'cambridge', 'ma', 'usa', 'distribution', 'sci', 'lines', 'from', 'article', 'by', 'tom', 'baker', 'in', 'article', 'pack', 'rat', 'writes', 'clear', 'caution', 'warning', 'memory', 'verify', 'no', 'unexpected', 'errors', 'am', 'wondering', 'what', 'an', 'expected', 'error', 'might', 'be', 'sorry', 'if', 'this', 'is', 'really', 'dumb', 'question', 'but', 'parity', 'errors', 'in', 'memory', 'or', 'previously', 'known', 'conditions', 'that', 'were', 'waivered', 'yes', 'that', 'is', 'an', 'error', 'but', 'we', 'already', 'knew', 'about', 'it', 'id', 'be', 'curious', 'as', 'to', 'what', 'the', 'real', 'meaning', 'of', 'the', 'quote', 'is', 'tom', 'my', 'understanding', 'is', 'that', 'the', 'expected', 'errors', 'are', 'basically', 'known', 'bugs', 'in', 'the', 'warning', 'system', 'software', 'things', 'are', 'checked', 'that', 'dont', 'have', 'the', 'right', 'values', 'in', 'yet', 'because', 'they', 'arent', 'set', 'till', 'after', 'launch', 'and', 'suchlike', 'rather', 'than', 'fix', 'the', 'code', 'and', 'possibly', 'introduce', 'new', 'bugs', 'they', 'just', 'tell', 'the', 'crew', 'ok', 'if', 'you', 'see', 'warning', 'no', 'before', 'liftoff', 'ignore', 'it', 'jonathan']\n",
            "\n"
          ]
        }
      ]
    },
    {
      "cell_type": "markdown",
      "source": [
        "#Stop words Removal\n",
        "#Extend the stop words corpus with the from, subject, re, edu, use."
      ],
      "metadata": {
        "id": "hqiKFvK0n8V9"
      }
    },
    {
      "cell_type": "code",
      "source": [
        "\n",
        "# Define additional stop words\n",
        "additional_stopwords = {'from', 'subject', 're', 'edu', 'use'}\n",
        "# Extend the default stop words list with additional stop words\n",
        "STOPWORDS |= additional_stopwords\n",
        "def sent_to_words(sentences):\n",
        "    for sentence in sentences:\n",
        "        yield [word for word in simple_preprocess(str(sentence), deacc=True) if word not in STOPWORDS]\n",
        "data_words = sent_to_words(df['content'])\n",
        "# Display the tokenized words\n",
        "for i, words in enumerate(data_words):  # Iterate through the generator\n",
        "    if i < 5:  # Displaying first 5 documents\n",
        "        print(f\"Document {i+1}: {words}\\n\")\n",
        "    else:\n",
        "        break  # Stop iterating after the first 5 documents"
      ],
      "metadata": {
        "colab": {
          "base_uri": "https://localhost:8080/"
        },
        "id": "0qkMaytsn0Rx",
        "outputId": "b3d3c1a2-2a00-423d-fa97-d16f0a97a660"
      },
      "execution_count": 8,
      "outputs": [
        {
          "output_type": "stream",
          "name": "stdout",
          "text": [
            "Document 1: ['wheres', 'thing', 'car', 'nntp', 'posting', 'host', 'rac', 'wam', 'umd', 'organization', 'university', 'maryland', 'college', 'park', 'lines', 'wondering', 'enlighten', 'car', 'saw', 'day', 'door', 'sports', 'car', 'looked', 'late', 'early', 'called', 'bricklin', 'doors', 'small', 'addition', 'bumper', 'separate', 'rest', 'body', 'know', 'tellme', 'model', 'engine', 'specs', 'years', 'production', 'car', 'history', 'info', 'funky', 'looking', 'car', 'mail', 'thanks', 'il', 'brought', 'neighborhood', 'lerxst']\n",
            "\n",
            "Document 2: ['guy', 'kuo', 'si', 'clock', 'poll', 'final', 'summary', 'final', 'si', 'clock', 'reports', 'keywords', 'si', 'acceleration', 'clock', 'upgrade', 'article', 'shelley', 'qvfo', 'innc', 'organization', 'university', 'washington', 'lines', 'nntp', 'posting', 'host', 'carson', 'washington', 'fair', 'number', 'brave', 'souls', 'upgraded', 'si', 'clock', 'oscillator', 'shared', 'experiences', 'poll', 'send', 'brief', 'message', 'detailing', 'experiences', 'procedure', 'speed', 'attained', 'cpu', 'rated', 'speed', 'add', 'cards', 'adapters', 'heat', 'sinks', 'hour', 'usage', 'day', 'floppy', 'disk', 'functionality', 'floppies', 'especially', 'requested', 'summarizing', 'days', 'add', 'network', 'knowledge', 'base', 'clock', 'upgrade', 'havent', 'answered', 'poll', 'thanks', 'guy', 'kuo']\n",
            "\n",
            "Document 3: ['thomas', 'willis', 'pb', 'questions', 'organization', 'purdue', 'university', 'engineering', 'network', 'distribution', 'usa', 'lines', 'folks', 'mac', 'plus', 'finally', 'gave', 'ghost', 'weekend', 'starting', 'life', 'way', 'sooo', 'im', 'market', 'new', 'machine', 'bit', 'sooner', 'intended', 'im', 'looking', 'picking', 'powerbook', 'maybe', 'bunch', 'questions', 'hopefully', 'somebody', 'answer', 'anybody', 'know', 'dirt', 'round', 'powerbook', 'introductions', 'expected', 'id', 'heard', 'supposed', 'appearence', 'summer', 'havent', 'heard', 'anymore', 'dont', 'access', 'macleak', 'wondering', 'anybody', 'info', 'anybody', 'heard', 'rumors', 'price', 'drops', 'powerbook', 'line', 'like', 'ones', 'duos', 'went', 'recently', 'whats', 'impression', 'display', 'probably', 'swing', 'got', 'mb', 'disk', 'dont', 'feel', 'better', 'display', 'yea', 'looks', 'great', 'store', 'wow', 'good', 'solicit', 'opinions', 'people', 'day', 'day', 'worth', 'taking', 'disk', 'size', 'money', 'hit', 'active', 'display', 'realize', 'real', 'subjective', 'question', 'ive', 'played', 'machines', 'store', 'breifly', 'figured', 'opinions', 'somebody', 'actually', 'uses', 'machine', 'daily', 'prove', 'helpful', 'hellcats', 'perform', 'thanks', 'bunch', 'advance', 'info', 'email', 'ill', 'post', 'summary', 'news', 'reading', 'time', 'premium', 'finals', 'corner', 'tom', 'willis', 'purdue', 'electrical', 'engineering', 'convictions', 'dangerous', 'enemies', 'truth', 'lies', 'nietzsche']\n",
            "\n",
            "Document 4: ['jgreen', 'amber', 'joe', 'green', 'weitek', 'organization', 'harris', 'systems', 'division', 'lines', 'distribution', 'world', 'nntp', 'posting', 'host', 'amber', 'ssd', 'csd', 'harris', 'com', 'newsreader', 'tin', 'version', 'pl', 'robert', 'kyanko', 'wrote', 'writes', 'article', 'know', 'weitek', 'graphics', 'chip', 'far', 'low', 'level', 'stuff', 'goes', 'looks', 'pretty', 'nice', 'got', 'quadrilateral', 'command', 'requires', 'points', 'weiteks', 'address', 'phone', 'number', 'id', 'like', 'information', 'chip', 'joe', 'green', 'harris', 'corporation', 'systems', 'division', 'thing', 'scares', 'person', 'sense', 'humor', 'jonathan', 'winters']\n",
            "\n",
            "Document 5: ['jonathan', 'mcdowell', 'shuttle', 'launch', 'question', 'organization', 'smithsonian', 'astrophysical', 'observatory', 'cambridge', 'ma', 'usa', 'distribution', 'sci', 'lines', 'article', 'tom', 'baker', 'article', 'pack', 'rat', 'writes', 'clear', 'caution', 'warning', 'memory', 'verify', 'unexpected', 'errors', 'wondering', 'expected', 'error', 'sorry', 'dumb', 'question', 'parity', 'errors', 'memory', 'previously', 'known', 'conditions', 'waivered', 'yes', 'error', 'knew', 'id', 'curious', 'real', 'meaning', 'quote', 'tom', 'understanding', 'expected', 'errors', 'basically', 'known', 'bugs', 'warning', 'software', 'things', 'checked', 'dont', 'right', 'values', 'arent', 'set', 'till', 'launch', 'suchlike', 'fix', 'code', 'possibly', 'introduce', 'new', 'bugs', 'tell', 'crew', 'ok', 'warning', 'liftoff', 'ignore', 'jonathan']\n",
            "\n"
          ]
        },
        {
          "output_type": "stream",
          "name": "stderr",
          "text": [
            "/usr/local/lib/python3.10/dist-packages/ipykernel/ipkernel.py:283: DeprecationWarning: `should_run_async` will not call `transform_cell` automatically in the future. Please pass the result to `transformed_cell` argument and any exception that happen during thetransform in `preprocessing_exc_tuple` in IPython 7.17 and above.\n",
            "  and should_run_async(code)\n"
          ]
        }
      ]
    },
    {
      "cell_type": "markdown",
      "source": [
        "**#remove_stopwords( )**"
      ],
      "metadata": {
        "id": "emXX3_CCojGB"
      }
    },
    {
      "cell_type": "code",
      "source": [
        "def remove_stopwords(words):\n",
        "    return [word for word in words if word not in STOPWORDS]\n",
        "# Tokenize each sentence into words and remove stop words using the generator function\n",
        "data_words = sent_to_words(df['content'])\n",
        "\n",
        "# Display the tokenized words for the first 5 documents\n",
        "for i, words in enumerate(data_words):\n",
        "    if i < 5:\n",
        "        print(f\"Document {i+1}: {words}\\n\")\n",
        "    else:\n",
        "        break"
      ],
      "metadata": {
        "colab": {
          "base_uri": "https://localhost:8080/"
        },
        "id": "0hsxne-2omQC",
        "outputId": "d230206b-abc6-4715-efe2-d56c6d580612"
      },
      "execution_count": 9,
      "outputs": [
        {
          "output_type": "stream",
          "name": "stdout",
          "text": [
            "Document 1: ['wheres', 'thing', 'car', 'nntp', 'posting', 'host', 'rac', 'wam', 'umd', 'organization', 'university', 'maryland', 'college', 'park', 'lines', 'wondering', 'enlighten', 'car', 'saw', 'day', 'door', 'sports', 'car', 'looked', 'late', 'early', 'called', 'bricklin', 'doors', 'small', 'addition', 'bumper', 'separate', 'rest', 'body', 'know', 'tellme', 'model', 'engine', 'specs', 'years', 'production', 'car', 'history', 'info', 'funky', 'looking', 'car', 'mail', 'thanks', 'il', 'brought', 'neighborhood', 'lerxst']\n",
            "\n",
            "Document 2: ['guy', 'kuo', 'si', 'clock', 'poll', 'final', 'summary', 'final', 'si', 'clock', 'reports', 'keywords', 'si', 'acceleration', 'clock', 'upgrade', 'article', 'shelley', 'qvfo', 'innc', 'organization', 'university', 'washington', 'lines', 'nntp', 'posting', 'host', 'carson', 'washington', 'fair', 'number', 'brave', 'souls', 'upgraded', 'si', 'clock', 'oscillator', 'shared', 'experiences', 'poll', 'send', 'brief', 'message', 'detailing', 'experiences', 'procedure', 'speed', 'attained', 'cpu', 'rated', 'speed', 'add', 'cards', 'adapters', 'heat', 'sinks', 'hour', 'usage', 'day', 'floppy', 'disk', 'functionality', 'floppies', 'especially', 'requested', 'summarizing', 'days', 'add', 'network', 'knowledge', 'base', 'clock', 'upgrade', 'havent', 'answered', 'poll', 'thanks', 'guy', 'kuo']\n",
            "\n",
            "Document 3: ['thomas', 'willis', 'pb', 'questions', 'organization', 'purdue', 'university', 'engineering', 'network', 'distribution', 'usa', 'lines', 'folks', 'mac', 'plus', 'finally', 'gave', 'ghost', 'weekend', 'starting', 'life', 'way', 'sooo', 'im', 'market', 'new', 'machine', 'bit', 'sooner', 'intended', 'im', 'looking', 'picking', 'powerbook', 'maybe', 'bunch', 'questions', 'hopefully', 'somebody', 'answer', 'anybody', 'know', 'dirt', 'round', 'powerbook', 'introductions', 'expected', 'id', 'heard', 'supposed', 'appearence', 'summer', 'havent', 'heard', 'anymore', 'dont', 'access', 'macleak', 'wondering', 'anybody', 'info', 'anybody', 'heard', 'rumors', 'price', 'drops', 'powerbook', 'line', 'like', 'ones', 'duos', 'went', 'recently', 'whats', 'impression', 'display', 'probably', 'swing', 'got', 'mb', 'disk', 'dont', 'feel', 'better', 'display', 'yea', 'looks', 'great', 'store', 'wow', 'good', 'solicit', 'opinions', 'people', 'day', 'day', 'worth', 'taking', 'disk', 'size', 'money', 'hit', 'active', 'display', 'realize', 'real', 'subjective', 'question', 'ive', 'played', 'machines', 'store', 'breifly', 'figured', 'opinions', 'somebody', 'actually', 'uses', 'machine', 'daily', 'prove', 'helpful', 'hellcats', 'perform', 'thanks', 'bunch', 'advance', 'info', 'email', 'ill', 'post', 'summary', 'news', 'reading', 'time', 'premium', 'finals', 'corner', 'tom', 'willis', 'purdue', 'electrical', 'engineering', 'convictions', 'dangerous', 'enemies', 'truth', 'lies', 'nietzsche']\n",
            "\n",
            "Document 4: ['jgreen', 'amber', 'joe', 'green', 'weitek', 'organization', 'harris', 'systems', 'division', 'lines', 'distribution', 'world', 'nntp', 'posting', 'host', 'amber', 'ssd', 'csd', 'harris', 'com', 'newsreader', 'tin', 'version', 'pl', 'robert', 'kyanko', 'wrote', 'writes', 'article', 'know', 'weitek', 'graphics', 'chip', 'far', 'low', 'level', 'stuff', 'goes', 'looks', 'pretty', 'nice', 'got', 'quadrilateral', 'command', 'requires', 'points', 'weiteks', 'address', 'phone', 'number', 'id', 'like', 'information', 'chip', 'joe', 'green', 'harris', 'corporation', 'systems', 'division', 'thing', 'scares', 'person', 'sense', 'humor', 'jonathan', 'winters']\n",
            "\n",
            "Document 5: ['jonathan', 'mcdowell', 'shuttle', 'launch', 'question', 'organization', 'smithsonian', 'astrophysical', 'observatory', 'cambridge', 'ma', 'usa', 'distribution', 'sci', 'lines', 'article', 'tom', 'baker', 'article', 'pack', 'rat', 'writes', 'clear', 'caution', 'warning', 'memory', 'verify', 'unexpected', 'errors', 'wondering', 'expected', 'error', 'sorry', 'dumb', 'question', 'parity', 'errors', 'memory', 'previously', 'known', 'conditions', 'waivered', 'yes', 'error', 'knew', 'id', 'curious', 'real', 'meaning', 'quote', 'tom', 'understanding', 'expected', 'errors', 'basically', 'known', 'bugs', 'warning', 'software', 'things', 'checked', 'dont', 'right', 'values', 'arent', 'set', 'till', 'launch', 'suchlike', 'fix', 'code', 'possibly', 'introduce', 'new', 'bugs', 'tell', 'crew', 'ok', 'warning', 'liftoff', 'ignore', 'jonathan']\n",
            "\n"
          ]
        },
        {
          "output_type": "stream",
          "name": "stderr",
          "text": [
            "/usr/local/lib/python3.10/dist-packages/ipykernel/ipkernel.py:283: DeprecationWarning: `should_run_async` will not call `transform_cell` automatically in the future. Please pass the result to `transformed_cell` argument and any exception that happen during thetransform in `preprocessing_exc_tuple` in IPython 7.17 and above.\n",
            "  and should_run_async(code)\n"
          ]
        }
      ]
    },
    {
      "cell_type": "markdown",
      "source": [
        "#Bigrams"
      ],
      "metadata": {
        "id": "Wrq6jyltotVu"
      }
    },
    {
      "cell_type": "code",
      "source": [
        "# Function to create bigrams\n",
        "def make_bigrams(words):\n",
        "    bigram_model = Phrases(words, min_count=5, threshold=100)\n",
        "    data_words_bigrams = list(bigram_model[words])\n",
        "    return data_words_bigrams\n",
        "\n",
        "# Apply make_bigrams function to tokenized words\n",
        "data_words_bigrams = make_bigrams(words)\n",
        "\n",
        "# Display the first 10 documents with bigrams\n",
        "for i in range(10):\n",
        "    print(f\"Document {i+1} with bigrams:\")\n",
        "    print(data_words_bigrams[i])\n",
        "    print()\n"
      ],
      "metadata": {
        "colab": {
          "base_uri": "https://localhost:8080/"
        },
        "id": "i74tFYo7oxi_",
        "outputId": "f7f7e431-8086-4ccc-8f86-3202938611e8"
      },
      "execution_count": 10,
      "outputs": [
        {
          "output_type": "stream",
          "name": "stdout",
          "text": [
            "Document 1 with bigrams:\n",
            "foxvog\n",
            "\n",
            "Document 2 with bigrams:\n",
            "douglas\n",
            "\n",
            "Document 3 with bigrams:\n",
            "rewording\n",
            "\n",
            "Document 4 with bigrams:\n",
            "second\n",
            "\n",
            "Document 5 with bigrams:\n",
            "amendment\n",
            "\n",
            "Document 6 with bigrams:\n",
            "ideas\n",
            "\n",
            "Document 7 with bigrams:\n",
            "organization\n",
            "\n",
            "Document 8 with bigrams:\n",
            "vtt\n",
            "\n",
            "Document 9 with bigrams:\n",
            "lines\n",
            "\n",
            "Document 10 with bigrams:\n",
            "article\n",
            "\n"
          ]
        },
        {
          "output_type": "stream",
          "name": "stderr",
          "text": [
            "/usr/local/lib/python3.10/dist-packages/ipykernel/ipkernel.py:283: DeprecationWarning: `should_run_async` will not call `transform_cell` automatically in the future. Please pass the result to `transformed_cell` argument and any exception that happen during thetransform in `preprocessing_exc_tuple` in IPython 7.17 and above.\n",
            "  and should_run_async(code)\n"
          ]
        }
      ]
    },
    {
      "cell_type": "markdown",
      "source": [
        "**#Lemmatization**"
      ],
      "metadata": {
        "id": "NnsIfK7oo5jz"
      }
    },
    {
      "cell_type": "code",
      "source": [
        "! python -m spacy download en"
      ],
      "metadata": {
        "id": "4UZfljsHo7g2"
      },
      "execution_count": null,
      "outputs": []
    },
    {
      "cell_type": "code",
      "source": [
        "nlp = spacy.load('en_core_web_sm', disable=['parser', 'ner'])\n",
        "# Function for lemmatization\n",
        "def lemmatization(sentences, allowed_postags=['NOUN', 'ADJ', 'VERB', 'ADV']):\n",
        "    lemmatized_sentences = []\n",
        "    for sentence in sentences:\n",
        "        doc = nlp(\" \".join(sentence))\n",
        "        lemmatized_words = [token.lemma_ for token in doc if token.pos_ in allowed_postags and token.is_alpha]\n",
        "        lemmatized_sentences.append(lemmatized_words)\n",
        "    return lemmatized_sentences"
      ],
      "metadata": {
        "id": "eLOniOZ2o-CX",
        "colab": {
          "base_uri": "https://localhost:8080/"
        },
        "outputId": "d162929a-a71c-462a-cc80-32905dead26d"
      },
      "execution_count": 24,
      "outputs": [
        {
          "output_type": "stream",
          "name": "stderr",
          "text": [
            "/usr/local/lib/python3.10/dist-packages/ipykernel/ipkernel.py:283: DeprecationWarning: `should_run_async` will not call `transform_cell` automatically in the future. Please pass the result to `transformed_cell` argument and any exception that happen during thetransform in `preprocessing_exc_tuple` in IPython 7.17 and above.\n",
            "  and should_run_async(code)\n"
          ]
        }
      ]
    },
    {
      "cell_type": "code",
      "source": [
        "# Tokenize each sentence into words\n",
        "data_words = list(sent_to_words(df['content']))\n",
        "\n",
        "# Define additional stop words\n",
        "additional_stopwords = {'from', 'subject', 're', 'edu', 'use'}\n",
        "\n",
        "# Extend the default stop words list with additional stop words\n",
        "STOPWORDS |= additional_stopwords\n",
        "\n",
        "# Remove stop words from tokenized words\n",
        "data_words_nostops = [remove_stopwords(words) for words in data_words]\n",
        "\n",
        "# Create bigrams\n",
        "data_words_bigrams = make_bigrams(data_words_nostops)\n",
        "\n",
        "# Apply lemmatization function to tokenized words with bigrams\n",
        "data_lemmatized = lemmatization(data_words_bigrams, allowed_postags=['NOUN', 'ADJ', 'VERB', 'ADV'])\n",
        "print(data_lemmatized[:1])  # Printing lemmatized data for the first document"
      ],
      "metadata": {
        "colab": {
          "base_uri": "https://localhost:8080/"
        },
        "id": "eOdlQCjQrAO2",
        "outputId": "9adcc4ea-ba15-428f-ddfd-40e73529caeb"
      },
      "execution_count": 25,
      "outputs": [
        {
          "output_type": "stream",
          "name": "stderr",
          "text": [
            "/usr/local/lib/python3.10/dist-packages/ipykernel/ipkernel.py:283: DeprecationWarning: `should_run_async` will not call `transform_cell` automatically in the future. Please pass the result to `transformed_cell` argument and any exception that happen during thetransform in `preprocessing_exc_tuple` in IPython 7.17 and above.\n",
            "  and should_run_async(code)\n"
          ]
        },
        {
          "output_type": "stream",
          "name": "stdout",
          "text": [
            "[['s', 'thing', 'car', 'host', 'university', 'park', 'line', 'wonder', 'enlighten', 'car', 'see', 'day', 'door', 'sport', 'car', 'look', 'late', 'early', 'call', 'door', 'small', 'addition', 'bumper', 'separate', 'rest', 'body', 'know', 'model', 'engine', 'spec', 'year', 'production', 'car', 'history', 'info', 'funky', 'look', 'car', 'mail', 'thank', 'bring', 'neighborhood', 'lerxst']]\n"
          ]
        }
      ]
    },
    {
      "cell_type": "markdown",
      "source": [
        "**#Create a Dictionary**"
      ],
      "metadata": {
        "id": "RfpdTEa0uQyO"
      }
    },
    {
      "cell_type": "code",
      "source": [
        "preprocessed_data = {\n",
        "    \"num_documents\": len(df),\n",
        "    \"data_words\": data_words,  # Tokenized words\n",
        "    \"data_words_bigrams\": data_words_bigrams,  # Words with bigrams\n",
        "    \"data_lemmatized\": data_lemmatized  # Lemmatized words\n",
        "}\n"
      ],
      "metadata": {
        "id": "qm8YVPDDuSjA",
        "colab": {
          "base_uri": "https://localhost:8080/"
        },
        "outputId": "002ef685-965f-4ab0-89d5-42a4bc487820"
      },
      "execution_count": 26,
      "outputs": [
        {
          "output_type": "stream",
          "name": "stderr",
          "text": [
            "/usr/local/lib/python3.10/dist-packages/ipykernel/ipkernel.py:283: DeprecationWarning: `should_run_async` will not call `transform_cell` automatically in the future. Please pass the result to `transformed_cell` argument and any exception that happen during thetransform in `preprocessing_exc_tuple` in IPython 7.17 and above.\n",
            "  and should_run_async(code)\n"
          ]
        }
      ]
    },
    {
      "cell_type": "code",
      "source": [
        "# Display the dictionary keys and their corresponding lengths\n",
        "for key, value in preprocessed_data.items():\n",
        "    if isinstance(value, list):\n",
        "        print(f\"{key}: {len(value)}\")\n",
        "    elif isinstance(value, int):\n",
        "        print(f\"{key}: {value}\")"
      ],
      "metadata": {
        "colab": {
          "base_uri": "https://localhost:8080/"
        },
        "id": "WBAEyzbvulyJ",
        "outputId": "522c5545-fd88-4ff1-82b6-5cba0e5f6e4a"
      },
      "execution_count": 27,
      "outputs": [
        {
          "output_type": "stream",
          "name": "stdout",
          "text": [
            "num_documents: 11314\n",
            "data_words: 11314\n",
            "data_words_bigrams: 11314\n",
            "data_lemmatized: 11314\n"
          ]
        },
        {
          "output_type": "stream",
          "name": "stderr",
          "text": [
            "/usr/local/lib/python3.10/dist-packages/ipykernel/ipkernel.py:283: DeprecationWarning: `should_run_async` will not call `transform_cell` automatically in the future. Please pass the result to `transformed_cell` argument and any exception that happen during thetransform in `preprocessing_exc_tuple` in IPython 7.17 and above.\n",
            "  and should_run_async(code)\n"
          ]
        }
      ]
    },
    {
      "cell_type": "markdown",
      "source": [
        "**#Create Corpus**"
      ],
      "metadata": {
        "id": "IYkrJ2m2uqMj"
      }
    },
    {
      "cell_type": "code",
      "source": [
        "# Create a list to store the corpus\n",
        "corpus = []\n",
        "# Concatenate the preprocessed documents into the corpus\n",
        "for key, value in preprocessed_data.items():\n",
        "    if isinstance(value, list):\n",
        "        corpus.extend(value)\n",
        "\n",
        "# Display the length of the corpus\n",
        "print(\"Length of the corpus:\", len(corpus))"
      ],
      "metadata": {
        "colab": {
          "base_uri": "https://localhost:8080/"
        },
        "id": "8wA0RXD9uomu",
        "outputId": "5784940f-c56d-461f-a275-b0b510af2638"
      },
      "execution_count": 28,
      "outputs": [
        {
          "output_type": "stream",
          "name": "stdout",
          "text": [
            "Length of the corpus: 33942\n"
          ]
        },
        {
          "output_type": "stream",
          "name": "stderr",
          "text": [
            "/usr/local/lib/python3.10/dist-packages/ipykernel/ipkernel.py:283: DeprecationWarning: `should_run_async` will not call `transform_cell` automatically in the future. Please pass the result to `transformed_cell` argument and any exception that happen during thetransform in `preprocessing_exc_tuple` in IPython 7.17 and above.\n",
            "  and should_run_async(code)\n"
          ]
        }
      ]
    },
    {
      "cell_type": "markdown",
      "source": [
        "**#Filter low-frequency words**"
      ],
      "metadata": {
        "id": "1QCtMeWouwh8"
      }
    },
    {
      "cell_type": "code",
      "source": [
        "# Function to count the frequency of words in the corpus\n",
        "def count_word_frequency(corpus):\n",
        "    word_freq = defaultdict(int)\n",
        "    for document in corpus:\n",
        "        for word in document:\n",
        "            word_freq[word] += 1\n",
        "    return word_freq\n",
        "# Function to filter out low-frequency words from the corpus based on a threshold\n",
        "def filter_low_frequency_words(corpus, threshold):\n",
        "    word_freq = count_word_frequency(corpus)\n",
        "    filtered_corpus = [[word for word in document if word_freq[word] >= threshold] for document in corpus]\n",
        "    return filtered_corpus\n",
        "# Define the threshold for filtering low-frequency words\n",
        "threshold = 5\n",
        "\n",
        "# Filter out low-frequency words from the corpus\n",
        "filtered_corpus = filter_low_frequency_words(corpus, threshold)\n",
        "\n",
        "# Display the length of the filtered corpus\n",
        "print(\"Length of the filtered corpus:\", len(filtered_corpus))"
      ],
      "metadata": {
        "colab": {
          "base_uri": "https://localhost:8080/"
        },
        "id": "Z-U7VTSRuy3R",
        "outputId": "a8232026-7a96-4ac7-fad3-7f6bae2bd427"
      },
      "execution_count": 29,
      "outputs": [
        {
          "output_type": "stream",
          "name": "stderr",
          "text": [
            "/usr/local/lib/python3.10/dist-packages/ipykernel/ipkernel.py:283: DeprecationWarning: `should_run_async` will not call `transform_cell` automatically in the future. Please pass the result to `transformed_cell` argument and any exception that happen during thetransform in `preprocessing_exc_tuple` in IPython 7.17 and above.\n",
            "  and should_run_async(code)\n"
          ]
        },
        {
          "output_type": "stream",
          "name": "stdout",
          "text": [
            "Length of the filtered corpus: 33942\n"
          ]
        }
      ]
    },
    {
      "cell_type": "markdown",
      "source": [
        "**#Create Index 2 word dictionary**"
      ],
      "metadata": {
        "id": "RHDGk2Dfu-VH"
      }
    },
    {
      "cell_type": "code",
      "source": [
        "# Create a set of unique words in the corpus\n",
        "unique_words = set(word for document in filtered_corpus for word in document)\n",
        "\n",
        "# Create a dictionary to map index to word\n",
        "index_to_word = {index: word for index, word in enumerate(unique_words)}\n",
        "\n",
        "# Display the first few entries of the index-to-word dictionary\n",
        "print(\"Index to word dictionary:\")\n",
        "for index in range(10):\n",
        "    print(index, index_to_word[index])"
      ],
      "metadata": {
        "colab": {
          "base_uri": "https://localhost:8080/"
        },
        "id": "o0X6gKeAu_6d",
        "outputId": "035c7f98-5e2b-4efb-ddd4-518f85ab2a0e"
      },
      "execution_count": 30,
      "outputs": [
        {
          "output_type": "stream",
          "name": "stderr",
          "text": [
            "/usr/local/lib/python3.10/dist-packages/ipykernel/ipkernel.py:283: DeprecationWarning: `should_run_async` will not call `transform_cell` automatically in the future. Please pass the result to `transformed_cell` argument and any exception that happen during thetransform in `preprocessing_exc_tuple` in IPython 7.17 and above.\n",
            "  and should_run_async(code)\n"
          ]
        },
        {
          "output_type": "stream",
          "name": "stdout",
          "text": [
            "Index to word dictionary:\n",
            "0 nazi\n",
            "1 ha\n",
            "2 disassociate\n",
            "3 mercilessly\n",
            "4 capslock_numlock\n",
            "5 deserts\n",
            "6 observant\n",
            "7 fractal\n",
            "8 ronald_reagan\n",
            "9 nuclear_plants\n"
          ]
        }
      ]
    },
    {
      "cell_type": "markdown",
      "source": [
        "#Build a News Topic Model- LdaModel"
      ],
      "metadata": {
        "id": "zIU9eV8qvId5"
      }
    },
    {
      "cell_type": "code",
      "source": [
        "# Create a dictionary\n",
        "dictionary = corpora.Dictionary(filtered_corpus)\n",
        "\n",
        "# Create a bag-of-words corpus\n",
        "corpus = [dictionary.doc2bow(document) for document in filtered_corpus]"
      ],
      "metadata": {
        "id": "OTbM3waWvMDp",
        "colab": {
          "base_uri": "https://localhost:8080/"
        },
        "outputId": "f50523ee-4680-4363-98da-d4ae2426b662"
      },
      "execution_count": 31,
      "outputs": [
        {
          "output_type": "stream",
          "name": "stderr",
          "text": [
            "/usr/local/lib/python3.10/dist-packages/ipykernel/ipkernel.py:283: DeprecationWarning: `should_run_async` will not call `transform_cell` automatically in the future. Please pass the result to `transformed_cell` argument and any exception that happen during thetransform in `preprocessing_exc_tuple` in IPython 7.17 and above.\n",
            "  and should_run_async(code)\n"
          ]
        }
      ]
    },
    {
      "cell_type": "code",
      "source": [
        "# Define parameters\n",
        "num_topics = 10\n",
        "chunksize = 2000\n",
        "passes = 20\n",
        "alpha = 'auto'\n",
        "# Train the LDA model\n",
        "lda_model = models.LdaModel(corpus=corpus,\n",
        "                            id2word=dictionary,\n",
        "                            num_topics=num_topics,\n",
        "                            chunksize=chunksize,\n",
        "                            alpha=alpha,\n",
        "                            passes=passes)"
      ],
      "metadata": {
        "id": "DgezEUtUvbNM",
        "colab": {
          "base_uri": "https://localhost:8080/"
        },
        "outputId": "425b5dd0-5d06-48f8-dc2e-0c70e98c683d"
      },
      "execution_count": 32,
      "outputs": [
        {
          "output_type": "stream",
          "name": "stderr",
          "text": [
            "/usr/local/lib/python3.10/dist-packages/ipykernel/ipkernel.py:283: DeprecationWarning: `should_run_async` will not call `transform_cell` automatically in the future. Please pass the result to `transformed_cell` argument and any exception that happen during thetransform in `preprocessing_exc_tuple` in IPython 7.17 and above.\n",
            "  and should_run_async(code)\n"
          ]
        }
      ]
    },
    {
      "cell_type": "markdown",
      "source": [
        "**#Print the Keyword in the 10 topics**"
      ],
      "metadata": {
        "id": "qaLLZHQfxbBC"
      }
    },
    {
      "cell_type": "code",
      "source": [
        "print(\"Keywords in the 10 topics:\")\n",
        "for topic_id, topic_keywords in lda_model.print_topics(num_topics=10):\n",
        "    print(f\"Topic {topic_id}: {topic_keywords}\")"
      ],
      "metadata": {
        "colab": {
          "base_uri": "https://localhost:8080/"
        },
        "id": "3V0kWETrxc9l",
        "outputId": "e33b4747-d9b2-4893-926a-08385cddb2ee"
      },
      "execution_count": 33,
      "outputs": [
        {
          "output_type": "stream",
          "name": "stdout",
          "text": [
            "Keywords in the 10 topics:\n",
            "Topic 0: 0.018*\"line\" + 0.017*\"write\" + 0.011*\"article\" + 0.011*\"people\" + 0.009*\"think\" + 0.009*\"know\" + 0.008*\"say\" + 0.007*\"m\" + 0.007*\"time\" + 0.006*\"go\"\n",
            "Topic 1: 0.017*\"car\" + 0.013*\"organization\" + 0.011*\"article\" + 0.007*\"bike\" + 0.006*\"host\" + 0.006*\"good\" + 0.006*\"lines\" + 0.005*\"know\" + 0.004*\"time\" + 0.004*\"ride\"\n",
            "Topic 2: 0.012*\"god\" + 0.009*\"believe\" + 0.008*\"religion\" + 0.006*\"think\" + 0.006*\"people\" + 0.006*\"faith\" + 0.006*\"church\" + 0.006*\"word\" + 0.005*\"exist\" + 0.005*\"question\"\n",
            "Topic 3: 0.714*\"ax\" + 0.050*\"max\" + 0.003*\"ei\" + 0.002*\"pl\" + 0.002*\"wm\" + 0.002*\"tm\" + 0.001*\"rk\" + 0.001*\"di\" + 0.001*\"mk\" + 0.001*\"um\"\n",
            "Topic 4: 0.022*\"game\" + 0.020*\"team\" + 0.013*\"year\" + 0.012*\"play\" + 0.011*\"player\" + 0.010*\"win\" + 0.009*\"season\" + 0.008*\"hockey\" + 0.007*\"good\" + 0.006*\"organization\"\n",
            "Topic 5: 0.029*\"key\" + 0.012*\"encryption\" + 0.011*\"information\" + 0.010*\"public\" + 0.009*\"security\" + 0.008*\"chip\" + 0.007*\"clipper\" + 0.007*\"government\" + 0.006*\"technology\" + 0.006*\"secure\"\n",
            "Topic 6: 0.017*\"writes\" + 0.016*\"lines\" + 0.013*\"dont\" + 0.012*\"article\" + 0.012*\"organization\" + 0.011*\"like\" + 0.009*\"people\" + 0.007*\"think\" + 0.007*\"im\" + 0.006*\"university\"\n",
            "Topic 7: 0.017*\"space\" + 0.008*\"organization\" + 0.005*\"launch\" + 0.005*\"sale\" + 0.005*\"research\" + 0.004*\"cost\" + 0.004*\"university\" + 0.004*\"earth\" + 0.004*\"new\" + 0.004*\"year\"\n",
            "Topic 8: 0.011*\"organization\" + 0.011*\"file\" + 0.009*\"line\" + 0.008*\"window\" + 0.007*\"host\" + 0.007*\"program\" + 0.007*\"drive\" + 0.006*\"mail\" + 0.006*\"software\" + 0.006*\"problem\"\n",
            "Topic 9: 0.022*\"armenian\" + 0.014*\"keyword\" + 0.012*\"turkish\" + 0.007*\"greek\" + 0.006*\"war\" + 0.005*\"armenians\" + 0.005*\"wire\" + 0.005*\"russian\" + 0.005*\"turkey\" + 0.005*\"turk\"\n"
          ]
        },
        {
          "output_type": "stream",
          "name": "stderr",
          "text": [
            "/usr/local/lib/python3.10/dist-packages/ipykernel/ipkernel.py:283: DeprecationWarning: `should_run_async` will not call `transform_cell` automatically in the future. Please pass the result to `transformed_cell` argument and any exception that happen during thetransform in `preprocessing_exc_tuple` in IPython 7.17 and above.\n",
            "  and should_run_async(code)\n"
          ]
        }
      ]
    },
    {
      "cell_type": "markdown",
      "source": [
        "#Evaluation of Topic Models--Model Perplexity"
      ],
      "metadata": {
        "id": "JSIzgUOkxkMP"
      }
    },
    {
      "cell_type": "code",
      "source": [
        "# Compute the perplexity of the model\n",
        "perplexity = lda_model.log_perplexity(corpus)\n",
        "print(f\"Perplexity: {perplexity}\")"
      ],
      "metadata": {
        "colab": {
          "base_uri": "https://localhost:8080/"
        },
        "id": "u5WSMV2rxopN",
        "outputId": "29a8482f-fd85-4bf6-a57f-1057c30c4f76"
      },
      "execution_count": 34,
      "outputs": [
        {
          "output_type": "stream",
          "name": "stderr",
          "text": [
            "/usr/local/lib/python3.10/dist-packages/ipykernel/ipkernel.py:283: DeprecationWarning: `should_run_async` will not call `transform_cell` automatically in the future. Please pass the result to `transformed_cell` argument and any exception that happen during thetransform in `preprocessing_exc_tuple` in IPython 7.17 and above.\n",
            "  and should_run_async(code)\n"
          ]
        },
        {
          "output_type": "stream",
          "name": "stdout",
          "text": [
            "Perplexity: -8.594389960955096\n"
          ]
        }
      ]
    },
    {
      "cell_type": "markdown",
      "source": [
        "**#Topic Coherence**"
      ],
      "metadata": {
        "id": "xsgT6-jq4c--"
      }
    },
    {
      "cell_type": "code",
      "source": [
        "# Compute the coherence score for the LDA model\n",
        "coherence_model_lda = CoherenceModel(model=lda_model, texts=filtered_corpus, dictionary=dictionary, coherence='c_v')\n",
        "coherence_lda = coherence_model_lda.get_coherence()\n",
        "\n",
        "print(f\"Topic Coherence Score: {coherence_lda}\")\n"
      ],
      "metadata": {
        "colab": {
          "base_uri": "https://localhost:8080/"
        },
        "id": "ymZ4F5o24fPX",
        "outputId": "35a7e2b6-aa6b-4337-ebbd-570094d02383"
      },
      "execution_count": 35,
      "outputs": [
        {
          "output_type": "stream",
          "name": "stderr",
          "text": [
            "/usr/local/lib/python3.10/dist-packages/ipykernel/ipkernel.py:283: DeprecationWarning: `should_run_async` will not call `transform_cell` automatically in the future. Please pass the result to `transformed_cell` argument and any exception that happen during thetransform in `preprocessing_exc_tuple` in IPython 7.17 and above.\n",
            "  and should_run_async(code)\n"
          ]
        },
        {
          "output_type": "stream",
          "name": "stdout",
          "text": [
            "Topic Coherence Score: 0.6665321169783408\n"
          ]
        }
      ]
    },
    {
      "cell_type": "markdown",
      "source": [
        "**#Visualize the Topic Model**"
      ],
      "metadata": {
        "id": "gFF-WbSu44CX"
      }
    },
    {
      "cell_type": "code",
      "source": [
        "import pyLDAvis\n",
        "import pyLDAvis.gensim_models as gensimvis\n",
        "\n",
        "# Create the visualization\n",
        "vis_data = gensimvis.prepare(lda_model, corpus, dictionary)\n",
        "pyLDAvis.display(vis_data)\n"
      ],
      "metadata": {
        "colab": {
          "base_uri": "https://localhost:8080/",
          "height": 917
        },
        "id": "mnPTyHbF451a",
        "outputId": "ad112b8e-9b23-40df-cf29-0d0044f9ee32"
      },
      "execution_count": 36,
      "outputs": [
        {
          "output_type": "stream",
          "name": "stderr",
          "text": [
            "/usr/local/lib/python3.10/dist-packages/ipykernel/ipkernel.py:283: DeprecationWarning: `should_run_async` will not call `transform_cell` automatically in the future. Please pass the result to `transformed_cell` argument and any exception that happen during thetransform in `preprocessing_exc_tuple` in IPython 7.17 and above.\n",
            "  and should_run_async(code)\n"
          ]
        },
        {
          "output_type": "execute_result",
          "data": {
            "text/plain": [
              "<IPython.core.display.HTML object>"
            ],
            "text/html": [
              "\n",
              "<link rel=\"stylesheet\" type=\"text/css\" href=\"https://cdn.jsdelivr.net/gh/bmabey/pyLDAvis@3.4.0/pyLDAvis/js/ldavis.v1.0.0.css\">\n",
              "\n",
              "\n",
              "<div id=\"ldavis_el2581390424514352805205661427\" style=\"background-color:white;\"></div>\n",
              "<script type=\"text/javascript\">\n",
              "\n",
              "var ldavis_el2581390424514352805205661427_data = {\"mdsDat\": {\"x\": [-0.07636354448440247, -0.1447239126154756, -0.09883184763943086, -0.09748491378681634, -0.08838322259861592, 0.49303662550252636, -0.06763691668571385, -0.005092012983680724, -0.048591378775708856, 0.13407112406731736], \"y\": [0.0029413393048027844, -0.003466870569533551, -0.0735075604744463, -0.13010268877755285, 0.0791499263360804, -0.09950342194251303, -0.01933241463579411, -0.19262312756621888, 0.13672089147007113, 0.29972392685510507], \"topics\": [1, 2, 3, 4, 5, 6, 7, 8, 9, 10], \"cluster\": [1, 1, 1, 1, 1, 1, 1, 1, 1, 1], \"Freq\": [19.474286320608883, 18.369532773340367, 17.247977129239654, 8.168324645013056, 7.44149494896589, 7.227140040842928, 6.87505856354992, 6.344305146668802, 5.390752895735647, 3.461127536034862]}, \"tinfo\": {\"Term\": [\"ax\", \"max\", \"write\", \"key\", \"writes\", \"line\", \"game\", \"team\", \"car\", \"dont\", \"space\", \"lines\", \"people\", \"year\", \"file\", \"armenian\", \"article\", \"like\", \"god\", \"say\", \"window\", \"believe\", \"information\", \"m\", \"play\", \"win\", \"go\", \"organization\", \"player\", \"think\", \"israeli\", \"israel\", \"arab\", \"palestinian\", \"mr_stephanopoulos\", \"lives\", \"lebanese\", \"believer\", \"jobs\", \"kids\", \"phillie\", \"arabs\", \"thoughts\", \"slavery\", \"negotiation\", \"theyve\", \"taxes\", \"ceremony\", \"mormon\", \"serb\", \"israelis\", \"zionist\", \"werent\", \"inhabitant\", \"judaism\", \"bosnia\", \"interfere\", \"politics\", \"racism\", \"lebanon\", \"said\", \"talking\", \"gone\", \"coming\", \"weve\", \"going\", \"didnt\", \"writes\", \"wasnt\", \"thats\", \"dont\", \"wouldnt\", \"schneider\", \"lets\", \"isnt\", \"yes\", \"told\", \"happened\", \"reasons\", \"things\", \"like\", \"im\", \"years\", \"doesnt\", \"jews\", \"lines\", \"says\", \"youre\", \"times\", \"having\", \"mr\", \"better\", \"david\", \"posting\", \"article\", \"people\", \"university\", \"organization\", \"think\", \"know\", \"nntp_posting\", \"hell\", \"right\", \"world\", \"state\", \"host\", \"way\", \"time\", \"want\", \"say\", \"go\", \"s\", \"get\", \"well\", \"give\", \"take\", \"gun\", \"re\", \"call\", \"see\", \"make\", \"have\", \"show\", \"one\", \"weapon\", \"keep\", \"move\", \"firearm\", \"part\", \"name\", \"describe\", \"put\", \"d\", \"guns\", \"handgun\", \"homosexual\", \"m\", \"ban\", \"gay\", \"folk\", \"ve\", \"write\", \"crime\", \"line\", \"happen\", \"kill\", \"leave\", \"come\", \"thing\", \"people\", \"hear\", \"think\", \"tell\", \"article\", \"know\", \"right\", \"try\", \"want\", \"time\", \"year\", \"good\", \"look\", \"way\", \"organization\", \"work\", \"point\", \"mean\", \"question\", \"host\", \"disk\", \"scsi\", \"do\", \"motif\", \"widget\", \"printer\", \"font\", \"interface\", \"dos\", \"keyboard\", \"client\", \"ide\", \"controller\", \"ram\", \"graphics\", \"cpu\", \"postscript\", \"vga\", \"motherboard\", \"processor\", \"cache\", \"simms\", \"jpeg\", \"floppy\", \"connector\", \"xterm\", \"mhz\", \"toolkit\", \"byte\", \"workstation\", \"server\", \"windows\", \"modem\", \"format\", \"pc\", \"ftp\", \"screen\", \"mac\", \"window\", \"display\", \"upgrade\", \"file\", \"color\", \"apple\", \"card\", \"video\", \"version\", \"software\", \"memory\", \"image\", \"monitor\", \"drive\", \"program\", \"application\", \"machine\", \"mode\", \"email\", \"mail\", \"driver\", \"bit\", \"available\", \"problem\", \"run\", \"set\", \"host\", \"organization\", \"line\", \"need\", \"help\", \"work\", \"lines\", \"know\", \"university\", \"reply\", \"bike\", \"ride\", \"motorcycle\", \"helmet\", \"tire\", \"cars\", \"brake\", \"honda\", \"sumgait\", \"riding\", \"tiger\", \"be\", \"valve\", \"clutch\", \"islander\", \"mileage\", \"bmw\", \"volt\", \"bikes\", \"vitamin\", \"garage\", \"mechanic\", \"steam\", \"leather\", \"drain\", \"steer\", \"migraine\", \"reserve_university\", \"sinus\", \"capacitor\", \"car\", \"mph\", \"diet\", \"msg\", \"rear\", \"dod\", \"rider\", \"wheel\", \"meter\", \"engine\", \"cage\", \"oil\", \"pain\", \"battery\", \"water\", \"gear\", \"doctor\", \"apartment\", \"food\", \"eat\", \"road\", \"dog\", \"dealer\", \"hot\", \"organization\", \"article\", \"good\", \"host\", \"buy\", \"lines\", \"drive\", \"speed\", \"light\", \"time\", \"know\", \"like\", \"reply\", \"new\", \"turn\", \"little\", \"writes\", \"look\", \"need\", \"problem\", \"nntp_posting\", \"work\", \"thing\", \"university\", \"think\", \"faith\", \"bible\", \"jesus\", \"atheist\", \"sin\", \"atheism\", \"scripture\", \"morality\", \"christians\", \"christianity\", \"worship\", \"revelation\", \"doctrine\", \"gods\", \"biblical\", \"catholic\", \"gospel\", \"prophet\", \"resurrection\", \"salvation\", \"verse\", \"prophecy\", \"clh\", \"priest\", \"theist\", \"subjective\", \"contradiction\", \"theology\", \"gordon_banks\", \"follower\", \"church\", \"belief\", \"religion\", \"god\", \"christian\", \"eternal\", \"existence\", \"moral\", \"christ\", \"truth\", \"religious\", \"interpretation\", \"exist\", \"evidence\", \"believe\", \"word\", \"argument\", \"book\", \"life\", \"true\", \"science\", \"claim\", \"human\", \"law\", \"question\", \"mean\", \"reason\", \"think\", \"people\", \"know\", \"man\", \"way\", \"point\", \"ax\", \"ei\", \"mq\", \"bhj\", \"qax\", \"qq\", \"max\", \"giz\", \"gq\", \"fq\", \"tq\", \"lj\", \"mj\", \"di_di\", \"db_db\", \"hj\", \"m_\", \"wt\", \"bxn\", \"c\", \"pl_pl\", \"okz\", \"tg\", \"uj\", \"kn\", \"vz\", \"yx\", \"jz\", \"ei_ei\", \"r\", \"ql\", \"di\", \"wm\", \"mk\", \"ey\", \"bh\", \"lq\", \"rk\", \"um\", \"mf\", \"dy\", \"mu\", \"pl\", \"sl\", \"bj\", \"tm\", \"mw\", \"mp\", \"ah\", \"ml\", \"rlk\", \"nb\", \"ma\", \"cx\", \"mr\", \"mb\", \"launch\", \"satellite\", \"moon\", \"orbit\", \"nasa\", \"lunar\", \"spacecraft\", \"shuttle\", \"solar\", \"astronomy\", \"orbital\", \"antenna\", \"payload\", \"aerospace\", \"exploration\", \"ozone\", \"comet\", \"observatory\", \"beam\", \"nubus\", \"amplifier\", \"astronomical\", \"orbiter\", \"fuse\", \"mars\", \"propulsion\", \"redesign\", \"thermal\", \"pioneer\", \"amateur\", \"henry\", \"mission\", \"space\", \"receiver\", \"flight\", \"circuit\", \"atmosphere\", \"planetary\", \"dc\", \"probe\", \"telescope\", \"amp\", \"project\", \"band\", \"earth\", \"rocket\", \"radio\", \"surface\", \"sale\", \"cost\", \"audio\", \"energy\", \"signal\", \"research\", \"design\", \"low\", \"power\", \"high\", \"model\", \"organization\", \"center\", \"university\", \"year\", \"new\", \"technology\", \"science\", \"program\", \"host\", \"sell\", \"work\", \"information\", \"time\", \"season\", \"hockey\", \"nhl\", \"playoff\", \"encrypt\", \"players\", \"ripem\", \"teams\", \"rsa\", \"leafs\", \"coach\", \"scoring\", \"montreal\", \"puck\", \"pitcher\", \"hitter\", \"que\", \"pit\", \"anonymity\", \"shark\", \"goalie\", \"cryptographic\", \"pitching\", \"lopez\", \"cipher\", \"nyr\", \"dodger\", \"uuencode\", \"franchise\", \"defenseman\", \"player\", \"baseball\", \"league\", \"flyer\", \"game\", \"team\", \"score\", \"games\", \"tor\", \"play\", \"winner\", \"fan\", \"win\", \"pitch\", \"stat\", \"year\", \"ice\", \"entry\", \"goal\", \"division\", \"hit\", \"period\", \"good\", \"pick\", \"second\", \"organization\", \"run\", \"host\", \"line\", \"time\", \"encryption\", \"clipper\", \"privacy\", \"crypto\", \"pgp\", \"cryptography\", \"des\", \"wiretap\", \"escrow\", \"nsa\", \"clipper_chip\", \"encrypted\", \"adl\", \"law_enforcement\", \"authorize\", \"cryptosystem\", \"ciphertext\", \"classified\", \"clinical\", \"decrypt\", \"key_escrow\", \"glutamate\", \"nist\", \"amount\", \"balloon\", \"skipjack\", \"uranium\", \"health_care\", \"mykotronx\", \"lyme\", \"secure\", \"key\", \"keys\", \"newsletter\", \"security\", \"agencies\", \"administration\", \"secret\", \"health\", \"proposal\", \"public\", \"initiative\", \"medical\", \"chip\", \"announcement\", \"agency\", \"private\", \"information\", \"technology\", \"government\", \"message\", \"access\", \"national\", \"communication\", \"phone\", \"provide\", \"drug\", \"research\", \"device\", \"new\", \"bit\", \"available\", \"internet\", \"need\", \"armenian\", \"keyword\", \"turkish\", \"armenians\", \"turkey\", \"turk\", \"armenia\", \"azerbaijani\", \"massacre\", \"argic\", \"greece\", \"turks\", \"melkonian\", \"baku\", \"gfci\", \"azerbaijan\", \"azeri\", \"extermination\", \"insulation\", \"iranian\", \"conductor\", \"serdar_argic\", \"transformer\", \"seminar\", \"azeris\", \"clothe\", \"designate\", \"lhz\", \"serdar\", \"rmc\", \"genocide\", \"ck\", \"neutral\", \"greek\", \"c_\", \"outlet\", \"russian\", \"village\", \"nazi\", \"wiring\", \"slaughter\", \"wire\", \"german\", \"war\", \"hz\", \"zd\", \"qs\", \"island\", \"muslim\", \"ground\", \"army\", \"history\", \"page\", \"book\", \"government\", \"world\", \"people\"], \"Freq\": [216550.0, 15125.0, 14986.0, 6943.0, 15334.0, 21876.0, 5967.0, 5513.0, 5815.0, 11427.0, 5644.0, 20012.0, 18263.0, 8658.0, 8793.0, 3219.0, 24991.0, 11784.0, 4047.0, 5923.0, 6471.0, 7041.0, 6734.0, 5321.0, 3799.0, 3944.0, 4950.0, 31783.0, 3040.0, 16578.0, 3386.5664235969934, 2141.8104065460175, 1856.7564083261495, 751.0240101952672, 700.2848397810229, 587.160566491182, 584.250331577182, 556.3805396517923, 501.9942913546193, 477.15636859171445, 451.21593930599204, 422.0032253924452, 361.9296011928034, 339.5993743561942, 335.4395353635957, 333.1503816601444, 331.8300699476535, 315.1884791024829, 306.950564248744, 304.9079362533729, 299.88151267847957, 291.11150742577877, 290.78343256361285, 292.9913224161414, 288.1997033443824, 280.7301574590817, 280.24117161299375, 274.6599998129451, 272.51292708465894, 268.2211116039176, 5068.233422013615, 1177.7068256174737, 579.6098280807493, 900.2084159618095, 398.97498059233646, 3857.5684701094915, 2709.2424495190885, 13652.190009506268, 933.8118980031252, 2823.5940494655515, 10217.982142137638, 1247.1872755048562, 458.9601132609267, 1124.7756710020371, 1830.5045230875048, 1880.4867842103574, 1429.1351832503674, 945.311041987123, 706.2969857840197, 2924.381195831189, 8879.851725501629, 5561.33581233915, 2741.550750301519, 2375.3879158774403, 1400.9893605147925, 12913.40545745241, 1812.9886206993754, 1746.440516721124, 1556.505546927926, 1610.3005044198185, 1556.6602763433166, 2384.9904595349867, 1641.7517545006508, 3007.919863973465, 9774.556358146347, 7541.29829937597, 5207.1307942840895, 9663.79254057544, 5783.203148447023, 5160.074792602892, 2666.4519203265827, 1718.3347315294209, 2923.6219090134387, 2369.768014173017, 2272.365514330892, 2774.8104420314417, 2490.1054646809553, 2625.6472913505418, 1997.129178353459, 5922.574257577017, 4948.9037210634415, 4610.999208531555, 4191.4926610421735, 2742.109872258574, 2540.57098448343, 2516.349624574449, 2455.022061310491, 2320.904291567672, 2177.811428276167, 1885.1356460403806, 1834.4276682285017, 1384.068956334005, 1030.5723604939958, 856.7365050997125, 772.6332851514676, 701.1570485152289, 619.0129645545553, 618.3087269543158, 582.8501103625764, 567.9209101506854, 538.5694836518448, 434.6166400165245, 408.43488823481795, 363.4219234935208, 339.2511578150393, 337.13591081749183, 5301.046741825428, 318.30718720168903, 307.70931062156177, 455.8723616928939, 3051.227882345821, 13296.703447017973, 945.5855356336614, 14105.009791151266, 1900.866504658047, 1773.5161617749266, 1829.7035665147496, 4144.539421017139, 4012.5182618332396, 8130.502888324822, 1917.8414072270696, 7145.502114774033, 2978.022695529566, 8438.364116197006, 6808.564633810911, 4098.078487972566, 3180.109687468453, 4098.05552321546, 5014.843791674589, 3565.0305931074154, 4393.109234284716, 3282.78081059779, 3507.2839172425224, 4836.0810988202265, 3190.586640249444, 2799.1001464362857, 2611.5141427247354, 2642.7759948083794, 2713.02608385671, 2596.5374539045583, 2438.6871437370437, 1726.7993096888897, 1475.186727249999, 1298.7105925953956, 1213.4700269025595, 1166.2019424701737, 1156.4402156861518, 1147.2178075664217, 1144.9653540726704, 1121.5063819554514, 1048.0899757834554, 1027.9887108711914, 945.8845826455164, 938.4472409715671, 798.1114370876946, 701.8442768329716, 685.7793105388855, 630.5489268228052, 626.9913019464938, 601.1138187458544, 585.0739527113277, 567.1115584068558, 529.8186793083354, 508.65398041262375, 490.189538802434, 1257.2511967536007, 476.24394408899906, 456.7327037344992, 435.9931510137075, 2886.759963121838, 2114.8761073182013, 996.9837415940111, 2092.475557555424, 2662.1614929192397, 878.745010173612, 2084.3813134509246, 1361.5700654380662, 6087.267106244135, 2486.388081303241, 999.6085717572664, 7871.873324447068, 2651.983590355073, 1616.7259116987218, 3749.713625099279, 1850.9163871316098, 3508.3461600135765, 4229.987719085155, 2273.0131332022943, 3015.07821756558, 1724.0315428126398, 4718.90876826019, 4886.893181881231, 2374.297565809956, 2352.2004091174235, 1761.1059738468405, 2721.5593198982424, 4260.782199944083, 2503.179312657901, 3706.2777101607685, 3234.661689599831, 4192.803284899999, 3593.9882456303044, 2951.547944497637, 5397.851922033197, 7933.103807290144, 6283.008700859297, 4003.787549098053, 3348.299155989318, 3501.681619955257, 3942.979222298305, 3568.584761458761, 2823.7606700413535, 2669.441073565824, 2374.9033263736283, 1450.3316199005735, 817.5572429773288, 621.6314912845896, 608.6027975539586, 571.706401390429, 466.7473953185847, 309.05209863166397, 307.10663604265875, 276.8423599991948, 242.6811354884851, 233.2404672881273, 225.80876549440788, 225.17069572879214, 223.5248818069103, 221.13206035185226, 220.49522715554974, 217.2970201289323, 216.94387986667948, 216.74975842917203, 213.57073817157567, 203.58681714939237, 202.45346148450383, 185.6242118590582, 173.47647404075659, 171.52827903246248, 167.9130290326322, 165.00358088531536, 164.01799525335528, 162.17691307565133, 5659.816997659957, 537.6940837586293, 411.30501237421527, 646.4906430813527, 474.22867955283056, 581.5656483033081, 417.5316574275464, 486.3287097292419, 285.129029805, 1228.2035628009305, 275.9230504934894, 766.1923077306009, 775.7304854047051, 586.9310028853229, 992.6866511858514, 354.11324285564956, 802.8744582882838, 453.7467836781632, 914.8438151327048, 687.0028078060374, 980.652039515042, 541.5272890722457, 628.7629061818627, 644.5793457057914, 4541.105664143762, 3665.9474269838606, 2067.011927544408, 2188.011271964537, 1032.3607410308418, 1926.7457163231709, 1267.925918738469, 908.5420185765968, 779.366238521535, 1511.0774890719647, 1594.7343549211573, 1364.4899355216044, 1204.8034431257558, 1190.7591270956534, 802.8834732774704, 941.6351663153555, 1216.5936129658767, 1036.7996259719346, 974.7042208971731, 948.6493065745373, 890.635298241353, 903.4281263478227, 883.3853322473426, 893.5429912580317, 822.1445162360064, 1825.1300588191457, 1386.2951393934366, 1309.1185967688798, 1292.493809968291, 1228.2132875883322, 855.6974147193018, 785.7871845453985, 783.1006469074823, 753.5594895068525, 664.0827559731499, 584.4252143006572, 530.4123910799163, 524.4374903817604, 513.5546290494191, 455.599651259893, 450.5493108174434, 379.10924267306893, 376.1689433707553, 351.09650598601337, 338.9915331294441, 334.3045192115034, 318.75844660910633, 310.56513912807736, 284.94253351791025, 272.2217807095705, 270.20702284081506, 263.4813030465522, 236.91238773829835, 232.50112113661817, 226.569646643382, 1790.3515920854286, 1544.2290150425297, 2413.01883093646, 3840.30801705481, 1648.6186344049704, 484.2782806489989, 1040.1223655670772, 1159.938499193684, 551.1954459561169, 1405.3464153613088, 1065.2400098128403, 563.9790304868887, 1713.8838232690355, 1590.4214147058249, 2862.067303039939, 1737.5573917565537, 1225.201434982682, 1661.2942893720503, 1613.7478642733483, 1686.945330969958, 1460.216788024474, 1319.5202448748214, 1135.6782590306636, 1410.7343173246786, 1696.4863044003175, 1375.6418736784033, 1239.9917825997136, 1861.9681268834352, 1853.270675686212, 1456.9639290664993, 1197.2301621448428, 1297.1504073728279, 1256.0060587369949, 216549.0156428488, 897.1414259455895, 359.5432477515441, 351.2679249565211, 295.1106691067167, 284.6652066657493, 15063.02239783573, 277.2447012737511, 251.55609805600994, 240.25885342172262, 204.76085830846168, 201.38176993181742, 200.87040768279581, 198.77711884071948, 190.9119905200738, 185.23697776040783, 161.99141836354096, 158.56881355007954, 158.0371224546616, 156.55422840151678, 155.20094839071658, 154.47512740015455, 152.12631625267986, 150.63632827917797, 150.6153112166276, 149.870096647776, 147.04968096910173, 146.95787469880926, 138.82209214066035, 136.96900838291288, 249.00385727202755, 401.9919966152491, 493.2219299951161, 388.7931754542064, 197.91153703118266, 213.5370259979471, 236.22998311625398, 431.7021115195811, 367.65611624107703, 259.0542130543024, 207.69507670450568, 260.22031591777113, 741.0211090059125, 360.37447169308297, 286.4423395945994, 461.6095856410108, 282.3022782638327, 268.97629593340463, 299.4482484736936, 220.882974639924, 280.0491115152019, 218.3224752620931, 265.5898489378825, 245.34164735755104, 274.2141679092773, 254.3842605780592, 1449.054090645757, 1088.1580278625356, 967.2755818413538, 875.1316833644041, 633.845083328549, 589.5415991434805, 588.7453634824982, 509.08365757523444, 427.22874478006077, 385.3285050227533, 271.75137682384985, 246.21288012254533, 241.36392044095058, 239.08785347497917, 237.3277986523485, 236.4746554418061, 215.79916904716467, 212.8358972563148, 200.12275068460931, 195.2772994625597, 188.8777517440009, 188.52527746137216, 185.2879765144699, 181.02174006823697, 174.10787568200277, 172.51182875294177, 161.20703491807592, 159.60318208619915, 158.12805110978735, 156.8715021991044, 236.55160653537044, 1014.6036603183171, 4889.595499390998, 395.1089823000242, 744.7255658751458, 848.026768590963, 236.85279687584406, 267.36227714598573, 387.2498986237973, 503.48197384577225, 230.59697849042175, 316.8931646106668, 1064.6195881183926, 428.8439119742984, 1190.2408382635842, 548.8517275685848, 785.2735546745604, 545.1391058943104, 1374.488078096617, 1249.6097484568318, 489.96241875909226, 448.17139449365425, 565.587247467804, 1318.7016240498303, 933.1266203669769, 934.3985292799747, 1066.0151156729714, 1070.9545566796778, 773.1226009744669, 2167.358572407897, 803.1782477335894, 1223.4393932996456, 1095.4416570258077, 1098.2249230190375, 804.2082911675134, 794.9532099038498, 926.9403164838343, 953.905832941185, 667.516827157235, 750.296328157325, 703.5886930525556, 721.4599466311353, 2479.304812879334, 2023.5326503324045, 1505.5771172383909, 997.2570744535344, 797.959218179978, 792.5635369338155, 747.2053750021597, 587.0919823061381, 583.4620826405343, 583.3034553869205, 559.6748106132787, 443.5761433311006, 422.30187399820386, 416.31019422122733, 379.8820031027732, 376.64148377377427, 313.20306802812803, 310.8751820994611, 292.10431107642694, 278.62892588194075, 259.7389759820971, 255.4144314623383, 254.130495655574, 251.12752993342733, 250.32545539140017, 249.82057458575773, 239.99826350720798, 236.91330422516117, 234.44775028840192, 233.50188881590185, 3010.7207359352656, 1463.9874059641672, 938.5040802296181, 370.7312243918167, 5752.163281788379, 5318.954235009958, 1043.965612845348, 975.72206157251, 350.30108751047453, 3104.2590138548567, 492.2058374591121, 1137.2596295798826, 2759.894365419563, 598.2993695565737, 542.5861320438014, 3490.1371581261146, 623.0240914744237, 1126.9515845009116, 980.2308553651675, 958.1059473847671, 988.6545202059949, 881.4662431854003, 1968.8310333440454, 752.1650791559683, 991.3899108742676, 1710.8053401375757, 938.9229553211919, 1018.4014677225349, 990.451283672025, 928.3825461011853, 2727.4668914948234, 1584.6544581636035, 1311.0367387954625, 812.7862987176031, 560.4012966818333, 539.3314276089891, 473.23130327179064, 388.5727690934225, 388.01914819173265, 358.4056950098287, 348.24336866373085, 327.0345546969676, 307.8113785690898, 287.3869003676593, 226.93639440753446, 221.30243957951004, 220.66114229108322, 214.5417227437025, 203.44129459866417, 181.46792832389673, 178.292255636657, 176.67048599097916, 171.6409203912689, 161.619302733689, 148.01069285589486, 146.97473994465855, 142.54356140656796, 142.16993969248173, 138.03153789514928, 136.98725302883048, 1351.0714012501032, 6482.984894423238, 702.1113466766416, 243.49737267876978, 2020.4251334327473, 205.81932408520245, 704.4343957897524, 871.587472450782, 776.7240702536042, 669.4798303338135, 2166.9394966618206, 269.5415637249715, 822.5002263562125, 1881.4227450747628, 431.7587533397223, 592.7652954020759, 909.4343977958634, 2547.6664071991263, 1465.6823530768593, 1541.6400884992397, 1103.7952960830517, 924.2259478556778, 833.9967448525026, 575.8434500209802, 878.7943371815677, 869.6075998509584, 577.7432937315439, 884.1031483216809, 721.2019223060976, 1154.6851402576171, 990.0999379301318, 813.7345357541637, 752.5083813752376, 777.0982579614796, 3218.263857520446, 2058.097337408133, 1671.0264393348618, 769.390472781357, 746.369774603492, 712.6231212875304, 700.9711999754423, 539.0962084143149, 532.0666810359145, 417.4789754810946, 404.2922057401259, 368.1167504515043, 286.303115969951, 270.400512320598, 233.81680303506886, 218.28712793534615, 201.87103764088044, 192.75793425184867, 187.66779083110217, 169.8780815056402, 166.92759535584383, 165.03548664988122, 164.62266907844497, 161.44892272143025, 161.24775359535613, 158.295340602981, 152.79236270867037, 151.20927560680897, 149.70645671026824, 141.35743936541976, 509.2147675070981, 290.7982030764171, 551.8209415874494, 960.0635802651108, 275.3959362166832, 353.06996914542447, 753.7925130849833, 528.7495370259328, 571.7163687110707, 383.938460516805, 270.10927175503065, 759.5391013484846, 504.8808928963886, 933.2478135092191, 354.5159123816359, 331.09378866652844, 355.44343355139256, 335.04810909347725, 440.09189292163273, 521.0107625572684, 346.85752443318734, 453.01779522084144, 406.14863405412564, 445.7499478392781, 432.07227269604954, 434.0081748153593, 472.4934072920825], \"Total\": [216550.0, 15125.0, 14986.0, 6943.0, 15334.0, 21876.0, 5967.0, 5513.0, 5815.0, 11427.0, 5644.0, 20012.0, 18263.0, 8658.0, 8793.0, 3219.0, 24991.0, 11784.0, 4047.0, 5923.0, 6471.0, 7041.0, 6734.0, 5321.0, 3799.0, 3944.0, 4950.0, 31783.0, 3040.0, 16578.0, 3387.6649653750337, 2142.908860480597, 1857.8549778614433, 752.1226465430226, 701.3833278695929, 588.2590587484075, 585.3488017859548, 557.4802330711634, 503.0927695065641, 478.2548158968327, 452.3157330892283, 423.1016478873051, 363.0281204779922, 340.6983076159646, 336.5432106156017, 334.2488609873334, 332.928535446574, 316.28744995126584, 308.0493612127575, 306.00746607828194, 300.9799281575579, 292.21014870575743, 291.88189599899823, 294.0985440522284, 289.2983844382611, 281.8286836672177, 281.34490840347695, 275.7584756905471, 273.6118212201776, 269.31954139985976, 5125.873024190926, 1202.1472878078418, 586.7935119476748, 921.0516377895485, 402.19563928434866, 4150.57110639374, 2885.8298591210205, 15334.782059714233, 967.3921010391854, 3027.7620760168115, 11427.06039004608, 1310.7889837779608, 467.69074691246306, 1190.8220795934446, 1992.301975971808, 2077.7732386012444, 1557.721771229427, 1005.0246407069594, 737.4090974363372, 3394.1706803532456, 11784.340045943125, 7086.886007148289, 3267.5029306496695, 2846.8026048539195, 1589.5323335166952, 20012.728753626165, 2192.9762527433936, 2102.8998784058795, 1838.4746146293444, 1920.3438321408787, 1853.863628236485, 3176.005590662326, 1992.1462773277824, 4561.971699319977, 24991.51436638574, 18263.24692302104, 11704.467153825182, 31783.10271054317, 16578.7019456307, 18642.00276835369, 5474.220048938031, 2247.9096716303043, 8914.356758497652, 5539.569007649763, 5711.750101768511, 15088.329638350639, 9995.544740376647, 13985.810125912767, 9461.485749371552, 5923.817138340703, 4950.146588317781, 4612.242080155028, 4192.735550564757, 2743.3527881184455, 2541.8139140579137, 2517.59251858408, 2456.2648172660024, 2322.1471571372635, 2179.0543652440083, 1886.3785362590997, 1835.6705823256295, 1385.311852516969, 1031.8153027119029, 857.9794078756685, 773.8761076750963, 702.3999410117661, 620.2558891612717, 619.5514622010802, 584.0932113890868, 569.1638823260599, 539.8125183022768, 435.85954038985363, 409.6793198195869, 364.66468496086736, 340.4938984964361, 338.3786712421761, 5321.060650684326, 319.54998877407905, 308.952081105813, 461.164600109704, 3240.43133671408, 14986.593009291406, 1044.4671688087815, 21876.98198325798, 2501.7958131087407, 2334.7064390755545, 2565.0702087506093, 7175.342929545201, 6978.516932914216, 18263.24692302104, 2786.4415889943275, 16578.7019456307, 5467.049895361101, 24991.51436638574, 18642.00276835369, 8914.356758497652, 6265.110215056632, 9461.485749371552, 13985.810125912767, 8658.648318201145, 12880.7605109884, 7524.81253872646, 9995.544740376647, 31783.10271054317, 9497.236637632826, 6723.738142771271, 5172.598857379366, 7236.343425639691, 15088.329638350639, 2597.7239275208044, 2439.8734445196606, 1727.9857289304946, 1476.3730726614385, 1299.8969120014021, 1214.6563886015244, 1167.3882941044362, 1157.626580917476, 1148.40413007929, 1146.1517431593027, 1122.6928183600955, 1049.2762840835642, 1029.1750890899611, 947.0709562387475, 939.6335708618934, 799.2977643069903, 703.0306100538294, 686.9656327008623, 631.735241394907, 628.1776681725647, 602.3001915208621, 586.260268987013, 568.2978724029534, 531.0049987470505, 509.84036120390886, 491.3758407381732, 1260.3088185520326, 477.4302599185757, 457.91918121814086, 437.17958758895475, 2908.4203840135074, 2137.130515825513, 1001.0927073604055, 2118.7322639621684, 2704.1422761078215, 882.8806570600063, 2115.85289821128, 1386.7592402589357, 6471.155413925253, 2614.763747600508, 1020.623955758246, 8793.635384105233, 2821.4146639886076, 1693.467559546676, 4177.686604752751, 2016.564590560891, 4108.448105820233, 5096.740292826567, 2544.380468443334, 3623.511009419418, 1883.2360277802923, 6576.592976268132, 7007.924497912837, 2855.4685796267327, 2829.764176873579, 1982.358108423603, 3549.3309093578277, 6575.904781934493, 3282.3715693177905, 6328.534719683196, 5146.73125048253, 8650.916248412936, 6657.610357134404, 4818.9949988785875, 15088.329638350639, 31783.10271054317, 21876.98198325798, 9578.791629410669, 6841.857258100757, 9497.236637632826, 20012.728753626165, 18642.00276835369, 11704.467153825182, 7994.108042927556, 2376.0883337090804, 1451.5167929109025, 818.7422673000374, 622.8165555220986, 609.7878890490566, 572.8914354500914, 467.9325082353164, 310.2371021928487, 308.29175251307595, 278.0273852705886, 243.86651889477915, 234.42648349605452, 226.9937933455172, 226.35595246534766, 224.71144686632522, 222.317114152127, 221.6802358114406, 218.48221088352437, 218.12887810458568, 217.934783885837, 214.75585017463814, 204.77232103706882, 203.63855824522616, 186.80928231232437, 174.66164877613517, 172.71353817188873, 169.0980453461878, 166.188853257991, 165.2030122443966, 163.36207458665453, 5815.7967187971135, 543.1593165480372, 415.82124825958675, 661.8827322211199, 488.697780454214, 607.4225930172382, 434.5763007832163, 518.7469915668754, 296.02831041855774, 1474.7011200688858, 286.2771891019466, 932.0709528302547, 969.5736729187611, 701.7456377960677, 1314.8406818292713, 388.16770347347176, 1060.7498326828304, 540.3389034640873, 1319.6454544223984, 934.845010496839, 1512.4665547351049, 692.9526840941598, 851.6706349970785, 953.6418836810326, 31783.10271054317, 24991.51436638574, 12880.7605109884, 15088.329638350639, 3206.9754966586274, 20012.728753626165, 6576.592976268132, 2875.6477105502845, 1878.478443593014, 13985.810125912767, 18642.00276835369, 11784.340045943125, 7994.108042927556, 10000.607857351082, 2312.3157575640253, 4669.858394510539, 15334.782059714233, 7524.81253872646, 9578.791629410669, 8650.916248412936, 5474.220048938031, 9497.236637632826, 6978.516932914216, 11704.467153825182, 16578.7019456307, 1826.323675096012, 1387.4887345400034, 1310.3121612472596, 1293.6873941590404, 1229.4069529351966, 856.8909842358624, 786.9807774314748, 784.2942300135403, 754.7530658452038, 665.2763224065534, 585.618811501917, 531.6059608810234, 525.6311029370517, 514.7484689482363, 456.7932315693554, 451.7429009805557, 380.30282921215473, 377.3625508454515, 352.2900991555767, 340.1851658213517, 335.49809542279286, 319.9520527284354, 311.7587094867584, 286.1362122435372, 273.41536255971084, 271.40074152985494, 264.6749003881822, 238.10594636175983, 233.69475551746373, 227.76339824230865, 1807.2656980667016, 1562.7401740249468, 2513.3581885046547, 4047.7347734811974, 1745.4252076805558, 501.56048735521756, 1196.9815484793558, 1458.4998805231357, 610.8152665038126, 1925.2057876411393, 1409.3865575681102, 643.1394131866739, 2733.1241000554796, 2604.927572549391, 7041.451445227784, 3460.192197668978, 2064.743030011517, 3818.387061826832, 3888.680085062821, 4584.518317260091, 3572.745631571944, 2968.9158585480327, 2288.183149352629, 4076.7988132331743, 7236.343425639691, 5172.598857379366, 3858.489550953952, 16578.7019456307, 18263.24692302104, 18642.00276835369, 3699.504890224387, 9995.544740376647, 6723.738142771271, 216550.2018254068, 898.3276334379543, 360.72947435637445, 352.4541350974087, 296.2968457817207, 285.8513905845138, 15125.877347697262, 278.43087822935684, 252.7422930320552, 241.44503036588577, 205.94705684398602, 202.56816649536506, 202.05685798975378, 199.96329612151362, 192.09826655254224, 186.42325710228943, 163.17812339693805, 159.7550817761178, 159.2232994299729, 157.74331177331007, 156.38713191570412, 155.66130645227832, 153.31326071901927, 151.822506050411, 151.8015403525678, 151.05629498983348, 148.23601105820399, 148.1440919655608, 140.00827411592144, 138.15606063988525, 252.96756145862915, 413.3694568914493, 524.5371807378662, 414.6736116387817, 202.83847866051465, 222.92824736154424, 250.58041405076833, 495.87097887653385, 418.6427311582675, 280.7782789469715, 218.4146950217487, 287.9075931543937, 1181.6040344427981, 471.25878311864017, 357.3009664117631, 771.0734112682165, 389.7275948839929, 366.6995987064446, 485.31984388346837, 249.75200572178505, 428.3519994761068, 260.6563088441374, 858.0950711987088, 554.0780142193692, 1853.863628236485, 1435.1252697759683, 1450.2365184144396, 1089.3403563312124, 968.4580223006128, 876.3139886510543, 635.027393649256, 590.7239026746246, 589.9276597376653, 510.26597034085773, 428.4111253939976, 386.5109039966573, 272.9337224887104, 247.39520587140612, 242.54622318341382, 240.27021348080967, 238.51014851070235, 237.6570236597619, 216.98147626820736, 214.01824620502072, 201.30522846569988, 196.4597297039028, 190.0600838311287, 189.70760209724222, 186.47026972581443, 182.20425273987723, 175.29017591274473, 173.6941284934606, 162.38967889146258, 160.78553534159772, 159.31059188316553, 158.05393618939908, 239.83766431818952, 1069.8928647790299, 5644.827412034819, 412.7614769074558, 799.6878759297743, 971.5648362135515, 245.69241089766146, 282.04407812470555, 431.45645468777906, 591.1708253156951, 239.59161299948482, 352.03981839072407, 1603.1962708035705, 519.6618621451794, 1988.6524721973574, 739.9683108400728, 1219.566689499192, 743.0983408177468, 2984.2555210335076, 2690.979524161274, 682.9295838466383, 610.5698301430796, 872.9630345909474, 3661.891823933146, 2226.810051105361, 2439.2301702424, 4052.9727173389138, 4337.171610874989, 2189.5009773431802, 31783.10271054317, 2580.574788303921, 11704.467153825182, 8658.648318201145, 10000.607857351082, 3532.935943288226, 3572.745631571944, 7007.924497912837, 15088.329638350639, 2247.5942915613427, 9497.236637632826, 6734.092125920833, 13985.810125912767, 2480.483662005075, 2024.711433257014, 1506.755894111107, 998.4358502847156, 799.1388318530305, 793.7423323012054, 748.384349324517, 588.2707915420319, 584.6410844394894, 584.4822255323206, 560.8539511924852, 444.7549172393566, 423.48077362683676, 417.4889644239827, 381.06078236112336, 377.82030085028583, 314.3819506887344, 312.054477474349, 293.2835506561669, 279.8077395085522, 260.9177483175174, 256.59359827932167, 255.3092649049077, 252.3063115483731, 251.50443973293721, 250.99933918162395, 241.17708579469473, 238.0929669864078, 235.62659762648036, 234.68065922232077, 3040.782781552088, 1487.568545426029, 953.1741566961211, 373.80333696361646, 5967.058988692907, 5513.66292586819, 1076.2972429461197, 1033.3443461499828, 358.9175649065625, 3799.6101532889465, 529.1885633018089, 1364.599722205349, 3944.7709163976583, 667.8774621600423, 626.9767351128328, 8658.648318201145, 770.2256831374077, 1846.264094324178, 1559.4229324557366, 1742.721695553126, 1890.850031969894, 1551.1372786442842, 12880.7605109884, 1374.8905038479857, 3786.850670313139, 31783.10271054317, 6657.610357134404, 15088.329638350639, 21876.98198325798, 13985.810125912767, 2728.647255831179, 1585.834862144461, 1312.2171094998769, 813.9666688148839, 561.5816965460318, 540.5118293116285, 474.41172090812154, 389.7531308727767, 389.1995038716745, 359.5860760347008, 349.42373064817707, 328.2149142037981, 308.991741267388, 288.56732024261964, 228.11740770003198, 222.4828084031826, 221.84150972962104, 215.72213959181886, 204.62173599832138, 182.64829427494598, 179.47261244256794, 177.85092834897, 172.82132554309322, 162.80136877878422, 149.1919779895669, 148.15509682385056, 143.72404769085404, 143.35040149386046, 139.2118953150067, 138.16762424392084, 1372.0185685175745, 6943.930343851467, 723.6105678691607, 250.8307381293333, 2282.292128663328, 211.21125154778187, 826.7738245634678, 1128.3702126029018, 997.6474451046474, 852.1219731915721, 3544.975676024584, 292.9972918963672, 1156.0353240079394, 3689.879594691253, 548.3619527523399, 853.6651951101443, 1539.3341473672908, 6734.092125920833, 3532.935943288226, 4733.312256492528, 3386.8208817832697, 2623.384904992044, 2239.152933488809, 1056.8230827902871, 2959.782783523827, 3122.9884181538564, 1103.2233318068857, 3661.891823933146, 2085.600231158975, 10000.607857351082, 6328.534719683196, 5146.73125048253, 3364.0035927138756, 9578.791629410669, 3219.4324522762154, 2059.2690684514055, 1672.1950328749058, 770.5590512266956, 747.5383742929422, 713.7917242728652, 702.1397810997368, 540.2648380469503, 533.2353108716503, 418.6475518318352, 405.4608329040435, 369.28532385374785, 287.4716857231852, 271.5691209337814, 234.985440317291, 219.45570087877252, 203.03960858802122, 193.9266061086881, 188.83658745043147, 171.0467826186601, 168.0963126895149, 166.20405744756118, 165.79160838546017, 162.61817502462404, 162.41633386621214, 159.4656216736439, 153.96225163304487, 152.37786047071538, 150.87503717407083, 142.52601111394404, 549.0988202218218, 316.5048894568079, 665.9538130195002, 1282.8206204818464, 304.36714271511164, 417.62393798061333, 1154.6561908481333, 750.2593641716396, 841.7793222088251, 505.457558342628, 317.4985089426687, 1410.4449881213632, 829.5462940454474, 2115.871707074571, 493.9650948078232, 442.799701815738, 500.0600021248209, 469.1910809000292, 917.6566589328979, 1615.939511609817, 624.2975421891581, 2020.329794165684, 1451.467961540794, 3818.387061826832, 4733.312256492528, 5539.569007649763, 18263.24692302104], \"Category\": [\"Default\", \"Default\", \"Default\", \"Default\", \"Default\", \"Default\", \"Default\", \"Default\", \"Default\", \"Default\", \"Default\", \"Default\", \"Default\", \"Default\", \"Default\", \"Default\", \"Default\", \"Default\", \"Default\", \"Default\", \"Default\", \"Default\", \"Default\", \"Default\", \"Default\", \"Default\", \"Default\", \"Default\", \"Default\", \"Default\", \"Topic1\", \"Topic1\", \"Topic1\", \"Topic1\", \"Topic1\", \"Topic1\", \"Topic1\", \"Topic1\", \"Topic1\", \"Topic1\", \"Topic1\", \"Topic1\", \"Topic1\", \"Topic1\", \"Topic1\", \"Topic1\", \"Topic1\", \"Topic1\", \"Topic1\", \"Topic1\", \"Topic1\", \"Topic1\", \"Topic1\", \"Topic1\", \"Topic1\", \"Topic1\", \"Topic1\", \"Topic1\", \"Topic1\", \"Topic1\", \"Topic1\", \"Topic1\", \"Topic1\", \"Topic1\", \"Topic1\", \"Topic1\", \"Topic1\", \"Topic1\", \"Topic1\", \"Topic1\", \"Topic1\", \"Topic1\", \"Topic1\", \"Topic1\", \"Topic1\", \"Topic1\", \"Topic1\", \"Topic1\", \"Topic1\", \"Topic1\", \"Topic1\", \"Topic1\", \"Topic1\", \"Topic1\", \"Topic1\", \"Topic1\", \"Topic1\", \"Topic1\", \"Topic1\", \"Topic1\", \"Topic1\", \"Topic1\", \"Topic1\", \"Topic1\", \"Topic1\", \"Topic1\", \"Topic1\", \"Topic1\", \"Topic1\", \"Topic1\", \"Topic1\", \"Topic1\", \"Topic1\", \"Topic1\", \"Topic1\", \"Topic1\", \"Topic1\", \"Topic1\", \"Topic1\", \"Topic2\", \"Topic2\", \"Topic2\", \"Topic2\", \"Topic2\", \"Topic2\", \"Topic2\", \"Topic2\", \"Topic2\", \"Topic2\", \"Topic2\", \"Topic2\", \"Topic2\", \"Topic2\", \"Topic2\", \"Topic2\", \"Topic2\", \"Topic2\", \"Topic2\", \"Topic2\", \"Topic2\", \"Topic2\", \"Topic2\", \"Topic2\", \"Topic2\", \"Topic2\", \"Topic2\", \"Topic2\", \"Topic2\", \"Topic2\", \"Topic2\", \"Topic2\", \"Topic2\", \"Topic2\", \"Topic2\", \"Topic2\", \"Topic2\", \"Topic2\", \"Topic2\", \"Topic2\", \"Topic2\", \"Topic2\", \"Topic2\", \"Topic2\", \"Topic2\", \"Topic2\", \"Topic2\", \"Topic2\", \"Topic2\", \"Topic2\", \"Topic2\", \"Topic2\", \"Topic2\", \"Topic2\", \"Topic2\", \"Topic2\", \"Topic2\", \"Topic2\", \"Topic2\", \"Topic2\", \"Topic3\", \"Topic3\", \"Topic3\", \"Topic3\", \"Topic3\", \"Topic3\", \"Topic3\", \"Topic3\", \"Topic3\", \"Topic3\", \"Topic3\", \"Topic3\", \"Topic3\", \"Topic3\", \"Topic3\", \"Topic3\", \"Topic3\", \"Topic3\", \"Topic3\", \"Topic3\", \"Topic3\", \"Topic3\", \"Topic3\", \"Topic3\", \"Topic3\", \"Topic3\", \"Topic3\", \"Topic3\", \"Topic3\", \"Topic3\", \"Topic3\", \"Topic3\", \"Topic3\", \"Topic3\", \"Topic3\", \"Topic3\", \"Topic3\", \"Topic3\", \"Topic3\", \"Topic3\", \"Topic3\", \"Topic3\", \"Topic3\", \"Topic3\", \"Topic3\", \"Topic3\", \"Topic3\", \"Topic3\", \"Topic3\", \"Topic3\", \"Topic3\", \"Topic3\", \"Topic3\", \"Topic3\", \"Topic3\", \"Topic3\", \"Topic3\", \"Topic3\", \"Topic3\", \"Topic3\", \"Topic3\", \"Topic3\", \"Topic3\", \"Topic3\", \"Topic3\", \"Topic3\", \"Topic3\", \"Topic3\", \"Topic3\", \"Topic3\", \"Topic3\", \"Topic3\", \"Topic3\", \"Topic3\", \"Topic4\", \"Topic4\", \"Topic4\", \"Topic4\", \"Topic4\", \"Topic4\", \"Topic4\", \"Topic4\", \"Topic4\", \"Topic4\", \"Topic4\", \"Topic4\", \"Topic4\", \"Topic4\", \"Topic4\", \"Topic4\", \"Topic4\", \"Topic4\", \"Topic4\", \"Topic4\", \"Topic4\", \"Topic4\", \"Topic4\", \"Topic4\", \"Topic4\", \"Topic4\", \"Topic4\", \"Topic4\", \"Topic4\", \"Topic4\", \"Topic4\", \"Topic4\", \"Topic4\", \"Topic4\", \"Topic4\", \"Topic4\", \"Topic4\", \"Topic4\", \"Topic4\", \"Topic4\", \"Topic4\", \"Topic4\", \"Topic4\", \"Topic4\", \"Topic4\", \"Topic4\", \"Topic4\", \"Topic4\", \"Topic4\", \"Topic4\", \"Topic4\", \"Topic4\", \"Topic4\", \"Topic4\", \"Topic4\", \"Topic4\", \"Topic4\", \"Topic4\", \"Topic4\", \"Topic4\", \"Topic4\", \"Topic4\", \"Topic4\", \"Topic4\", \"Topic4\", \"Topic4\", \"Topic4\", \"Topic4\", \"Topic4\", \"Topic4\", \"Topic4\", \"Topic4\", \"Topic4\", \"Topic4\", \"Topic4\", \"Topic4\", \"Topic4\", \"Topic4\", \"Topic4\", \"Topic5\", \"Topic5\", \"Topic5\", \"Topic5\", \"Topic5\", \"Topic5\", \"Topic5\", \"Topic5\", \"Topic5\", \"Topic5\", \"Topic5\", \"Topic5\", \"Topic5\", \"Topic5\", \"Topic5\", \"Topic5\", \"Topic5\", \"Topic5\", \"Topic5\", \"Topic5\", \"Topic5\", \"Topic5\", \"Topic5\", \"Topic5\", \"Topic5\", \"Topic5\", \"Topic5\", \"Topic5\", \"Topic5\", \"Topic5\", \"Topic5\", \"Topic5\", \"Topic5\", \"Topic5\", \"Topic5\", \"Topic5\", \"Topic5\", \"Topic5\", \"Topic5\", \"Topic5\", \"Topic5\", \"Topic5\", \"Topic5\", \"Topic5\", \"Topic5\", \"Topic5\", \"Topic5\", \"Topic5\", \"Topic5\", \"Topic5\", \"Topic5\", \"Topic5\", \"Topic5\", \"Topic5\", \"Topic5\", \"Topic5\", \"Topic5\", \"Topic5\", \"Topic5\", \"Topic5\", \"Topic5\", \"Topic5\", \"Topic5\", \"Topic6\", \"Topic6\", \"Topic6\", \"Topic6\", \"Topic6\", \"Topic6\", \"Topic6\", \"Topic6\", \"Topic6\", \"Topic6\", \"Topic6\", \"Topic6\", \"Topic6\", \"Topic6\", \"Topic6\", \"Topic6\", \"Topic6\", \"Topic6\", \"Topic6\", \"Topic6\", \"Topic6\", \"Topic6\", \"Topic6\", \"Topic6\", \"Topic6\", \"Topic6\", \"Topic6\", \"Topic6\", \"Topic6\", \"Topic6\", \"Topic6\", \"Topic6\", \"Topic6\", \"Topic6\", \"Topic6\", \"Topic6\", \"Topic6\", \"Topic6\", \"Topic6\", \"Topic6\", \"Topic6\", \"Topic6\", \"Topic6\", \"Topic6\", \"Topic6\", \"Topic6\", \"Topic6\", \"Topic6\", \"Topic6\", \"Topic6\", \"Topic6\", \"Topic6\", \"Topic6\", \"Topic6\", \"Topic6\", \"Topic6\", \"Topic7\", \"Topic7\", \"Topic7\", \"Topic7\", \"Topic7\", \"Topic7\", \"Topic7\", \"Topic7\", \"Topic7\", \"Topic7\", \"Topic7\", \"Topic7\", \"Topic7\", \"Topic7\", \"Topic7\", \"Topic7\", \"Topic7\", \"Topic7\", \"Topic7\", \"Topic7\", \"Topic7\", \"Topic7\", \"Topic7\", \"Topic7\", \"Topic7\", \"Topic7\", \"Topic7\", \"Topic7\", \"Topic7\", \"Topic7\", \"Topic7\", \"Topic7\", \"Topic7\", \"Topic7\", \"Topic7\", \"Topic7\", \"Topic7\", \"Topic7\", \"Topic7\", \"Topic7\", \"Topic7\", \"Topic7\", \"Topic7\", \"Topic7\", \"Topic7\", \"Topic7\", \"Topic7\", \"Topic7\", \"Topic7\", \"Topic7\", \"Topic7\", \"Topic7\", \"Topic7\", \"Topic7\", \"Topic7\", \"Topic7\", \"Topic7\", \"Topic7\", \"Topic7\", \"Topic7\", \"Topic7\", \"Topic7\", \"Topic7\", \"Topic7\", \"Topic7\", \"Topic7\", \"Topic7\", \"Topic7\", \"Topic7\", \"Topic7\", \"Topic7\", \"Topic7\", \"Topic8\", \"Topic8\", \"Topic8\", \"Topic8\", \"Topic8\", \"Topic8\", \"Topic8\", \"Topic8\", \"Topic8\", \"Topic8\", \"Topic8\", \"Topic8\", \"Topic8\", \"Topic8\", \"Topic8\", \"Topic8\", \"Topic8\", \"Topic8\", \"Topic8\", \"Topic8\", \"Topic8\", \"Topic8\", \"Topic8\", \"Topic8\", \"Topic8\", \"Topic8\", \"Topic8\", \"Topic8\", \"Topic8\", \"Topic8\", \"Topic8\", \"Topic8\", \"Topic8\", \"Topic8\", \"Topic8\", \"Topic8\", \"Topic8\", \"Topic8\", \"Topic8\", \"Topic8\", \"Topic8\", \"Topic8\", \"Topic8\", \"Topic8\", \"Topic8\", \"Topic8\", \"Topic8\", \"Topic8\", \"Topic8\", \"Topic8\", \"Topic8\", \"Topic8\", \"Topic8\", \"Topic8\", \"Topic8\", \"Topic8\", \"Topic8\", \"Topic8\", \"Topic8\", \"Topic8\", \"Topic9\", \"Topic9\", \"Topic9\", \"Topic9\", \"Topic9\", \"Topic9\", \"Topic9\", \"Topic9\", \"Topic9\", \"Topic9\", \"Topic9\", \"Topic9\", \"Topic9\", \"Topic9\", \"Topic9\", \"Topic9\", \"Topic9\", \"Topic9\", \"Topic9\", \"Topic9\", \"Topic9\", \"Topic9\", \"Topic9\", \"Topic9\", \"Topic9\", \"Topic9\", \"Topic9\", \"Topic9\", \"Topic9\", \"Topic9\", \"Topic9\", \"Topic9\", \"Topic9\", \"Topic9\", \"Topic9\", \"Topic9\", \"Topic9\", \"Topic9\", \"Topic9\", \"Topic9\", \"Topic9\", \"Topic9\", \"Topic9\", \"Topic9\", \"Topic9\", \"Topic9\", \"Topic9\", \"Topic9\", \"Topic9\", \"Topic9\", \"Topic9\", \"Topic9\", \"Topic9\", \"Topic9\", \"Topic9\", \"Topic9\", \"Topic9\", \"Topic9\", \"Topic9\", \"Topic9\", \"Topic9\", \"Topic9\", \"Topic9\", \"Topic9\", \"Topic10\", \"Topic10\", \"Topic10\", \"Topic10\", \"Topic10\", \"Topic10\", \"Topic10\", \"Topic10\", \"Topic10\", \"Topic10\", \"Topic10\", \"Topic10\", \"Topic10\", \"Topic10\", \"Topic10\", \"Topic10\", \"Topic10\", \"Topic10\", \"Topic10\", \"Topic10\", \"Topic10\", \"Topic10\", \"Topic10\", \"Topic10\", \"Topic10\", \"Topic10\", \"Topic10\", \"Topic10\", \"Topic10\", \"Topic10\", \"Topic10\", \"Topic10\", \"Topic10\", \"Topic10\", \"Topic10\", \"Topic10\", \"Topic10\", \"Topic10\", \"Topic10\", \"Topic10\", \"Topic10\", \"Topic10\", \"Topic10\", \"Topic10\", \"Topic10\", \"Topic10\", \"Topic10\", \"Topic10\", \"Topic10\", \"Topic10\", \"Topic10\", \"Topic10\", \"Topic10\", \"Topic10\", \"Topic10\", \"Topic10\", \"Topic10\"], \"logprob\": [30.0, 29.0, 28.0, 27.0, 26.0, 25.0, 24.0, 23.0, 22.0, 21.0, 20.0, 19.0, 18.0, 17.0, 16.0, 15.0, 14.0, 13.0, 12.0, 11.0, 10.0, 9.0, 8.0, 7.0, 6.0, 5.0, 4.0, 3.0, 2.0, 1.0, -5.4857, -5.9439, -6.0867, -6.9918, -7.0618, -7.238, -7.243, -7.2918, -7.3947, -7.4454, -7.5013, -7.5683, -7.7218, -7.7855, -7.7978, -7.8047, -7.8087, -7.8601, -7.8866, -7.8933, -7.9099, -7.9396, -7.9407, -7.9331, -7.9496, -7.9759, -7.9776, -7.9978, -8.0056, -8.0215, -5.0825, -6.542, -7.2509, -6.8107, -7.6244, -5.3555, -5.7089, -4.0916, -6.774, -5.6675, -4.3814, -6.4846, -7.4843, -6.5879, -6.1009, -6.074, -6.3485, -6.7618, -7.0533, -5.6324, -4.5217, -4.9897, -5.697, -5.8404, -6.3684, -4.1473, -6.1106, -6.148, -6.2631, -6.2291, -6.263, -5.8363, -6.2098, -5.6043, -4.4257, -4.6851, -5.0555, -4.4371, -4.9506, -5.0646, -5.7248, -6.1642, -5.6327, -5.8427, -5.8847, -5.6849, -5.7932, -5.7402, -6.0138, -4.8684, -5.048, -5.1187, -5.2141, -5.6384, -5.7147, -5.7243, -5.749, -5.8052, -5.8688, -6.0131, -6.0404, -6.3221, -6.617, -6.8018, -6.9051, -7.0022, -7.1268, -7.1279, -7.187, -7.2129, -7.266, -7.4804, -7.5426, -7.6593, -7.7281, -7.7344, -4.9792, -7.7919, -7.8257, -7.4327, -5.5316, -4.0596, -6.7031, -4.0006, -6.0048, -6.0742, -6.043, -5.2253, -5.2577, -4.5515, -5.9959, -4.6806, -5.5559, -4.5143, -4.7289, -5.2366, -5.4902, -5.2366, -5.0347, -5.376, -5.1671, -5.4584, -5.3923, -5.071, -5.4869, -5.6178, -5.6872, -5.6753, -5.6491, -5.63, -5.6927, -6.0379, -6.1953, -6.3228, -6.3906, -6.4304, -6.4388, -6.4468, -6.4488, -6.4695, -6.5372, -6.5565, -6.6398, -6.6477, -6.8096, -6.9382, -6.9613, -7.0453, -7.051, -7.0931, -7.1201, -7.1513, -7.2194, -7.2601, -7.2971, -6.3552, -7.326, -7.3678, -7.4143, -5.524, -5.8351, -6.5872, -5.8458, -5.605, -6.7134, -5.8497, -6.2755, -4.7779, -5.6733, -6.5845, -4.5208, -5.6088, -6.1037, -5.2625, -5.9685, -5.329, -5.1419, -5.763, -5.4805, -6.0395, -5.0326, -4.9976, -5.7194, -5.7288, -6.0182, -5.5829, -5.1347, -5.6666, -5.2741, -5.4102, -5.1508, -5.3049, -5.5018, -4.8981, -4.5131, -4.7463, -5.1969, -5.3757, -5.3309, -5.2122, -5.312, -5.5461, -5.6023, -4.9717, -5.4649, -6.0381, -6.3121, -6.3333, -6.3958, -6.5987, -7.0109, -7.0173, -7.121, -7.2527, -7.2924, -7.3248, -7.3276, -7.3349, -7.3457, -7.3486, -7.3632, -7.3648, -7.3657, -7.3805, -7.4284, -7.4339, -7.5207, -7.5884, -7.5997, -7.621, -7.6385, -7.6445, -7.6558, -4.1033, -6.4572, -6.7251, -6.2729, -6.5828, -6.3787, -6.7101, -6.5576, -7.0915, -5.6311, -7.1243, -6.103, -6.0907, -6.3695, -5.844, -6.8748, -6.0563, -6.6269, -5.9257, -6.2121, -5.8562, -6.4501, -6.3007, -6.2759, -4.3235, -4.5376, -5.1106, -5.0537, -5.8049, -5.1809, -5.5993, -5.9326, -6.086, -5.4239, -5.37, -5.5259, -5.6504, -5.6621, -6.0562, -5.8968, -5.6406, -5.8006, -5.8623, -5.8894, -5.9525, -5.9383, -5.9607, -5.9493, -6.0325, -5.1419, -5.4169, -5.4742, -5.4869, -5.5379, -5.8993, -5.9846, -5.988, -6.0265, -6.1529, -6.2806, -6.3776, -6.3889, -6.4099, -6.5296, -6.5408, -6.7134, -6.7212, -6.7902, -6.8253, -6.8392, -6.8868, -6.9129, -6.999, -7.0446, -7.0521, -7.0773, -7.1836, -7.2024, -7.2282, -5.1611, -5.309, -4.8626, -4.398, -5.2436, -6.4686, -5.7042, -5.5951, -6.3392, -5.4032, -5.6803, -6.3162, -5.2047, -5.2795, -4.692, -5.191, -5.5404, -5.2359, -5.2649, -5.2206, -5.3649, -5.4662, -5.6163, -5.3994, -5.2149, -5.4246, -5.5284, -5.1219, -5.1266, -5.3672, -5.5635, -5.4833, -5.5156, -0.3365, -5.8228, -6.7372, -6.7605, -6.9347, -6.9707, -3.002, -6.9971, -7.0944, -7.1403, -7.3002, -7.3168, -7.3194, -7.3299, -7.3702, -7.4004, -7.5345, -7.5558, -7.5592, -7.5686, -7.5773, -7.582, -7.5973, -7.6072, -7.6073, -7.6123, -7.6313, -7.6319, -7.6888, -7.7023, -7.1046, -6.6256, -6.4211, -6.659, -7.3342, -7.2582, -7.1572, -6.5543, -6.7149, -7.065, -7.286, -7.0605, -6.014, -6.7349, -6.9645, -6.4873, -6.9791, -7.0274, -6.9201, -7.2244, -6.9871, -7.2361, -7.0401, -7.1194, -7.0081, -7.0832, -5.2934, -5.5799, -5.6976, -5.7977, -6.1203, -6.1927, -6.1941, -6.3395, -6.5148, -6.618, -6.9672, -7.0659, -7.0858, -7.0953, -7.1026, -7.1063, -7.1977, -7.2116, -7.2732, -7.2977, -7.331, -7.3329, -7.3502, -7.3735, -7.4124, -7.4216, -7.4894, -7.4994, -7.5087, -7.5167, -7.1059, -5.6498, -4.0772, -6.5929, -5.9591, -5.8292, -7.1047, -6.9835, -6.613, -6.3505, -7.1314, -6.8135, -5.6017, -6.511, -5.4902, -6.2643, -5.9061, -6.2711, -5.3463, -5.4415, -6.3778, -6.4669, -6.2342, -5.3877, -5.7336, -5.7322, -5.6004, -5.5958, -5.9217, -4.8908, -5.8835, -5.4627, -5.5732, -5.5706, -5.8822, -5.8938, -5.7402, -5.7115, -6.0685, -5.9516, -6.0159, -5.9908, -4.676, -4.8791, -5.1748, -5.5867, -5.8097, -5.8165, -5.8754, -6.1166, -6.1228, -6.123, -6.1644, -6.3969, -6.446, -6.4603, -6.5519, -6.5605, -6.7449, -6.7524, -6.8146, -6.8619, -6.9321, -6.9489, -6.9539, -6.9658, -6.969, -6.971, -7.0111, -7.0241, -7.0345, -7.0386, -4.4818, -5.2028, -5.6475, -6.5763, -3.8344, -3.9127, -5.541, -5.6086, -6.633, -4.4512, -6.2929, -5.4554, -4.5688, -6.0977, -6.1954, -4.3341, -6.0572, -5.4645, -5.604, -5.6268, -5.5954, -5.7102, -4.9066, -5.8688, -5.5926, -5.047, -5.647, -5.5658, -5.5936, -5.6583, -4.4177, -4.9608, -5.1503, -5.6284, -6.0002, -6.0385, -6.1693, -6.3664, -6.3678, -6.4472, -6.476, -6.5388, -6.5994, -6.668, -6.9042, -6.9293, -6.9322, -6.9604, -7.0135, -7.1278, -7.1455, -7.1546, -7.1835, -7.2436, -7.3316, -7.3386, -7.3692, -7.3719, -7.4014, -7.409, -5.1202, -3.5519, -5.7748, -6.8338, -4.7178, -7.0019, -5.7715, -5.5586, -5.6738, -5.8224, -4.6478, -6.7322, -5.6165, -4.7891, -6.261, -5.9441, -5.5161, -4.4859, -5.0388, -4.9883, -5.3224, -5.4999, -5.6026, -5.973, -5.5503, -5.5608, -5.9697, -5.5443, -5.748, -5.2773, -5.4311, -5.6272, -5.7055, -5.6733, -3.8092, -4.2562, -4.4646, -5.2402, -5.2706, -5.3168, -5.3333, -5.5959, -5.609, -5.8516, -5.8836, -5.9774, -6.2287, -6.2859, -6.4312, -6.5, -6.5782, -6.6244, -6.6511, -6.7507, -6.7682, -6.7796, -6.7821, -6.8016, -6.8028, -6.8213, -6.8567, -6.8671, -6.8771, -6.9345, -5.6529, -6.2132, -5.5726, -5.0188, -6.2676, -6.0191, -5.2607, -5.6153, -5.5371, -5.9353, -6.287, -5.2531, -5.6615, -5.0471, -6.015, -6.0834, -6.0124, -6.0715, -5.7988, -5.63, -6.0369, -5.7699, -5.8791, -5.786, -5.8172, -5.8127, -5.7278], \"loglift\": [30.0, 29.0, 28.0, 27.0, 26.0, 25.0, 24.0, 23.0, 22.0, 21.0, 20.0, 19.0, 18.0, 17.0, 16.0, 15.0, 14.0, 13.0, 12.0, 11.0, 10.0, 9.0, 8.0, 7.0, 6.0, 5.0, 4.0, 3.0, 2.0, 1.0, 1.6358, 1.6356, 1.6355, 1.6346, 1.6345, 1.6342, 1.6342, 1.6341, 1.6339, 1.6338, 1.6336, 1.6335, 1.633, 1.6328, 1.6328, 1.6328, 1.6328, 1.6326, 1.6325, 1.6325, 1.6324, 1.6323, 1.6323, 1.6323, 1.6323, 1.6322, 1.6321, 1.6321, 1.6321, 1.632, 1.6248, 1.6155, 1.6238, 1.6132, 1.628, 1.5629, 1.5729, 1.5199, 1.6007, 1.5663, 1.5242, 1.5863, 1.6172, 1.579, 1.5514, 1.5363, 1.5499, 1.5748, 1.593, 1.4871, 1.3531, 1.3937, 1.4606, 1.455, 1.5098, 1.198, 1.4458, 1.4503, 1.4696, 1.46, 1.4613, 1.3496, 1.4426, 1.2196, 0.6973, 0.7516, 0.8261, 0.4455, 0.5829, 0.3516, 0.9168, 1.3674, 0.5212, 0.787, 0.7144, -0.0573, 0.2463, -0.0366, 0.0806, 1.6943, 1.6942, 1.6942, 1.6942, 1.694, 1.694, 1.694, 1.694, 1.6939, 1.6939, 1.6938, 1.6938, 1.6936, 1.6933, 1.693, 1.6929, 1.6927, 1.6925, 1.6925, 1.6923, 1.6923, 1.6922, 1.6916, 1.6914, 1.6911, 1.6908, 1.6908, 1.6907, 1.6906, 1.6904, 1.6829, 1.6343, 1.5748, 1.595, 1.2556, 1.4198, 1.4196, 1.3566, 1.1456, 1.1411, 0.8852, 1.3209, 0.8528, 1.087, 0.6087, 0.6872, 0.9173, 1.0164, 0.8578, 0.6688, 0.8071, 0.6188, 0.865, 0.6472, -0.1884, 0.6037, 0.8181, 1.011, 0.6872, -0.0214, 1.757, 1.757, 1.7568, 1.7567, 1.7566, 1.7565, 1.7565, 1.7564, 1.7564, 1.7564, 1.7564, 1.7563, 1.7563, 1.7562, 1.7562, 1.756, 1.7558, 1.7557, 1.7556, 1.7556, 1.7555, 1.7554, 1.7554, 1.7552, 1.7551, 1.7551, 1.755, 1.755, 1.7549, 1.7548, 1.75, 1.747, 1.7534, 1.745, 1.7418, 1.7528, 1.7425, 1.7391, 1.6963, 1.7071, 1.7367, 1.6467, 1.6955, 1.7111, 1.6494, 1.6718, 1.5996, 1.5711, 1.6447, 1.5737, 1.6691, 1.4255, 1.397, 1.5729, 1.5726, 1.6391, 1.4919, 1.3235, 1.4865, 1.2224, 1.293, 1.0332, 1.141, 1.2672, 0.7296, 0.3696, 0.5099, 0.8852, 1.0429, 0.7597, 0.133, 0.1042, 0.3356, 0.6606, 2.5044, 2.5041, 2.5035, 2.503, 2.503, 2.5028, 2.5024, 2.5011, 2.5011, 2.5006, 2.5, 2.4998, 2.4997, 2.4997, 2.4996, 2.4996, 2.4995, 2.4995, 2.4995, 2.4995, 2.4994, 2.4991, 2.4991, 2.4985, 2.4981, 2.498, 2.4979, 2.4977, 2.4977, 2.4976, 2.4777, 2.4948, 2.494, 2.4814, 2.4749, 2.4614, 2.4649, 2.4404, 2.4674, 2.322, 2.4681, 2.3089, 2.2819, 2.3262, 2.2239, 2.4131, 2.2264, 2.3302, 2.1385, 2.1969, 2.0716, 2.2583, 2.2015, 2.1132, 0.5591, 0.5855, 0.6753, 0.574, 1.3714, 0.1644, 0.8588, 1.3527, 1.6252, 0.2797, 0.0462, 0.3489, 0.6125, 0.3769, 1.4471, 0.9036, -0.0292, 0.5228, 0.2197, 0.2945, 0.689, 0.1523, 0.4381, -0.0676, -0.4991, 2.5974, 2.5972, 2.5972, 2.5972, 2.5971, 2.5967, 2.5966, 2.5966, 2.5965, 2.5963, 2.5961, 2.5959, 2.5958, 2.5958, 2.5955, 2.5955, 2.595, 2.5949, 2.5947, 2.5946, 2.5945, 2.5944, 2.5943, 2.5939, 2.5937, 2.5937, 2.5936, 2.5931, 2.593, 2.5928, 2.5887, 2.5862, 2.5574, 2.5455, 2.541, 2.563, 2.4576, 2.3691, 2.4954, 2.2833, 2.3181, 2.4668, 2.1314, 2.1047, 1.6978, 1.9093, 2.0762, 1.7659, 1.7186, 1.5983, 1.7033, 1.7872, 1.8976, 1.5369, 1.1475, 1.2736, 1.4629, 0.4116, 0.3102, 0.049, 1.4699, 0.5561, 0.9204, 2.6273, 2.626, 2.624, 2.624, 2.6233, 2.6232, 2.6232, 2.6231, 2.6226, 2.6224, 2.6216, 2.6215, 2.6214, 2.6214, 2.6211, 2.6209, 2.62, 2.6199, 2.6198, 2.6198, 2.6197, 2.6197, 2.6196, 2.6195, 2.6195, 2.6194, 2.6193, 2.6193, 2.6188, 2.6187, 2.6115, 2.5994, 2.5658, 2.5629, 2.6027, 2.5843, 2.5684, 2.4887, 2.4975, 2.5468, 2.577, 2.5262, 2.1607, 2.3591, 2.4063, 2.1143, 2.3049, 2.3174, 2.1445, 2.5045, 2.2023, 2.4501, 1.4546, 1.8127, 0.7162, 0.8972, 2.6765, 2.6762, 2.676, 2.6759, 2.6754, 2.6753, 2.6753, 2.675, 2.6745, 2.6742, 2.6729, 2.6725, 2.6724, 2.6723, 2.6723, 2.6723, 2.6718, 2.6717, 2.6714, 2.6712, 2.671, 2.671, 2.6709, 2.6708, 2.6705, 2.6704, 2.67, 2.6699, 2.6698, 2.6698, 2.6635, 2.6242, 2.5336, 2.6336, 2.6061, 2.5413, 2.6406, 2.6238, 2.5692, 2.5167, 2.639, 2.5721, 2.2679, 2.4852, 2.164, 2.3785, 2.2371, 2.3675, 1.902, 1.9102, 2.3452, 2.3681, 2.2432, 1.6559, 1.8075, 1.7177, 1.3417, 1.2786, 1.6363, -0.0082, 1.5101, 0.419, 0.6099, 0.4683, 1.1972, 1.1745, 0.6544, -0.0838, 1.4632, 0.139, 0.4185, -0.2873, 2.7571, 2.757, 2.7568, 2.7564, 2.7561, 2.7561, 2.756, 2.7556, 2.7556, 2.7556, 2.7555, 2.755, 2.7548, 2.7548, 2.7545, 2.7545, 2.7539, 2.7538, 2.7536, 2.7534, 2.7531, 2.753, 2.753, 2.7529, 2.7529, 2.7529, 2.7527, 2.7526, 2.7526, 2.7526, 2.7477, 2.7416, 2.7421, 2.7494, 2.7209, 2.7217, 2.7271, 2.7002, 2.7333, 2.5555, 2.6852, 2.5754, 2.4004, 2.6476, 2.6131, 1.849, 2.5455, 2.264, 2.2933, 2.1594, 2.1092, 2.1925, 0.8793, 2.1544, 1.4174, -0.1644, 0.7988, 0.0619, -0.3374, 0.0453, 2.9201, 2.9197, 2.9196, 2.919, 2.9184, 2.9183, 2.918, 2.9175, 2.9174, 2.9172, 2.9171, 2.9169, 2.9167, 2.9164, 2.9153, 2.9152, 2.9152, 2.915, 2.9147, 2.914, 2.9139, 2.9138, 2.9136, 2.9132, 2.9125, 2.9125, 2.9122, 2.9122, 2.912, 2.9119, 2.9051, 2.8518, 2.8903, 2.8908, 2.7986, 2.8946, 2.7603, 2.6623, 2.6702, 2.6793, 2.4283, 2.837, 2.5801, 2.2469, 2.6814, 2.5557, 2.3942, 1.9485, 2.0407, 1.7987, 1.7993, 1.8772, 1.9329, 2.3133, 1.7062, 1.642, 2.2736, 1.4993, 1.8586, 0.7617, 1.0655, 1.076, 1.423, 0.4087, 3.3632, 3.363, 3.3629, 3.3621, 3.362, 3.3619, 3.3619, 3.3614, 3.3614, 3.3608, 3.3607, 3.3604, 3.3595, 3.3593, 3.3586, 3.3582, 3.3578, 3.3575, 3.3574, 3.3567, 3.3566, 3.3565, 3.3565, 3.3564, 3.3564, 3.3562, 3.3559, 3.3559, 3.3558, 3.3553, 3.2882, 3.2789, 3.1756, 3.0738, 3.2636, 3.1957, 2.9371, 3.0137, 2.9767, 3.0886, 3.2019, 2.7446, 2.867, 2.545, 3.0319, 3.0729, 3.0222, 3.0268, 2.6287, 2.2317, 2.7759, 1.8685, 2.09, 1.2158, 0.9698, 0.817, -0.291]}, \"token.table\": {\"Topic\": [2, 3, 4, 7, 9, 9, 2, 9, 10, 7, 9, 10, 1, 2, 7, 9, 1, 3, 6, 7, 9, 4, 7, 7, 2, 8, 9, 10, 8, 7, 1, 2, 4, 2, 3, 5, 7, 2, 3, 5, 7, 9, 1, 1, 10, 1, 2, 3, 5, 10, 10, 10, 1, 2, 10, 1, 2, 3, 4, 5, 7, 8, 7, 7, 5, 5, 2, 7, 3, 7, 9, 2, 3, 4, 5, 7, 8, 9, 10, 6, 10, 10, 10, 10, 10, 9, 2, 1, 2, 7, 8, 2, 8, 2, 4, 7, 4, 7, 1, 5, 1, 2, 3, 4, 5, 7, 8, 1, 1, 3, 4, 7, 8, 10, 6, 7, 6, 5, 5, 4, 4, 1, 2, 3, 4, 5, 7, 8, 9, 3, 4, 6, 4, 1, 2, 3, 4, 5, 7, 10, 1, 4, 2, 3, 4, 7, 8, 9, 6, 3, 6, 6, 10, 3, 4, 7, 2, 4, 2, 4, 2, 3, 4, 5, 1, 2, 3, 4, 7, 8, 9, 10, 1, 3, 8, 9, 1, 5, 1, 5, 5, 5, 4, 5, 8, 9, 3, 7, 10, 6, 10, 1, 2, 5, 9, 5, 3, 9, 9, 9, 10, 4, 8, 2, 3, 4, 5, 1, 2, 3, 4, 5, 7, 8, 7, 1, 4, 2, 3, 7, 9, 10, 3, 5, 3, 2, 3, 4, 7, 9, 3, 2, 9, 10, 9, 8, 9, 9, 6, 10, 2, 1, 3, 4, 7, 8, 9, 10, 6, 6, 7, 10, 2, 3, 4, 9, 8, 9, 2, 2, 3, 4, 7, 9, 10, 2, 3, 7, 9, 5, 6, 10, 6, 1, 3, 4, 8, 4, 7, 3, 2, 3, 7, 10, 1, 2, 3, 4, 7, 8, 9, 10, 3, 2, 4, 5, 9, 5, 4, 7, 10, 8, 1, 3, 4, 2, 4, 1, 3, 4, 3, 4, 2, 3, 4, 2, 3, 4, 8, 2, 9, 6, 8, 1, 4, 5, 7, 2, 4, 5, 8, 6, 6, 1, 2, 3, 4, 5, 7, 8, 8, 9, 9, 2, 4, 5, 7, 8, 9, 3, 4, 5, 7, 3, 7, 8, 9, 1, 5, 1, 2, 5, 9, 2, 3, 5, 7, 1, 2, 5, 10, 7, 10, 3, 6, 5, 1, 2, 4, 8, 2, 3, 9, 10, 2, 2, 7, 10, 3, 7, 8, 2, 4, 5, 3, 1, 2, 4, 5, 9, 10, 3, 8, 6, 8, 3, 10, 7, 2, 3, 5, 8, 1, 3, 8, 4, 2, 2, 4, 7, 1, 10, 1, 2, 3, 5, 7, 10, 2, 10, 2, 6, 9, 2, 1, 2, 7, 8, 8, 1, 5, 5, 1, 3, 4, 9, 1, 4, 1, 2, 3, 4, 5, 7, 8, 5, 5, 1, 2, 9, 10, 6, 3, 10, 5, 10, 2, 4, 5, 7, 9, 10, 2, 2, 2, 1, 2, 3, 4, 5, 8, 1, 4, 10, 2, 1, 3, 4, 9, 1, 2, 4, 9, 9, 1, 2, 3, 4, 5, 1, 2, 4, 8, 4, 1, 2, 3, 4, 5, 7, 9, 7, 8, 2, 3, 4, 5, 7, 8, 9, 1, 2, 5, 7, 8, 9, 10, 1, 2, 3, 4, 8, 8, 6, 8, 2, 4, 1, 2, 3, 4, 7, 8, 9, 1, 2, 4, 7, 8, 10, 1, 2, 5, 7, 9, 10, 3, 6, 10, 4, 7, 8, 3, 1, 3, 4, 6, 7, 10, 1, 2, 3, 5, 7, 10, 1, 2, 3, 4, 5, 7, 8, 9, 10, 1, 2, 9, 10, 3, 1, 1, 2, 3, 4, 7, 8, 9, 2, 5, 10, 1, 2, 4, 10, 4, 1, 3, 4, 7, 1, 1, 1, 5, 1, 10, 1, 3, 1, 6, 2, 3, 8, 9, 9, 3, 3, 9, 10, 1, 1, 2, 4, 10, 6, 1, 2, 3, 4, 5, 7, 8, 10, 7, 1, 2, 5, 9, 9, 8, 8, 10, 4, 1, 2, 3, 4, 5, 7, 8, 10, 1, 1, 1, 3, 4, 8, 9, 10, 1, 2, 4, 5, 7, 1, 2, 3, 4, 5, 7, 9, 1, 3, 4, 7, 8, 9, 2, 3, 4, 5, 6, 7, 8, 1, 3, 4, 6, 7, 8, 9, 10, 1, 2, 3, 4, 5, 7, 8, 1, 6, 1, 2, 3, 4, 5, 7, 8, 8, 2, 3, 4, 7, 8, 3, 6, 7, 9, 2, 6, 6, 1, 3, 4, 6, 7, 10, 3, 7, 10, 2, 3, 4, 9, 10, 1, 2, 3, 4, 5, 7, 8, 9, 2, 1, 2, 3, 4, 5, 7, 8, 10, 7, 10, 3, 6, 8, 3, 6, 1, 2, 3, 4, 5, 7, 8, 4, 2, 4, 5, 9, 10, 1, 3, 4, 7, 8, 10, 1, 2, 3, 4, 5, 7, 9, 4, 10, 6, 7, 3, 6, 4, 4, 5, 7, 6, 1, 6, 1, 4, 6, 2, 3, 5, 7, 9, 2, 3, 4, 5, 7, 3, 10, 2, 3, 7, 9, 8, 7, 1, 2, 5, 5, 1, 3, 3, 4, 2, 2, 3, 6, 7, 10, 4, 7, 6, 1, 6, 10, 1, 4, 9, 6, 7, 1, 5, 10, 6, 7, 9, 10, 9, 2, 7, 1, 2, 3, 7, 8, 9, 10, 1, 2, 10, 1, 3, 6, 1, 2, 3, 4, 5, 7, 8, 9, 1, 1, 8, 9, 10, 1, 2, 3, 4, 5, 6, 7, 8, 9, 10, 5, 9, 8, 9, 1, 3, 4, 7, 8, 9, 9, 7, 8, 7, 1, 2, 4, 9, 6, 2, 7, 7, 7, 1, 2, 3, 4, 5, 6, 7, 8, 9, 7, 10, 7, 2, 3, 5, 8, 9, 10, 2, 4, 5, 1, 2, 7, 3, 6, 1, 2, 3, 4, 5, 9, 10, 1, 2, 5, 7, 8, 9, 10, 9, 1, 2, 3, 4, 7, 9, 1, 2, 3, 4, 7, 8, 7, 8, 3, 7, 8, 8, 8, 1, 3, 4, 6, 10, 6, 7, 9, 2, 3, 4, 5, 8, 7, 8, 8, 8, 1, 2, 3, 4, 5, 7, 8, 9, 1, 1, 2, 3, 4, 7, 8, 9, 10, 3, 1, 2, 3, 4, 5, 7, 8, 10, 5, 3, 9, 1, 2, 3, 7, 9, 4, 7, 9, 1, 2, 3, 4, 5, 7, 9, 3, 2, 3, 7, 9, 2, 3, 4, 7, 8, 9, 5, 5, 1, 2, 7, 9, 7, 1, 2, 3, 5, 7, 9, 1, 2, 3, 9, 10, 8, 2, 6, 6, 8, 6, 4, 6, 10, 8, 1, 2, 3, 4, 5, 7, 9, 6, 1, 1, 2, 4, 7, 8, 3, 2, 4, 10, 1, 2, 3, 4, 5, 8, 1, 5, 9, 2, 7, 9, 7, 1, 5, 10, 1, 2, 5, 10, 1, 2, 3, 4, 5, 6, 7, 8, 9, 10, 1, 2, 3, 4, 5, 7, 9, 4, 5, 5, 4, 4, 10, 4, 1, 2, 3, 4, 5, 7, 8, 9, 10, 8, 6, 9, 6, 10, 10, 1, 2, 3, 4, 7, 8, 10, 1, 2, 7, 8, 8, 2, 3, 4, 7, 8, 9, 1, 2, 7, 8, 10, 2, 1, 4, 8, 10, 2, 3, 4, 7, 5, 7, 2, 1, 3, 4, 5, 9, 1, 3, 1, 2, 3, 4, 5, 7, 8, 9, 2, 8, 8, 2, 3, 5, 3, 8, 1, 2, 3, 4, 5, 7, 8, 9, 10, 2, 9, 10, 2, 9, 1, 2, 9, 10, 2, 2, 3, 4, 7, 8, 9, 10, 1, 10, 10, 3, 5, 1, 2, 3, 4, 5, 7, 8, 10, 8, 2, 7, 2, 3, 4, 7, 3, 5, 4, 9, 3, 4, 6, 7, 1, 2, 10, 1, 1, 2, 3, 7, 9, 7, 2, 3, 5, 7, 7, 2, 3, 4, 7, 8, 9, 2, 8, 1, 2, 3, 4, 7, 9, 10, 4, 4, 5, 4, 2, 3, 4, 5, 7, 9, 2, 1, 4, 5, 1, 7, 8, 10, 8, 1, 2, 3, 4, 5, 7, 8, 9, 3, 7, 1, 2, 3, 4, 5, 8, 6, 1, 4, 7, 5, 5, 7, 1, 1, 2, 3, 4, 5, 7, 8, 1, 3, 4, 5, 7, 1, 2, 3, 4, 5, 8, 1, 4, 1, 2, 3, 4, 5, 7, 8, 9, 10, 1, 3, 4, 7, 8, 9, 4, 1, 2, 3, 4, 6, 7, 8, 1, 4, 3, 4, 8, 6, 10, 1, 2, 3, 4, 5, 7, 8, 9, 1, 2, 4, 5, 1, 2, 3, 4, 5, 7, 8, 10, 10, 10, 10, 1, 2, 3, 4, 5, 7, 8, 6, 1, 4, 6, 8, 1, 2, 3, 4, 5, 6, 7, 8, 9, 10, 3, 7, 9, 8, 4, 2, 6, 10, 5, 1, 2, 3, 4, 5, 7, 9, 10, 3, 2, 3, 8, 9, 1, 10, 4, 4, 6, 1, 2, 3, 4, 5, 7, 1, 2, 10, 1, 4, 8, 1, 2, 4, 5, 1, 2, 3, 4, 5, 7, 8, 9, 2, 2, 1, 1, 4, 3, 4, 3, 2, 3, 8, 2, 3, 4, 10, 3, 10, 2, 8, 2, 3, 4, 7, 10, 9, 4, 10, 3, 6, 7, 1, 2, 3, 5, 7, 1, 2, 3, 4, 5, 7, 9, 10, 3, 1, 2, 3, 4, 5, 7, 8, 10, 5, 1, 4, 2, 3, 5, 1, 3, 4, 6, 3, 1, 2, 4, 7, 8, 10, 1, 4, 7, 8, 9, 10, 1, 3, 4, 1, 3, 4, 6, 6, 10, 1], \"Freq\": [0.08271756065496538, 0.5100280928863764, 0.012197981294741438, 0.04231174761613436, 0.35221670988565906, 0.9967903955512849, 0.12216158397773111, 0.8515025259437892, 0.025399933302300528, 0.9947133959619546, 0.9753268279526153, 0.018938385008788645, 0.029285485859329632, 0.13237039608416992, 0.1429131709935286, 0.6946517245832988, 0.36882893262238053, 0.012362980981755773, 0.616088552257496, 0.9933317941026402, 0.995077628739884, 0.09657998392177296, 0.9004663206824125, 0.9944223752312421, 0.12765291181974933, 0.047413938675906896, 0.7878008272304531, 0.03464864749393196, 0.9956235163775972, 0.9943604167005106, 0.03516311684794838, 0.12214556378761017, 0.8402134236299245, 0.034839758026302965, 0.954845571670032, 0.004133530613290182, 0.005905043733271689, 0.03151846973282571, 0.8313871905080915, 0.005953488727311523, 0.06934063341221657, 0.06128591336938333, 0.9995398037674461, 0.9973962571575743, 0.9960645850557918, 0.0876622404672752, 0.306091358979657, 0.012592366033973231, 0.5932941689083542, 0.9983767034279819, 0.9995550606209481, 0.9979767271253077, 0.2434736479451732, 0.2002250394285964, 0.5558247094537836, 0.391132760371962, 0.3376346017410348, 0.08670943137862319, 0.14668979023259465, 0.007722621253379915, 0.014164807894800466, 0.01588539190462086, 0.9962700382619379, 0.9960909149495292, 0.9989602128482458, 0.9986956708655746, 0.0325610382948794, 0.9646207594858023, 0.2811417231606068, 0.7174971059827987, 0.995101611440801, 0.04624294302868182, 0.6285542886461584, 0.02739602927329469, 0.01515525023629068, 0.10666964589389209, 0.016903932955862684, 0.15815863708128994, 0.0011657884797146678, 0.9999944501302853, 0.9933667666278734, 0.9976588555133021, 0.9948797744674014, 0.9912796094303001, 0.9942220200574129, 0.9920104418104151, 0.9951494638443724, 0.05195686265785064, 0.10391372531570128, 0.8255368177858491, 0.01924328246587061, 0.014789234464284371, 0.9841563298051055, 0.05130063952098532, 0.836485427744955, 0.11115138562880152, 0.9939150070641293, 0.9935161720554999, 0.011518229517092237, 0.9880081319105785, 0.271108877885367, 0.3066129216105329, 0.010935245467351104, 0.0034083881976159284, 0.4064502925656995, 0.0012781455741059731, 0.00028403234980132737, 0.9973447792704527, 0.7509432625093807, 0.07682606123785699, 0.08627188843923284, 0.01133499264165103, 0.0736774521707317, 0.0009445827201375859, 0.9599501298412648, 0.03588598616229027, 0.9958742572363158, 0.9989270294576503, 0.9982634778395684, 0.9995419641207608, 0.9948247196134918, 0.05656917688806191, 0.1117162236308932, 0.5856015909138476, 0.037291412697158126, 0.02954870412868038, 0.0031602892116235704, 0.019593793112066136, 0.15643431597536672, 0.12314548276170413, 0.0727677852682797, 0.8004456379510768, 0.9924204527963882, 0.006023485735622649, 0.11366055692435781, 0.15530117570540133, 0.015975331733607896, 0.43500042638561826, 0.15713441049450388, 0.11680324513424789, 0.9970596191401291, 0.9980071736438378, 0.31462666336281175, 0.31618576476698823, 0.3217985298220235, 0.021203779096799998, 0.0043654839316941176, 0.021515599377635294, 0.9923170827739886, 0.9979926999002408, 0.9952878396874394, 0.09199416122984098, 0.9035140835073667, 0.9978412898764336, 0.964100565839052, 0.03143806192953431, 0.9995161363292144, 0.9916622350071098, 0.02665155050881125, 0.9732114572894947, 0.10220967736407581, 0.8976259721669422, 0.9984439714142505, 0.998355478350754, 0.16934211788034154, 0.09571511010627999, 0.06975190210174251, 0.056189032248625904, 0.31117098548721794, 0.10656540598877327, 0.16895460731310963, 0.02170059176498656, 0.9959294940363135, 0.48727877261546415, 0.0027101155317878984, 0.5097727315293037, 0.0965922157409465, 0.9020730656485003, 0.05500092446102092, 0.9447554628773281, 0.9980815153590068, 0.9990022354604675, 0.00885315314572494, 0.9904465081779777, 0.9940182378707322, 0.9962067075244544, 0.04734629978918785, 0.8728187439398107, 0.07925358877755358, 0.07898772130473404, 0.9194170759871043, 0.1111516848986716, 0.44426991630711465, 0.4446067395946864, 0.9966524548978364, 0.9975663567250216, 0.9993828958832145, 0.9920744685777924, 0.9994735503901508, 0.9959254895323335, 0.9908091684071981, 0.9940096452044695, 0.9984774089748865, 0.034379916301587515, 0.9399540003279392, 0.017367174214204004, 0.0077975067900507775, 0.15009735570481844, 0.5776727385296866, 0.05504963370789535, 0.04125238374060006, 0.13922679512452518, 0.000836196967714866, 0.03581710345045343, 0.9954766817652482, 0.9771439114531398, 0.021714309143403106, 0.10692423532390179, 0.22520325669989935, 0.12206395006002947, 0.5450297305005967, 0.9934780681861841, 0.9983517169925024, 0.9936718578689337, 0.9988582223739984, 0.24563546250171517, 0.14344219141552506, 0.12486159667258138, 0.4645148685735915, 0.021553489901814646, 0.9983763694020644, 0.9057249746575724, 0.05170100278172189, 0.04212674300732895, 0.9988123975441263, 0.9937894074910361, 0.997202967206927, 0.9933351776084405, 0.442175999972091, 0.5558783999649144, 0.9959008918967976, 0.8242366630840682, 0.13804207207558997, 0.001003942342367927, 0.012047308108415125, 0.014557163964334943, 0.00702759639657549, 0.0030118270271037814, 0.9942827878030756, 0.08575604698456726, 0.896961896838582, 0.016224116997080294, 0.17142777266296239, 0.08923637481085714, 0.7385484178424887, 0.9909755835306912, 0.997099636482289, 0.9970242705947079, 0.9984948138942161, 0.1931013378471834, 0.1746893498198938, 0.10643027225530806, 0.4189849958405165, 0.10598119937659367, 0.9937500807968286, 0.03835826195490194, 0.5255081887821565, 0.09014191559401956, 0.34570383586855374, 0.0024191434159650544, 0.9724956532179518, 0.021772290743685488, 0.9951826353125913, 0.9387247801313969, 0.0010395623257269068, 0.04435465923101469, 0.0152469141106613, 0.9884054788451384, 0.007214638531716338, 0.9997213223802827, 0.04092147908130926, 0.9507551121134096, 0.0019122186486593114, 0.0061190996757097965, 0.0051643357760250246, 0.1268131340557256, 0.05738150862250028, 0.09927000991692547, 0.07172688577812535, 0.5497148526035527, 0.08262937241640039, 0.00803341120715004, 0.9994295503058902, 0.10747114587015597, 0.7570116678397828, 0.031110068541360936, 0.10370022847120312, 0.9968968675408711, 0.9581467773680312, 0.009877801828536405, 0.03127970579036528, 0.9951194128131362, 0.8342692942427845, 0.10151740043627988, 0.06358010200334484, 0.21646499601351957, 0.7821601855955174, 0.8941932265362602, 0.04909399100477999, 0.056619986060771225, 0.9987773205942815, 0.9904864703397773, 0.08956005064102755, 0.717544786035669, 0.1928049986635364, 0.01249096853727668, 0.7625583963122812, 0.2096045452108867, 0.015232888460093512, 0.4749718256427556, 0.5239193038578487, 0.9523168758369868, 0.04578446518447052, 0.06838801746477458, 0.010559914461472544, 0.32182596454011564, 0.5983951528167775, 0.11980595579204699, 0.7348811752601454, 0.12194534785976212, 0.02246361671100881, 0.9985221055341764, 0.9927984676456577, 0.019158540507090413, 0.050150297209736676, 0.7669051067691193, 0.049023324238731354, 0.008452297282539888, 0.0960744457782034, 0.010142756739047867, 0.9985749261484518, 0.9962984186542976, 0.9993963104510271, 0.07206382927516929, 0.07861508648200287, 0.09007978659396161, 0.73374080716536, 0.003275628603416786, 0.02129158592220911, 0.025089829726495136, 0.8327111055171899, 0.005424828048971921, 0.13629880473041953, 0.37156114453447636, 0.01787393260880134, 0.6104218803066398, 0.9969180231224807, 0.03190043953495963, 0.9649882959325287, 0.11862134028455457, 0.25106264254400873, 0.6103816538913973, 0.019578279464441045, 0.2242854614569301, 0.13574209820639652, 0.6271211760802254, 0.012805858321358162, 0.009189782427285024, 0.08772065044226614, 0.8688521567614932, 0.03425282541078963, 0.993668409834416, 0.9952218721954594, 0.019720124240798973, 0.9761461499195491, 0.999275224258404, 0.016121943777363142, 0.04177049069589541, 0.10845671268407932, 0.833211367039177, 0.02012819411638706, 0.8951929044305024, 0.0761914692541205, 0.008301458590374323, 0.9974958299742069, 0.01875731826315352, 0.9316134737366246, 0.048769027484199146, 0.9981073648093296, 0.005350407024843298, 0.9925005031084319, 0.98880096150382, 0.008673692644770352, 0.9966482839288493, 0.9988107692089706, 0.03410006820331621, 0.16140698949569673, 0.6933680534674296, 0.044708978311014586, 0.026522275269245943, 0.0394045232571654, 0.987382896642081, 0.011799508803084141, 0.99401507513451, 0.9930967147051079, 0.99560455082012, 0.0033979677502393173, 0.9933906441712067, 0.020948343268746773, 0.007876577069048787, 0.0070386433382989165, 0.9639589638546515, 0.017419169192790476, 0.03774153325104603, 0.9445060628979726, 0.9964804210268382, 0.9969183534792667, 0.05925273997343746, 0.9119769543737766, 0.02576206085801629, 0.07102546675340697, 0.9269733994226705, 0.1458628660854109, 0.12898617083585923, 0.01808217348166251, 0.0675067809982067, 0.03013695580277085, 0.6087665072159711, 0.9995860577077121, 0.995806377127194, 0.9996797900690478, 0.9948609211792302, 0.9952154967259976, 0.9997683728557683, 0.10516710802869705, 0.2205944217187304, 0.04552966262217982, 0.6284375967568483, 0.9964826144505871, 0.05089266257009043, 0.9486787585880935, 0.9985459520651598, 0.9295106386822167, 0.012528396374151185, 0.0554140608856687, 0.002409306995029074, 0.9884226532683944, 0.0102250619303627, 0.10426402997356446, 0.34105129089640257, 0.11932525247160727, 0.16047189125492012, 0.0944043636990725, 0.027560484468068042, 0.15286364483838302, 0.9970270812627979, 0.9965742321327093, 0.08788771529479944, 0.4947909356260103, 0.3257760985206268, 0.09126801203690711, 0.997063043849329, 0.9982614809511382, 0.9963971047620542, 0.2510093732972986, 0.7483509266006418, 0.15718410136958802, 0.2085474100848471, 0.03898660782001592, 0.26733673933725205, 0.00495068035809726, 0.3224130583210841, 0.9994850647792081, 0.9954350255741216, 0.9956125542835484, 0.17187653674489142, 0.7598541775628804, 0.009193396151470936, 0.04196985199584558, 0.01398995066528186, 0.002797990133056372, 0.9402754536796863, 0.04577002208387891, 0.011940005761011889, 0.999053027291591, 0.8383915281489489, 0.10623097623750657, 0.05415696827794453, 0.001041480159191241, 0.069162709069798, 0.08319572250424977, 0.069162709069798, 0.7788322456120731, 0.9905797159980867, 0.13027368003468992, 0.6883331082824663, 0.05347321852663581, 0.09546225589318877, 0.031940378851480454, 0.7642655849040476, 0.18150195497139196, 0.021353171173104937, 0.03247461449243043, 0.9986889309302093, 0.14075125564185198, 0.20944605330713797, 0.4893408140071863, 0.11590420116717405, 0.004530933463029503, 0.012715845525276347, 0.02733175992214571, 0.9881683957928108, 0.00833897380415874, 0.25938563214311927, 0.16508454454619859, 0.15609250929857046, 0.016370115450810196, 0.24693512180024957, 0.06594159181593966, 0.0901509174826308, 0.1895730098650373, 0.22224094367990013, 0.25886862704807967, 0.03415283989735659, 0.058901274605586, 0.012374217354114706, 0.22422081845655847, 0.03754924970227912, 0.25491180783800754, 0.011634978780987895, 0.17240923102736608, 0.5230451824725922, 0.9978288597821775, 0.9923654530855638, 0.9996486248631147, 0.9959256556061438, 0.9960123976658354, 0.1839169786526049, 0.17980784255297913, 0.35775994622225626, 0.14501273848356738, 0.06322767482327389, 0.06746936370030694, 0.0027836083255529387, 0.04613891310033611, 0.1520486908988349, 0.6763545215844725, 0.029361126518395706, 0.07130559297324672, 0.02411806821153933, 0.1979736631345102, 0.2137066694763256, 0.4964637556750631, 0.028843844959994865, 0.048510102887264095, 0.014858950433936749, 0.12753937608589552, 0.15183259057844703, 0.718674262071316, 0.10646230292657127, 0.08309252911342148, 0.8088538380884622, 0.9987836529778438, 0.784688789179171, 0.11175571318645988, 0.08565115896992569, 0.00536201654177459, 0.00014110569846775237, 0.01241730146516221, 0.0035876805579467368, 0.020146206210008597, 0.8320659140161085, 0.03339302673165809, 0.10487066246305846, 0.005795483978221652, 0.004306445391261184, 0.08390143607112308, 0.37005730741458176, 0.009949373834982737, 0.024353691178166697, 0.10454267432578875, 0.0178197740328049, 0.37837320196322405, 0.0068309133792418784, 0.9962647076143522, 0.075086018227709, 0.9215102237037013, 0.9955697809321455, 0.9985949001653133, 0.9952197165709918, 0.035671781165724385, 0.04696784520153711, 0.5532098729117757, 0.037158105380962904, 0.049940493632014145, 0.053210406905538875, 0.22384042681492053, 0.12128008080475108, 0.8769482765882001, 0.9938801385057686, 0.14279896342333867, 0.1214856853004523, 0.02131327812288637, 0.7139948171166933, 0.996833953604738, 0.919037385939886, 0.024092733219614706, 0.05571444557035901, 0.0010038638841506128, 0.999575875345257, 0.9998037098172841, 0.9967442076169116, 0.9989985888202315, 0.8813913189802283, 0.11827378156194354, 0.9978278966170874, 0.9977162110470947, 0.995511954065066, 0.9922771677872463, 0.9980069175265738, 0.041475070419594695, 0.024769833722813498, 0.933621116424418, 0.991794779033268, 0.9989951215742795, 0.027639176220013814, 0.9701350853224849, 0.999383728687597, 0.9973762608234699, 0.1897454825949807, 0.7598385691275299, 0.02355756555919625, 0.026555801175821226, 0.9947198141026358, 0.2767942942675407, 0.3652504553619544, 0.19144938686838234, 0.08555947661952082, 0.07815683851701682, 0.0013410576272652166, 0.0012337730170839992, 0.00026821152545304335, 0.9991473677577838, 0.06941721016043027, 0.42288081383951165, 0.34610488882108525, 0.16140114588538207, 0.9945686149030948, 0.9974640365992812, 0.985129520563953, 0.014687767079760747, 0.9956678688429874, 0.09902263069973354, 0.7134307644902063, 0.04873160959632556, 0.11149792275639288, 0.007017351781870881, 0.006627498905100276, 0.010915880549576925, 0.0023391172606236268, 0.997695729824953, 0.9951004617303256, 0.9447255129700679, 0.02183365629975268, 0.0025192680345868476, 0.01007707213834739, 0.02015414427669478, 0.9909576071848037, 0.20392523495210307, 0.3019019241283342, 0.0401164396627088, 0.4150508565103334, 0.03857349967568154, 0.0005323457415285929, 0.16343014264927802, 0.04737877099604476, 0.41469733265077385, 0.14586273317883444, 0.22039113699283744, 0.006920494639871707, 0.7535424101290278, 0.11498310424829196, 0.11574682966396327, 0.008400979572384431, 0.0005940086566332426, 0.006618953602484703, 0.6447415832217751, 0.28719683568822496, 0.015724289587259174, 0.002011246342556406, 0.0011884637478742398, 0.003885362252665784, 0.04525304270751913, 0.6452393453671457, 0.19702460611652253, 0.09628871823143265, 0.0007495229753354902, 0.035477420832546534, 0.02383483061566859, 0.0003497773884898954, 0.000999363967113987, 0.2841627920794987, 0.340267277026619, 0.05631862420264368, 0.2017191787030051, 0.040258180038391676, 0.02719568545146672, 0.050108585792466236, 0.9978596865960955, 0.9922585738791245, 0.05900479217454964, 0.4362899385338884, 0.2325639331204096, 0.13781074208335128, 0.04398780677877462, 0.03721022929926553, 0.05302457675145339, 0.9948225173585377, 0.23368028444128167, 0.11520028057543887, 0.22015142586836536, 0.3829076941546616, 0.047555987710857325, 0.051879553512774394, 0.9418134330011352, 0.9987745498847314, 0.9915492196503319, 0.9962299526351488, 0.0035707166761116444, 0.9927801388298099, 0.33795789037092, 0.17830192147155435, 0.017480580536426895, 0.30998896151263694, 0.03029967292980662, 0.12352943579075007, 0.9821459705908917, 0.01514321981087278, 0.0021633171158389683, 0.09576769761055147, 0.8311646670849339, 0.04028604253727996, 0.027917520705658918, 0.004240636056555785, 0.0249395338646851, 0.0667588741865656, 0.6479716694964831, 0.06386953794614478, 0.015967384486536194, 0.06782336648566803, 0.0247874635362419, 0.08804872016861387, 0.999089933487133, 0.11947544688153967, 0.375996259303669, 0.005135822377260755, 0.03351799867264914, 0.32355680976742757, 0.03324769223174068, 0.05000669156806525, 0.05865649767713599, 0.9926397705631436, 0.9976833663366534, 0.003966712053838933, 0.9958430611162642, 0.00013222373512796444, 0.8222278743542751, 0.17698803397117446, 0.14383485371934265, 0.5049685993480147, 0.0485249304886492, 0.021265905791838294, 0.26601714881426813, 0.007539730235288123, 0.007926383067867, 0.9962283914488179, 0.05103650275620367, 0.20847113837703532, 0.02768081505421216, 0.711915962175519, 0.9948805889544116, 0.051092987708530366, 0.8933412389345348, 0.0039302298237331055, 0.025546493854265183, 0.012969758418319247, 0.012969758418319247, 0.09979860518104287, 0.16150839359180608, 0.36819189544603687, 0.004724194328096704, 0.039269865352303854, 0.000590524291012088, 0.3259694086386726, 0.9627457576507981, 0.033780552900028, 0.9224360266447654, 0.0747921102684945, 0.997374597000889, 0.0015869126443928225, 0.9935064574877858, 0.994075516151106, 0.05047234333238859, 0.9486931200439708, 0.9947695020091455, 0.060288379338151045, 0.9380871825016303, 0.06005957772651272, 0.05205163402964436, 0.8848777785039541, 0.02270023756493956, 0.8883359633746347, 0.013115692815298412, 0.060533966839838825, 0.015133491709959706, 0.06028771001517139, 0.29367422378602426, 0.237040314377833, 0.05526373418057378, 0.35304848364945063, 0.9959117598896542, 0.002996725456037074, 0.01699202836392066, 0.9154455281062255, 0.05894109838734979, 0.00849601418196033, 0.9965033273785846, 0.9984944909670435, 0.09187522178742777, 0.11175866530858751, 0.7953377408463896, 0.9983498157145464, 0.996593529009032, 0.9988361558027322, 0.9990699690431475, 0.9990934054223374, 0.9979752080017007, 0.016362166801287402, 0.06544866720514961, 0.7335704782577185, 0.081810834006437, 0.10090002860793897, 0.9905012831579022, 0.007364321807865444, 0.9979777800034888, 0.8398676020636529, 0.1477994367151194, 0.011867108057418346, 0.9980277149247407, 0.9760037066266689, 0.021151783115748245, 0.9030675334101803, 0.09378009000798025, 0.030512501301478, 0.4892897530129865, 0.47948216330894, 0.723582326994168, 0.03079073731890077, 0.01282947388287532, 0.2283646351151807, 0.9912945994143356, 0.9979551015758354, 0.9983821270396667, 0.17997877410369126, 0.13263944394242258, 0.03751418616553366, 0.16390126574703398, 0.07011580033319982, 0.37246227692922707, 0.042873355617752754, 0.2613511572400246, 0.0582100304761873, 0.6795130088240641, 0.05371057413527431, 0.1035846786894576, 0.8363503686778428, 0.017747541295087047, 0.25368544321800895, 0.4180067961501679, 0.101787369192411, 0.05282503467831792, 0.05219865086790308, 0.022758611778405744, 0.08111670344872139, 0.9954145245932049, 0.06757225369123658, 0.0810867044294839, 0.022524084563745526, 0.8288863119458354, 0.08779466333685049, 0.1937882204405652, 0.24278524212058428, 0.11909276085898512, 0.04419731343381312, 0.00019998784359191455, 0.10979332613196109, 0.05539663267496033, 0.11549297967433066, 0.03149808536572654, 0.023920513270212843, 0.9687807874436202, 0.9994983300785076, 0.9952475451712213, 0.48701001716531095, 0.24441838070787175, 0.1627629127135379, 0.06357069991505185, 0.040371047934558785, 0.0018267442504325243, 0.9955891617045045, 0.9925698273834396, 0.9960185585154038, 0.9952422458221376, 0.0386236690358016, 0.11050660863021013, 0.8218258467062229, 0.027894872081412267, 0.9893274283112378, 0.9988584715825599, 0.9985005504099314, 0.996578940556717, 0.992115259295885, 0.30406093728521455, 0.15215632167956308, 0.2495980355425918, 0.14287466020407277, 0.020545508283034468, 0.0014473099249917084, 0.06818088277080504, 0.05383363655784376, 0.0072994761434364425, 0.15324792038853619, 0.8452580608930198, 0.9930276680476561, 0.12470134015762974, 0.42233105810291177, 0.08474179469275392, 0.0027558307217155744, 0.08474179469275392, 0.2797168182541308, 0.07116529865367063, 0.8003517645688176, 0.1278912613486255, 0.9985073623986958, 0.9981283614194266, 0.9936250370625456, 0.9844156587173074, 0.01516192411998858, 0.41290576816844543, 0.4452110861924983, 5.475477631195404e-05, 0.0045446464338921855, 0.10146060050605084, 0.00991061451246368, 0.025844254419242308, 0.05028568462242949, 0.1882489732019155, 0.047062243300478875, 0.08380947437071581, 0.5679703609276971, 0.015472518345362918, 0.047062243300478875, 0.9971834969769137, 0.997091118011213, 0.09460153682853731, 0.41253027309872875, 0.06520748788538465, 0.1304149757707693, 0.29698125311530105, 0.020365258121744806, 0.27784030723237557, 0.05891378242361891, 0.0690964114844913, 0.025456572652181007, 0.5469526466982891, 0.9917733537508499, 0.9966208545287234, 0.04491841947020388, 0.058393945311265044, 0.895373828106064, 0.9972162384316996, 0.9948718472657255, 0.15656683170283803, 0.15572052450444432, 0.03639120953092992, 0.6271136340097458, 0.023696601555024132, 0.9911301403209325, 0.9466605424771449, 0.049637631440749175, 0.12448645543032111, 0.018949312454509766, 0.02131797651132349, 0.01842294266410672, 0.8169259147055322, 0.0095370179599602, 0.9902055543944884, 0.9990647691687891, 0.998561900312067, 0.15869148639393962, 0.416286289050269, 0.07198376702405508, 0.03822278538260776, 0.1868008499632504, 0.030488992231263, 0.08447681749930432, 0.013087957640737289, 0.9972494927358163, 0.6593640202652687, 0.020166718704921784, 0.1953102865878838, 0.04734794826372941, 0.04033343740984357, 0.007672121246437635, 0.027181229558807623, 0.002630441570207189, 0.9985340466843251, 0.06859162875947712, 0.3086623294176471, 0.0772272654737998, 0.16111630784150563, 0.04638570577979029, 0.263016821070513, 0.042191253661405, 0.03281541951442611, 0.9960291211146314, 0.9986363315444037, 0.999072478562377, 0.09094841444233581, 0.22867029916930148, 0.0019488945951929102, 0.08705062525195, 0.5905150623434519, 0.13025000000445, 0.8508538961329657, 0.016915584416162338, 0.0649642169525225, 0.27303466270793264, 0.4846885439180193, 0.10969936278993568, 0.055601046893529044, 0.008438412522302745, 0.003583435454676508, 0.998125262593319, 0.0743444082702616, 0.6973534034870795, 0.1322788223925768, 0.09589144406452169, 0.14782968518334216, 0.11227571026582948, 0.008732555242897849, 0.6642979524061579, 0.017465110485795698, 0.04927656172778072, 0.9970243893723556, 0.9963892791099731, 0.046941636594796846, 0.13143658246543116, 0.036379768360967554, 0.7850988720479772, 0.9960037308141552, 0.020813397712958707, 0.3362164245939483, 0.21966139740137958, 0.06564225432548515, 0.07941111742790398, 0.27857932323498574, 0.12552977528439152, 0.2392117964969978, 0.021720882464939657, 0.6112876922275875, 0.001974625678630878, 0.996433523875207, 0.998027941778939, 0.9956231536036124, 0.984315927956328, 0.011859228047666603, 0.9970215622083458, 0.0319961603247888, 0.2559692825983104, 0.7099148072062516, 0.9956042301865394, 0.11400785610545704, 0.36523971355966417, 0.16085472061424486, 0.07973640360345298, 0.2343725138846729, 0.01796487429540535, 0.02791465082824524, 0.9916322119020271, 0.9977639079428324, 0.13775384441582955, 0.14349358793315578, 0.0024598900788540988, 0.6436712373001559, 0.07133681228676887, 0.9988691911290356, 0.99950599291964, 0.9699246015798284, 0.026601307638265338, 0.18012229677495745, 0.4009340908069916, 0.04431786006980967, 0.043799522525133534, 0.32136927769920465, 0.009330075804170458, 0.9574061432852761, 0.02712198706190584, 0.01356099353095292, 0.012113533553231852, 0.9569691507053163, 0.026649773817110072, 0.9914423200972556, 0.02586181320962944, 0.9600700811513206, 0.013527717678883092, 0.1426152384671701, 0.0844338974009614, 0.7556479053111251, 0.016319156640521953, 0.18213414081739032, 0.18188395655802578, 0.33387089412198817, 0.15073601626713964, 0.06041949863653813, 0.0016261976858695563, 0.02914646621596974, 0.04040475788737436, 0.01476087130250828, 0.005003685187290943, 0.15128792073517958, 0.07564396036758979, 0.10486382953485372, 0.036593107181433326, 0.030312200724918654, 0.360196331136646, 0.2414052742416945, 0.9928463718553648, 0.9963379636309139, 0.9969790389890252, 0.9989550290301081, 0.9618564087518311, 0.036817470191457646, 0.9963047335441843, 0.3280102063688088, 0.45970787472618957, 0.03724329292559662, 0.09142555341675074, 0.022660075816176257, 0.002467929049286523, 0.03410229231741377, 0.02378186174767013, 0.0005608929657469371, 0.9981502160944888, 0.871194359828755, 0.12704917747502678, 0.6536680121546117, 0.3431757063811711, 0.9892931044514811, 0.019173977704967562, 0.10710980648981878, 0.03967029869993288, 0.6486093837439026, 0.02776920908995302, 0.07405122423987472, 0.08396879891485794, 0.10676132861731971, 0.10135569172530352, 0.7419236634292219, 0.048650732028145696, 0.9971930052759416, 0.20743178496772463, 0.5398333346661855, 0.07840651104500525, 0.01787428125355484, 0.14104159745452094, 0.015320812503047003, 0.026847818637017372, 0.10912339187948997, 0.1740777918077578, 0.03637446395982999, 0.6530082339455193, 0.9997306992708878, 0.988709625869037, 0.0019508871860083603, 0.0013656210302058522, 0.007803548744033441, 0.03417937883706264, 0.40009978756326264, 0.10488378015686868, 0.4604163384521967, 0.9965161155146486, 0.9987695706640974, 0.9998620588175461, 0.826730338612629, 0.02599207352505232, 0.07797622057515695, 0.06338417929793459, 0.005472015478958383, 0.981417748865385, 0.017105320241662482, 0.10664067338943657, 0.04646286557125058, 0.14274735808034816, 0.016513910052432437, 0.40864929960256535, 0.22251794053701332, 0.028829368396619336, 0.027709781274420527, 0.028802452299463786, 0.9699922645367804, 0.9983026219382971, 0.014178679446648532, 0.9849455988938514, 0.9987537466484557, 0.9996420123668207, 0.9994018658426173, 0.08555922274410892, 0.22895014234303218, 0.13969391614701734, 0.0929532296479208, 0.0731478540127104, 0.07077120893648516, 0.2616950300599134, 0.02297423573684406, 0.024294594112524753, 0.12052781833568428, 0.7727960116817404, 0.10634807500207437, 0.0145770621906447, 0.9846805509780495, 0.0420629764237168, 0.06616155666647121, 0.8850751289157076, 0.006134184061792033, 0.999269215466248, 0.3559361237940597, 0.19887930916993085, 0.10455623636450503, 0.29720666336803986, 0.014237444951762388, 0.02891981005826735, 0.9900492363514779, 0.9967077075236321, 0.994200252139383, 0.9927555472107468, 0.9926350454249162, 0.007220414254909331, 0.020543702581770257, 0.18821351759258206, 0.6125758588018768, 0.023033848349257563, 0.07283676369900365, 0.058933449830532864, 0.016185947488667477, 0.007677949449752521, 0.997113233858467, 0.9992098365766043, 0.997518999081965, 0.03322019243757418, 0.2027577262569183, 0.11569791159293077, 0.6483665144712755, 0.9978503250967518, 0.9988555840425032, 0.992717976336794, 0.9922034621243985, 0.10185486556314415, 0.10609881829494182, 0.7639114917235811, 0.025463716390786036, 0.06299242181200743, 0.08189014835560966, 0.8503976944621003, 0.9979503637078475, 0.02197482970784973, 0.007259541957057501, 0.8299422291446819, 0.10124117972545056, 0.03943697117212318, 0.9967061420435805, 0.018423946811601564, 0.10682346084034368, 0.00832620673216609, 0.8662798068147274, 0.9984275025550119, 0.02816756715463586, 0.5626558476074175, 0.3161026980686913, 0.06259459367696858, 0.013909909705993017, 0.01669189164719162, 0.13238130755372135, 0.8660608433936228, 0.39777650624044775, 0.4474985695205037, 0.058475947660347506, 0.011204972006773176, 0.015056681134101454, 0.06442858903894576, 0.0054274083157807565, 0.9919535953340772, 0.9958686610242528, 0.9948388441315262, 0.9958099673359859, 0.02153147049472982, 0.06594012839011007, 0.12515167225061707, 0.03095148883617412, 0.7334157137267345, 0.022877187400650433, 0.999367443868567, 0.9799132036042977, 0.004159224123957121, 0.01580505167103706, 0.9972110067245257, 0.03300890940324249, 0.964694445691466, 0.0019950439749212494, 0.9978397847380782, 0.028588120934339895, 0.03538133779002462, 0.22700666326079796, 0.007925419664965516, 0.026040664613458123, 0.22757276466543838, 0.032267780064502455, 0.41495232960140876, 0.03339015043075486, 0.9641405936880466, 0.19901043905291393, 0.5447179113047589, 0.13371013873867654, 0.049752609763228484, 0.06877566643740408, 0.0038411941361316112, 0.9914341348369982, 0.9327020846086851, 0.06308289594910016, 0.003963323305702628, 0.9948233978279046, 0.9953552341776482, 0.9951143904833927, 0.9962636791531783, 0.08583485656885247, 0.5750505499345658, 0.07336802431260846, 0.12653118255475246, 0.12223227488018557, 0.016335849163354225, 0.0005731876899422536, 0.8614770073070359, 0.036827847439596266, 0.0424256802504149, 0.05509445976963602, 0.0038300961337180118, 0.3488210367111464, 0.43103495215940724, 0.02497179823593543, 0.04958168635250948, 0.11231277370848254, 0.033295730981247246, 0.9971679315733489, 0.9964467492351706, 0.18776173681455705, 0.3585777266279526, 0.13463646246070485, 0.10803807476267925, 0.0807961776848627, 0.051552251425474344, 0.06635296716066601, 0.010224649034456077, 0.0020020291815718194, 0.8468977420794616, 0.04786576833846668, 0.05928828123741895, 0.03209182195419925, 0.00271964592832197, 0.01087858371328788, 0.9987079293255803, 0.10245457675692048, 0.03242233441674699, 0.0440943748067759, 0.11672040390028915, 0.5991647400214842, 0.04539126818344578, 0.05965709532681445, 0.9173653642088896, 0.08217128524754225, 0.9970042537336875, 0.02228924071209123, 0.9751542811539914, 0.9954014548277645, 0.9952252807414733, 0.2617505083319577, 0.21310853886693554, 0.10688145756888272, 0.01657753219435732, 0.3679775896300105, 0.0006543762708298941, 0.020940040666556612, 0.01199689829854806, 0.13712819777228402, 0.12725912293261207, 0.005194249915616819, 0.7297921131441631, 0.05730146600409884, 0.507572874353856, 0.2796439232289169, 0.07262442070157374, 0.07166673603298156, 0.00798070557160151, 0.003192282228640604, 0.9988908189238651, 0.9979420798371759, 0.9992853507806136, 0.9965194288244802, 0.004757135769203192, 0.42641235167584973, 0.08476351006943869, 0.347270911151833, 0.07914144052401673, 0.02940774839143791, 0.02811034772710977, 0.9945824497842376, 0.04777343188227725, 0.0382187455058218, 0.8790311466339014, 0.03344140231759407, 0.44487287900998385, 0.04716148054801442, 0.24127540048476942, 0.07638109349624074, 0.008970933799894047, 0.0031611861961531405, 0.10449001940257542, 0.05322754054603801, 0.011790370137003604, 0.00871462140561136, 0.9797927967084371, 0.01959585593416874, 0.9949622369917424, 0.995409494869833, 0.9956219360412005, 0.9415413205742633, 0.029317084711424128, 0.028699882928025725, 0.9955347125863562, 0.029938311701138944, 0.03139871714997499, 0.8538503857528082, 0.011439842682549026, 0.052574596158097654, 0.009249234509294957, 0.010953040866270344, 0.000486801816278682, 0.998594350787148, 0.053556429833948774, 0.917897700209622, 0.015372678933818629, 0.012893214589654334, 0.29456480059266676, 0.7050895000611798, 0.9957107173569564, 0.9932158738346228, 0.9930072759304432, 0.21106621654348992, 0.4331243642439768, 0.23305007885748388, 0.08624438292413009, 0.026845678018050295, 0.00961793976237235, 0.3700602439089206, 0.1885747603060783, 0.44095301094128087, 0.9654823509481676, 0.00930336312476821, 0.024808968332715228, 0.08898416486263859, 0.12092719840307295, 0.7552245787059839, 0.034224678793322534, 0.24911098541150375, 0.35085631559764807, 0.12755682987938446, 0.07483334019590555, 0.12975781047338167, 0.025311276830968052, 0.0391174278296779, 0.003401515463450252, 0.9988678967260944, 0.9995068851063179, 0.9969785861641749, 0.9920545153347887, 0.004972704337517737, 0.059759382712494376, 0.9368729031700731, 0.9993100129763204, 0.09252755298989981, 0.20761661890062452, 0.6996604006907493, 0.014989595179751996, 0.9406357305067051, 0.04280533881228147, 0.0013907871816264737, 0.9896447523154828, 0.009826259952068624, 0.06802868107236161, 0.9297253079889419, 0.016306910367794466, 0.09925945441266197, 0.1850479828693198, 0.1609421153691019, 0.5388370382401649, 0.9980676720387334, 0.2374086568088416, 0.7597077017882932, 0.051473948828601845, 0.9398761767592856, 0.007625770196829903, 0.0864113849518032, 0.2733952179411566, 0.11126549567372654, 0.5022842376128226, 0.026877119734172904, 0.050330429601587866, 0.3359924704156211, 0.3687388377923864, 0.09508028855697456, 0.03548400580697722, 0.07897033933303535, 0.026323446444345117, 0.00894997179107734, 0.9973018237300141, 0.4278311176785041, 0.1837688091969271, 0.07617921167102479, 0.009206492405739963, 0.1754649140858675, 0.03917272258912886, 0.010289609159356427, 0.07834544517825771, 0.9972357248945517, 0.9513354288391195, 0.048062655987862496, 0.8872596988358935, 0.11129947940575095, 0.0014012524385616128, 0.8902637120526777, 0.03032322195315669, 0.07936206691826171, 0.9952735038677769, 0.9972000236395294, 0.013627993153614395, 0.41172708129351965, 0.03845865864536944, 0.12646315680684544, 0.4030652212382563, 0.006467522174596662, 0.8391729275220007, 0.02723792507274182, 0.06579948191729765, 0.025401660461096303, 0.037643424538733074, 0.004896705631054709, 0.9048148109105567, 0.06304826607940581, 0.03128349080275861, 0.8302820395441601, 0.04707784760301939, 0.12221219024218165, 0.9916618704903043, 0.2506776755829668, 0.7475163118735316, 0.9958586356048297], \"Term\": [\"access\", \"access\", \"access\", \"access\", \"access\", \"adl\", \"administration\", \"administration\", \"administration\", \"aerospace\", \"agencies\", \"agencies\", \"agency\", \"agency\", \"agency\", \"agency\", \"ah\", \"ah\", \"ah\", \"amateur\", \"amount\", \"amp\", \"amp\", \"amplifier\", \"announcement\", \"announcement\", \"announcement\", \"announcement\", \"anonymity\", \"antenna\", \"apartment\", \"apartment\", \"apartment\", \"apple\", \"apple\", \"apple\", \"apple\", \"application\", \"application\", \"application\", \"application\", \"application\", \"arab\", \"arabs\", \"argic\", \"argument\", \"argument\", \"argument\", \"argument\", \"armenia\", \"armenian\", \"armenians\", \"army\", \"army\", \"army\", \"article\", \"article\", \"article\", \"article\", \"article\", \"article\", \"article\", \"astronomical\", \"astronomy\", \"atheism\", \"atheist\", \"atmosphere\", \"atmosphere\", \"audio\", \"audio\", \"authorize\", \"available\", \"available\", \"available\", \"available\", \"available\", \"available\", \"available\", \"available\", \"ax\", \"azerbaijan\", \"azerbaijani\", \"azeri\", \"azeris\", \"baku\", \"balloon\", \"ban\", \"band\", \"band\", \"band\", \"band\", \"baseball\", \"baseball\", \"battery\", \"battery\", \"battery\", \"be\", \"beam\", \"belief\", \"belief\", \"believe\", \"believe\", \"believe\", \"believe\", \"believe\", \"believe\", \"believe\", \"believer\", \"better\", \"better\", \"better\", \"better\", \"better\", \"better\", \"bh\", \"bh\", \"bhj\", \"bible\", \"biblical\", \"bike\", \"bikes\", \"bit\", \"bit\", \"bit\", \"bit\", \"bit\", \"bit\", \"bit\", \"bit\", \"bj\", \"bj\", \"bj\", \"bmw\", \"book\", \"book\", \"book\", \"book\", \"book\", \"book\", \"book\", \"bosnia\", \"brake\", \"buy\", \"buy\", \"buy\", \"buy\", \"buy\", \"buy\", \"bxn\", \"byte\", \"c\", \"c_\", \"c_\", \"cache\", \"cage\", \"cage\", \"call\", \"capacitor\", \"car\", \"car\", \"card\", \"card\", \"cars\", \"catholic\", \"center\", \"center\", \"center\", \"center\", \"center\", \"center\", \"center\", \"center\", \"ceremony\", \"chip\", \"chip\", \"chip\", \"christ\", \"christ\", \"christian\", \"christian\", \"christianity\", \"christians\", \"church\", \"church\", \"cipher\", \"ciphertext\", \"circuit\", \"circuit\", \"circuit\", \"ck\", \"ck\", \"claim\", \"claim\", \"claim\", \"classified\", \"clh\", \"client\", \"clinical\", \"clipper\", \"clipper_chip\", \"clothe\", \"clutch\", \"coach\", \"color\", \"color\", \"color\", \"color\", \"come\", \"come\", \"come\", \"come\", \"come\", \"come\", \"come\", \"comet\", \"coming\", \"coming\", \"communication\", \"communication\", \"communication\", \"communication\", \"conductor\", \"connector\", \"contradiction\", \"controller\", \"cost\", \"cost\", \"cost\", \"cost\", \"cost\", \"cpu\", \"crime\", \"crime\", \"crime\", \"crypto\", \"cryptographic\", \"cryptography\", \"cryptosystem\", \"cx\", \"cx\", \"d\", \"david\", \"david\", \"david\", \"david\", \"david\", \"david\", \"david\", \"db_db\", \"dc\", \"dc\", \"dc\", \"dealer\", \"dealer\", \"dealer\", \"decrypt\", \"defenseman\", \"des\", \"describe\", \"design\", \"design\", \"design\", \"design\", \"design\", \"designate\", \"device\", \"device\", \"device\", \"device\", \"di\", \"di\", \"di\", \"di_di\", \"didnt\", \"didnt\", \"didnt\", \"didnt\", \"diet\", \"diet\", \"disk\", \"display\", \"display\", \"display\", \"display\", \"division\", \"division\", \"division\", \"division\", \"division\", \"division\", \"division\", \"division\", \"do\", \"doctor\", \"doctor\", \"doctor\", \"doctor\", \"doctrine\", \"dod\", \"dod\", \"dod\", \"dodger\", \"doesnt\", \"doesnt\", \"doesnt\", \"dog\", \"dog\", \"dont\", \"dont\", \"dont\", \"dos\", \"drain\", \"drive\", \"drive\", \"drive\", \"driver\", \"driver\", \"driver\", \"driver\", \"drug\", \"drug\", \"dy\", \"dy\", \"earth\", \"earth\", \"earth\", \"earth\", \"eat\", \"eat\", \"eat\", \"eat\", \"ei\", \"ei_ei\", \"email\", \"email\", \"email\", \"email\", \"email\", \"email\", \"email\", \"encrypt\", \"encrypted\", \"encryption\", \"energy\", \"energy\", \"energy\", \"energy\", \"energy\", \"energy\", \"engine\", \"engine\", \"engine\", \"engine\", \"entry\", \"entry\", \"entry\", \"escrow\", \"eternal\", \"eternal\", \"evidence\", \"evidence\", \"evidence\", \"evidence\", \"exist\", \"exist\", \"exist\", \"exist\", \"existence\", \"existence\", \"existence\", \"existence\", \"exploration\", \"extermination\", \"ey\", \"ey\", \"faith\", \"fan\", \"fan\", \"fan\", \"fan\", \"file\", \"file\", \"file\", \"file\", \"firearm\", \"flight\", \"flight\", \"flight\", \"floppy\", \"flyer\", \"flyer\", \"folk\", \"folk\", \"follower\", \"font\", \"food\", \"food\", \"food\", \"food\", \"food\", \"food\", \"format\", \"format\", \"fq\", \"franchise\", \"ftp\", \"ftp\", \"fuse\", \"game\", \"game\", \"game\", \"game\", \"games\", \"games\", \"games\", \"garage\", \"gay\", \"gear\", \"gear\", \"gear\", \"genocide\", \"genocide\", \"german\", \"german\", \"german\", \"german\", \"german\", \"german\", \"get\", \"gfci\", \"give\", \"giz\", \"glutamate\", \"go\", \"goal\", \"goal\", \"goal\", \"goal\", \"goalie\", \"god\", \"god\", \"gods\", \"going\", \"going\", \"going\", \"going\", \"gone\", \"gone\", \"good\", \"good\", \"good\", \"good\", \"good\", \"good\", \"good\", \"gordon_banks\", \"gospel\", \"government\", \"government\", \"government\", \"government\", \"gq\", \"graphics\", \"greece\", \"greek\", \"greek\", \"ground\", \"ground\", \"ground\", \"ground\", \"ground\", \"ground\", \"gun\", \"guns\", \"handgun\", \"happen\", \"happen\", \"happen\", \"happen\", \"happen\", \"happen\", \"happened\", \"happened\", \"happened\", \"have\", \"having\", \"having\", \"having\", \"having\", \"health\", \"health\", \"health\", \"health\", \"health_care\", \"hear\", \"hear\", \"hear\", \"hear\", \"hear\", \"hell\", \"hell\", \"hell\", \"hell\", \"helmet\", \"help\", \"help\", \"help\", \"help\", \"help\", \"help\", \"help\", \"henry\", \"henry\", \"high\", \"high\", \"high\", \"high\", \"high\", \"high\", \"high\", \"history\", \"history\", \"history\", \"history\", \"history\", \"history\", \"history\", \"hit\", \"hit\", \"hit\", \"hit\", \"hit\", \"hitter\", \"hj\", \"hockey\", \"homosexual\", \"honda\", \"host\", \"host\", \"host\", \"host\", \"host\", \"host\", \"host\", \"hot\", \"hot\", \"hot\", \"hot\", \"hot\", \"hot\", \"human\", \"human\", \"human\", \"human\", \"human\", \"human\", \"hz\", \"hz\", \"hz\", \"ice\", \"ice\", \"ice\", \"ide\", \"im\", \"im\", \"im\", \"im\", \"im\", \"im\", \"image\", \"image\", \"image\", \"image\", \"image\", \"image\", \"information\", \"information\", \"information\", \"information\", \"information\", \"information\", \"information\", \"information\", \"information\", \"inhabitant\", \"initiative\", \"initiative\", \"insulation\", \"interface\", \"interfere\", \"internet\", \"internet\", \"internet\", \"internet\", \"internet\", \"internet\", \"internet\", \"interpretation\", \"interpretation\", \"iranian\", \"island\", \"island\", \"island\", \"island\", \"islander\", \"isnt\", \"isnt\", \"isnt\", \"isnt\", \"israel\", \"israeli\", \"israelis\", \"jesus\", \"jews\", \"jews\", \"jobs\", \"jpeg\", \"judaism\", \"jz\", \"keep\", \"key\", \"key\", \"key\", \"key_escrow\", \"keyboard\", \"keys\", \"keys\", \"keyword\", \"kids\", \"kill\", \"kill\", \"kill\", \"kill\", \"kn\", \"know\", \"know\", \"know\", \"know\", \"know\", \"know\", \"know\", \"know\", \"launch\", \"law\", \"law\", \"law\", \"law\", \"law_enforcement\", \"leafs\", \"league\", \"league\", \"leather\", \"leave\", \"leave\", \"leave\", \"leave\", \"leave\", \"leave\", \"leave\", \"leave\", \"lebanese\", \"lebanon\", \"lets\", \"lets\", \"lets\", \"lets\", \"lets\", \"lhz\", \"life\", \"life\", \"life\", \"life\", \"life\", \"light\", \"light\", \"light\", \"light\", \"light\", \"light\", \"light\", \"like\", \"like\", \"like\", \"like\", \"like\", \"like\", \"line\", \"line\", \"line\", \"line\", \"line\", \"line\", \"line\", \"lines\", \"lines\", \"lines\", \"lines\", \"lines\", \"lines\", \"lines\", \"lines\", \"little\", \"little\", \"little\", \"little\", \"little\", \"little\", \"little\", \"lives\", \"lj\", \"look\", \"look\", \"look\", \"look\", \"look\", \"look\", \"look\", \"lopez\", \"low\", \"low\", \"low\", \"low\", \"low\", \"lq\", \"lq\", \"lunar\", \"lyme\", \"m\", \"m\", \"m_\", \"ma\", \"ma\", \"ma\", \"ma\", \"ma\", \"ma\", \"mac\", \"mac\", \"mac\", \"machine\", \"machine\", \"machine\", \"machine\", \"machine\", \"mail\", \"mail\", \"mail\", \"mail\", \"mail\", \"mail\", \"mail\", \"mail\", \"make\", \"man\", \"man\", \"man\", \"man\", \"man\", \"man\", \"man\", \"man\", \"mars\", \"massacre\", \"max\", \"max\", \"max\", \"mb\", \"mb\", \"mean\", \"mean\", \"mean\", \"mean\", \"mean\", \"mean\", \"mean\", \"mechanic\", \"medical\", \"medical\", \"medical\", \"medical\", \"melkonian\", \"memory\", \"memory\", \"memory\", \"memory\", \"memory\", \"memory\", \"message\", \"message\", \"message\", \"message\", \"message\", \"message\", \"message\", \"meter\", \"meter\", \"mf\", \"mf\", \"mhz\", \"mhz\", \"migraine\", \"mileage\", \"mission\", \"mission\", \"mj\", \"mk\", \"mk\", \"ml\", \"ml\", \"ml\", \"mode\", \"mode\", \"mode\", \"mode\", \"mode\", \"model\", \"model\", \"model\", \"model\", \"model\", \"modem\", \"modem\", \"monitor\", \"monitor\", \"monitor\", \"monitor\", \"montreal\", \"moon\", \"moral\", \"moral\", \"moral\", \"morality\", \"mormon\", \"motherboard\", \"motif\", \"motorcycle\", \"move\", \"mp\", \"mp\", \"mp\", \"mp\", \"mp\", \"mph\", \"mph\", \"mq\", \"mr\", \"mr\", \"mr\", \"mr_stephanopoulos\", \"msg\", \"msg\", \"mu\", \"mu\", \"muslim\", \"muslim\", \"muslim\", \"mw\", \"mw\", \"mw\", \"mw\", \"mykotronx\", \"name\", \"nasa\", \"national\", \"national\", \"national\", \"national\", \"national\", \"national\", \"national\", \"nazi\", \"nazi\", \"nazi\", \"nb\", \"nb\", \"nb\", \"need\", \"need\", \"need\", \"need\", \"need\", \"need\", \"need\", \"need\", \"negotiation\", \"neutral\", \"neutral\", \"neutral\", \"neutral\", \"new\", \"new\", \"new\", \"new\", \"new\", \"new\", \"new\", \"new\", \"new\", \"new\", \"newsletter\", \"newsletter\", \"nhl\", \"nist\", \"nntp_posting\", \"nntp_posting\", \"nntp_posting\", \"nntp_posting\", \"nntp_posting\", \"nntp_posting\", \"nsa\", \"nubus\", \"nyr\", \"observatory\", \"oil\", \"oil\", \"oil\", \"oil\", \"okz\", \"one\", \"orbit\", \"orbital\", \"orbiter\", \"organization\", \"organization\", \"organization\", \"organization\", \"organization\", \"organization\", \"organization\", \"organization\", \"organization\", \"outlet\", \"outlet\", \"ozone\", \"page\", \"page\", \"page\", \"page\", \"page\", \"page\", \"pain\", \"pain\", \"pain\", \"palestinian\", \"part\", \"payload\", \"pc\", \"pc\", \"people\", \"people\", \"people\", \"people\", \"people\", \"people\", \"people\", \"period\", \"period\", \"period\", \"period\", \"period\", \"period\", \"period\", \"pgp\", \"phillie\", \"phone\", \"phone\", \"phone\", \"phone\", \"phone\", \"pick\", \"pick\", \"pick\", \"pick\", \"pick\", \"pick\", \"pioneer\", \"pit\", \"pitch\", \"pitch\", \"pitch\", \"pitcher\", \"pitching\", \"pl\", \"pl\", \"pl\", \"pl\", \"pl\", \"pl_pl\", \"planetary\", \"planetary\", \"play\", \"play\", \"play\", \"play\", \"play\", \"player\", \"player\", \"players\", \"playoff\", \"point\", \"point\", \"point\", \"point\", \"point\", \"point\", \"point\", \"point\", \"politics\", \"posting\", \"posting\", \"posting\", \"posting\", \"posting\", \"posting\", \"posting\", \"posting\", \"postscript\", \"power\", \"power\", \"power\", \"power\", \"power\", \"power\", \"power\", \"power\", \"priest\", \"printer\", \"privacy\", \"private\", \"private\", \"private\", \"private\", \"private\", \"probe\", \"probe\", \"probe\", \"problem\", \"problem\", \"problem\", \"problem\", \"problem\", \"problem\", \"problem\", \"processor\", \"program\", \"program\", \"program\", \"program\", \"project\", \"project\", \"project\", \"project\", \"project\", \"project\", \"prophecy\", \"prophet\", \"proposal\", \"proposal\", \"proposal\", \"proposal\", \"propulsion\", \"provide\", \"provide\", \"provide\", \"provide\", \"provide\", \"provide\", \"public\", \"public\", \"public\", \"public\", \"public\", \"puck\", \"put\", \"qax\", \"ql\", \"ql\", \"qq\", \"qs\", \"qs\", \"qs\", \"que\", \"question\", \"question\", \"question\", \"question\", \"question\", \"question\", \"question\", \"r\", \"racism\", \"radio\", \"radio\", \"radio\", \"radio\", \"radio\", \"ram\", \"re\", \"rear\", \"rear\", \"reason\", \"reason\", \"reason\", \"reason\", \"reason\", \"reason\", \"reasons\", \"reasons\", \"reasons\", \"receiver\", \"receiver\", \"receiver\", \"redesign\", \"religion\", \"religion\", \"religion\", \"religious\", \"religious\", \"religious\", \"religious\", \"reply\", \"reply\", \"reply\", \"reply\", \"reply\", \"reply\", \"reply\", \"reply\", \"reply\", \"reply\", \"research\", \"research\", \"research\", \"research\", \"research\", \"research\", \"research\", \"reserve_university\", \"resurrection\", \"revelation\", \"ride\", \"rider\", \"rider\", \"riding\", \"right\", \"right\", \"right\", \"right\", \"right\", \"right\", \"right\", \"right\", \"right\", \"ripem\", \"rk\", \"rk\", \"rlk\", \"rlk\", \"rmc\", \"road\", \"road\", \"road\", \"road\", \"road\", \"road\", \"road\", \"rocket\", \"rocket\", \"rocket\", \"rocket\", \"rsa\", \"run\", \"run\", \"run\", \"run\", \"run\", \"run\", \"russian\", \"russian\", \"russian\", \"russian\", \"russian\", \"s\", \"said\", \"said\", \"said\", \"said\", \"sale\", \"sale\", \"sale\", \"sale\", \"salvation\", \"satellite\", \"say\", \"says\", \"says\", \"says\", \"says\", \"says\", \"schneider\", \"schneider\", \"science\", \"science\", \"science\", \"science\", \"science\", \"science\", \"science\", \"science\", \"score\", \"score\", \"scoring\", \"screen\", \"screen\", \"scripture\", \"scsi\", \"season\", \"second\", \"second\", \"second\", \"second\", \"second\", \"second\", \"second\", \"second\", \"second\", \"secret\", \"secret\", \"secret\", \"secure\", \"secure\", \"security\", \"security\", \"security\", \"security\", \"see\", \"sell\", \"sell\", \"sell\", \"sell\", \"sell\", \"sell\", \"seminar\", \"serb\", \"serdar\", \"serdar_argic\", \"server\", \"server\", \"set\", \"set\", \"set\", \"set\", \"set\", \"set\", \"set\", \"set\", \"shark\", \"show\", \"shuttle\", \"signal\", \"signal\", \"signal\", \"signal\", \"simms\", \"sin\", \"sinus\", \"skipjack\", \"sl\", \"sl\", \"sl\", \"sl\", \"slaughter\", \"slaughter\", \"slaughter\", \"slavery\", \"software\", \"software\", \"software\", \"software\", \"software\", \"solar\", \"space\", \"space\", \"space\", \"space\", \"spacecraft\", \"speed\", \"speed\", \"speed\", \"speed\", \"speed\", \"speed\", \"stat\", \"stat\", \"state\", \"state\", \"state\", \"state\", \"state\", \"state\", \"state\", \"steam\", \"steer\", \"subjective\", \"sumgait\", \"surface\", \"surface\", \"surface\", \"surface\", \"surface\", \"surface\", \"take\", \"talking\", \"talking\", \"talking\", \"taxes\", \"team\", \"team\", \"team\", \"teams\", \"technology\", \"technology\", \"technology\", \"technology\", \"technology\", \"technology\", \"technology\", \"technology\", \"telescope\", \"telescope\", \"tell\", \"tell\", \"tell\", \"tell\", \"tell\", \"tell\", \"tg\", \"thats\", \"thats\", \"thats\", \"theist\", \"theology\", \"thermal\", \"theyve\", \"thing\", \"thing\", \"thing\", \"thing\", \"thing\", \"thing\", \"thing\", \"things\", \"things\", \"things\", \"things\", \"things\", \"think\", \"think\", \"think\", \"think\", \"think\", \"think\", \"thoughts\", \"tiger\", \"time\", \"time\", \"time\", \"time\", \"time\", \"time\", \"time\", \"time\", \"time\", \"times\", \"times\", \"times\", \"times\", \"times\", \"times\", \"tire\", \"tm\", \"tm\", \"tm\", \"tm\", \"tm\", \"tm\", \"tm\", \"told\", \"told\", \"toolkit\", \"tor\", \"tor\", \"tq\", \"transformer\", \"true\", \"true\", \"true\", \"true\", \"true\", \"true\", \"true\", \"true\", \"truth\", \"truth\", \"truth\", \"truth\", \"try\", \"try\", \"try\", \"try\", \"try\", \"try\", \"try\", \"turk\", \"turkey\", \"turkish\", \"turks\", \"turn\", \"turn\", \"turn\", \"turn\", \"turn\", \"turn\", \"turn\", \"uj\", \"um\", \"um\", \"um\", \"um\", \"university\", \"university\", \"university\", \"university\", \"university\", \"university\", \"university\", \"university\", \"university\", \"university\", \"upgrade\", \"upgrade\", \"uranium\", \"uuencode\", \"valve\", \"ve\", \"ve\", \"ve\", \"verse\", \"version\", \"version\", \"version\", \"version\", \"version\", \"version\", \"version\", \"version\", \"vga\", \"video\", \"video\", \"video\", \"video\", \"village\", \"village\", \"vitamin\", \"volt\", \"vz\", \"want\", \"want\", \"want\", \"want\", \"want\", \"want\", \"war\", \"war\", \"war\", \"wasnt\", \"wasnt\", \"wasnt\", \"water\", \"water\", \"water\", \"water\", \"way\", \"way\", \"way\", \"way\", \"way\", \"way\", \"way\", \"way\", \"weapon\", \"well\", \"werent\", \"weve\", \"weve\", \"wheel\", \"wheel\", \"widget\", \"win\", \"win\", \"win\", \"window\", \"window\", \"window\", \"window\", \"windows\", \"windows\", \"winner\", \"winner\", \"wire\", \"wire\", \"wire\", \"wire\", \"wire\", \"wiretap\", \"wiring\", \"wiring\", \"wm\", \"wm\", \"wm\", \"word\", \"word\", \"word\", \"word\", \"word\", \"work\", \"work\", \"work\", \"work\", \"work\", \"work\", \"work\", \"work\", \"workstation\", \"world\", \"world\", \"world\", \"world\", \"world\", \"world\", \"world\", \"world\", \"worship\", \"wouldnt\", \"wouldnt\", \"write\", \"write\", \"write\", \"writes\", \"writes\", \"writes\", \"wt\", \"xterm\", \"year\", \"year\", \"year\", \"year\", \"year\", \"year\", \"years\", \"years\", \"years\", \"years\", \"years\", \"years\", \"yes\", \"yes\", \"yes\", \"youre\", \"youre\", \"youre\", \"yx\", \"zd\", \"zd\", \"zionist\"]}, \"R\": 30, \"lambda.step\": 0.01, \"plot.opts\": {\"xlab\": \"PC1\", \"ylab\": \"PC2\"}, \"topic.order\": [7, 1, 9, 2, 3, 4, 8, 5, 6, 10]};\n",
              "\n",
              "function LDAvis_load_lib(url, callback){\n",
              "  var s = document.createElement('script');\n",
              "  s.src = url;\n",
              "  s.async = true;\n",
              "  s.onreadystatechange = s.onload = callback;\n",
              "  s.onerror = function(){console.warn(\"failed to load library \" + url);};\n",
              "  document.getElementsByTagName(\"head\")[0].appendChild(s);\n",
              "}\n",
              "\n",
              "if(typeof(LDAvis) !== \"undefined\"){\n",
              "   // already loaded: just create the visualization\n",
              "   !function(LDAvis){\n",
              "       new LDAvis(\"#\" + \"ldavis_el2581390424514352805205661427\", ldavis_el2581390424514352805205661427_data);\n",
              "   }(LDAvis);\n",
              "}else if(typeof define === \"function\" && define.amd){\n",
              "   // require.js is available: use it to load d3/LDAvis\n",
              "   require.config({paths: {d3: \"https://d3js.org/d3.v5\"}});\n",
              "   require([\"d3\"], function(d3){\n",
              "      window.d3 = d3;\n",
              "      LDAvis_load_lib(\"https://cdn.jsdelivr.net/gh/bmabey/pyLDAvis@3.4.0/pyLDAvis/js/ldavis.v3.0.0.js\", function(){\n",
              "        new LDAvis(\"#\" + \"ldavis_el2581390424514352805205661427\", ldavis_el2581390424514352805205661427_data);\n",
              "      });\n",
              "    });\n",
              "}else{\n",
              "    // require.js not available: dynamically load d3 & LDAvis\n",
              "    LDAvis_load_lib(\"https://d3js.org/d3.v5.js\", function(){\n",
              "         LDAvis_load_lib(\"https://cdn.jsdelivr.net/gh/bmabey/pyLDAvis@3.4.0/pyLDAvis/js/ldavis.v3.0.0.js\", function(){\n",
              "                 new LDAvis(\"#\" + \"ldavis_el2581390424514352805205661427\", ldavis_el2581390424514352805205661427_data);\n",
              "            })\n",
              "         });\n",
              "}\n",
              "</script>"
            ]
          },
          "metadata": {},
          "execution_count": 36
        }
      ]
    }
  ]
}